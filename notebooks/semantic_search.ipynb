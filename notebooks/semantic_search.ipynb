{
 "cells": [
  {
   "cell_type": "code",
   "id": "aGixSoAgIzLo",
   "metadata": {
    "id": "aGixSoAgIzLo",
    "scrolled": true,
    "jupyter": {
     "is_executing": true
    }
   },
   "source": [
    "!pip install pinecone-client openai sentence-transformers tiktoken datasets"
   ],
   "outputs": [],
   "execution_count": null
  },
  {
   "cell_type": "code",
   "execution_count": 1,
   "id": "c12182ab",
   "metadata": {
    "id": "c12182ab"
   },
   "outputs": [],
   "source": [
    "from openai import OpenAI\n",
    "from datetime import datetime\n",
    "import hashlib\n",
    "import re\n",
    "import os\n",
    "from sentence_transformers import CrossEncoder\n",
    "\n",
    "\n",
    "from tqdm import tqdm\n",
    "import numpy as np\n",
    "from torch import nn\n",
    "\n",
    "import logging\n",
    "from pinecone import Pinecone, ServerlessSpec\n",
    "\n",
    "logger = logging.getLogger()\n",
    "logger.setLevel(logging.DEBUG)\n"
   ]
  },
  {
   "cell_type": "markdown",
   "id": "793a562a-af04-46a4-ae9d-7ad1e1b6ea72",
   "metadata": {},
   "source": [
    "# Getting Started with Semantic Search"
   ]
  },
  {
   "cell_type": "code",
   "execution_count": 4,
   "id": "f0289c54",
   "metadata": {
    "id": "f0289c54"
   },
   "outputs": [],
   "source": [
    "pinecone_key = os.environ.get('PINECONE_API_KEY')\n",
    "client = OpenAI(\n",
    "    api_key=os.environ.get(\"OPENAI_API_KEY\")\n",
    ")\n",
    "\n",
    "INDEX_NAME = 'semantic-search-health-idx'\n",
    "NAMESPACE = 'default'\n",
    "ENGINE = 'text-embedding-3-large'  # has size 3072\n",
    "\n",
    "pc = Pinecone(\n",
    "    api_key=pinecone_key\n",
    ")"
   ]
  },
  {
   "cell_type": "code",
   "execution_count": 5,
   "id": "3cf993a3-6d51-49f4-8968-60f654d6202d",
   "metadata": {
    "colab": {
     "base_uri": "https://localhost:8080/"
    },
    "id": "3cf993a3-6d51-49f4-8968-60f654d6202d",
    "outputId": "12a29199-9a84-4855-f07f-7979b15a718b"
   },
   "outputs": [
    {
     "data": {
      "text/plain": [
       "(3072, 2)"
      ]
     },
     "execution_count": 5,
     "metadata": {},
     "output_type": "execute_result"
    }
   ],
   "source": [
    "# helper functions to get lists of embeddings from the OpenAI API\n",
    "def get_embeddings(texts, engine=ENGINE):\n",
    "    response = client.embeddings.create(\n",
    "        input=texts,\n",
    "        model=engine\n",
    "    )\n",
    "\n",
    "    return [d.embedding for d in list(response.data)]\n",
    "\n",
    "def get_embedding(text, engine=ENGINE):\n",
    "    return get_embeddings([text], engine)[0]\n",
    "\n",
    "len(get_embedding('hi')), len(get_embeddings(['hi', 'hello']))"
   ]
  },
  {
   "cell_type": "code",
   "execution_count": 6,
   "id": "ea70672a",
   "metadata": {
    "colab": {
     "base_uri": "https://localhost:8080/"
    },
    "id": "ea70672a",
    "outputId": "7ba237ca-f93f-4a8b-83a1-5133a33b3080"
   },
   "outputs": [
    {
     "data": {
      "text/plain": [
       "<pinecone.data.index.Index at 0x28d568890>"
      ]
     },
     "execution_count": 6,
     "metadata": {},
     "output_type": "execute_result"
    }
   ],
   "source": [
    "if INDEX_NAME not in pc.list_indexes().names():\n",
    "    print(f'Creating index {INDEX_NAME}')\n",
    "    pc.create_index(\n",
    "        name=INDEX_NAME,  # The name of the index\n",
    "        dimension=3072,  # The dimensionality of the vectors for our OpenAI embedder\n",
    "        metric='cosine',  # The similarity metric to use when searching the index\n",
    "        spec=ServerlessSpec(\n",
    "            cloud='aws',\n",
    "            region='us-west-2'\n",
    "        )\n",
    "    )\n",
    "\n",
    "# Store the index as a variable\n",
    "index = pc.Index(name=INDEX_NAME)\n",
    "index"
   ]
  },
  {
   "cell_type": "code",
   "execution_count": 7,
   "id": "b6103d6c",
   "metadata": {
    "colab": {
     "base_uri": "https://localhost:8080/"
    },
    "id": "b6103d6c",
    "outputId": "549365a0-a4ee-4dff-b20e-8d2e07c97e13"
   },
   "outputs": [
    {
     "data": {
      "text/plain": [
       "{'dimension': 3072,\n",
       " 'index_fullness': 0.0,\n",
       " 'namespaces': {},\n",
       " 'total_vector_count': 0}"
      ]
     },
     "execution_count": 7,
     "metadata": {},
     "output_type": "execute_result"
    }
   ],
   "source": [
    "index.describe_index_stats()"
   ]
  },
  {
   "cell_type": "code",
   "execution_count": 11,
   "id": "7f2fdfe7",
   "metadata": {
    "colab": {
     "base_uri": "https://localhost:8080/",
     "height": 35
    },
    "id": "7f2fdfe7",
    "outputId": "4c41491f-5ce8-415e-f792-e149e470b267"
   },
   "outputs": [
    {
     "data": {
      "text/plain": [
       "'ae76cc4dfd345ecaeea9b8ba0d5c3437'"
      ]
     },
     "execution_count": 11,
     "metadata": {},
     "output_type": "execute_result"
    }
   ],
   "source": [
    "def my_hash(s):\n",
    "    # Return the MD5 hash of the input string as a hexadecimal string\n",
    "    return hashlib.md5(s.encode()).hexdigest()\n",
    "\n",
    "my_hash('I love to hash it')"
   ]
  },
  {
   "cell_type": "code",
   "execution_count": 12,
   "id": "ecd86f51",
   "metadata": {
    "id": "ecd86f51"
   },
   "outputs": [],
   "source": [
    "def prepare_for_pinecone(texts, engine=ENGINE):\n",
    "    # Get the current UTC date and time\n",
    "    now = datetime.utcnow()\n",
    "\n",
    "    # Generate vector embeddings for each string in the input list, using the specified engine\n",
    "    embeddings = get_embeddings(texts, engine=engine)\n",
    "\n",
    "    # Create tuples of (hash, embedding, metadata) for each input string and its corresponding vector embedding\n",
    "    # The my_hash() function is used to generate a unique hash for each string, and the datetime.utcnow() function is used to generate the current UTC date and time\n",
    "    return [\n",
    "        (\n",
    "            my_hash(text),  # A unique ID for each string, generated using the my_hash() function\n",
    "            embedding,  # The vector embedding of the string\n",
    "            dict(text=text, date_uploaded=now)  # A dictionary of metadata, including the original text and the current UTC date and time\n",
    "        )\n",
    "        for text, embedding in zip(texts, embeddings)  # Iterate over each input string and its corresponding vector embedding\n",
    "    ]\n"
   ]
  },
  {
   "cell_type": "code",
   "execution_count": 33,
   "id": "4c40d99a",
   "metadata": {
    "id": "4c40d99a"
   },
   "outputs": [],
   "source": [
    "texts = ['hi']"
   ]
  },
  {
   "cell_type": "code",
   "execution_count": 34,
   "id": "3e1b73f3",
   "metadata": {
    "colab": {
     "base_uri": "https://localhost:8080/"
    },
    "id": "3e1b73f3",
    "outputId": "eeba3b54-c2e5-481c-f340-3e3802c79b38"
   },
   "outputs": [
    {
     "name": "stdout",
     "output_type": "stream",
     "text": [
      "ID:   49f68a5c8493ec2c0bf489821c21fc3b \n",
      "LEN:  3072 \n",
      "META: {'text': 'hi', 'date_uploaded': datetime.datetime(2024, 4, 3, 14, 55, 29, 838076)}\n"
     ]
    }
   ],
   "source": [
    "_id, embedding, metadata = prepare_for_pinecone(texts)[0]\n",
    "\n",
    "print('ID:  ',_id, '\\nLEN: ', len(embedding), '\\nMETA:', metadata)"
   ]
  },
  {
   "cell_type": "markdown",
   "id": "357e1ce3-99d3-4517-abea-045ce72bbb35",
   "metadata": {},
   "source": [
    "## Uploading Text to our DB"
   ]
  },
  {
   "cell_type": "code",
   "execution_count": 35,
   "id": "bf47aabd",
   "metadata": {
    "colab": {
     "base_uri": "https://localhost:8080/"
    },
    "id": "bf47aabd",
    "outputId": "0cdc3643-d204-4d4f-9ed4-3f632a4328fb"
   },
   "outputs": [
    {
     "data": {
      "text/plain": [
       "1"
      ]
     },
     "execution_count": 35,
     "metadata": {},
     "output_type": "execute_result"
    }
   ],
   "source": [
    "def upload_texts_to_pinecone(texts, namespace=NAMESPACE, batch_size=None, show_progress_bar=False):\n",
    "    # Call the prepare_for_pinecone function to prepare the input texts for indexing\n",
    "    total_upserted = 0\n",
    "    if not batch_size:\n",
    "        batch_size = len(texts)\n",
    "\n",
    "    _range = range(0, len(texts), batch_size)\n",
    "    for i in tqdm(_range) if show_progress_bar else _range:\n",
    "        batch = texts[i: i + batch_size]\n",
    "        prepared_texts = prepare_for_pinecone(batch)\n",
    "\n",
    "        # Use the upsert() method of the index object to upload the prepared texts to Pinecone\n",
    "        total_upserted += index.upsert(\n",
    "            vectors=prepared_texts,\n",
    "            namespace=namespace\n",
    "        )['upserted_count']\n",
    "\n",
    "\n",
    "    return total_upserted\n",
    "\n",
    "# Call the upload_texts_to_pinecone() function with the input texts\n",
    "upload_texts_to_pinecone(texts)\n"
   ]
  },
  {
   "cell_type": "code",
   "execution_count": 36,
   "id": "b65cb2e1-f67d-4606-b0ff-c7b67aab04d8",
   "metadata": {
    "colab": {
     "base_uri": "https://localhost:8080/"
    },
    "id": "b65cb2e1-f67d-4606-b0ff-c7b67aab04d8",
    "outputId": "721bfc5a-bf16-44f5-fd8e-5b8fddb3ef95"
   },
   "outputs": [
    {
     "data": {
      "text/plain": [
       "{'dimension': 3072,\n",
       " 'index_fullness': 0.0,\n",
       " 'namespaces': {},\n",
       " 'total_vector_count': 0}"
      ]
     },
     "execution_count": 36,
     "metadata": {},
     "output_type": "execute_result"
    }
   ],
   "source": [
    "index.describe_index_stats()"
   ]
  },
  {
   "cell_type": "code",
   "execution_count": 37,
   "id": "f64fa0cb-d704-42ef-b06f-5ac882a3a55a",
   "metadata": {
    "colab": {
     "base_uri": "https://localhost:8080/"
    },
    "id": "f64fa0cb-d704-42ef-b06f-5ac882a3a55a",
    "outputId": "a20a6143-23e8-4f97-dd10-d4314c125bdb"
   },
   "outputs": [
    {
     "data": {
      "text/plain": [
       "['hi']"
      ]
     },
     "execution_count": 37,
     "metadata": {},
     "output_type": "execute_result"
    }
   ],
   "source": [
    "texts"
   ]
  },
  {
   "cell_type": "code",
   "execution_count": 38,
   "id": "e8ed7e8e",
   "metadata": {
    "colab": {
     "base_uri": "https://localhost:8080/"
    },
    "id": "e8ed7e8e",
    "outputId": "35c9667c-897b-450e-a630-022d74ca868e"
   },
   "outputs": [
    {
     "data": {
      "text/plain": [
       "[]"
      ]
     },
     "execution_count": 38,
     "metadata": {},
     "output_type": "execute_result"
    }
   ],
   "source": [
    "def query_from_pinecone(query, top_k=3, include_metadata=True):\n",
    "    # get embedding from THE SAME embedder as the documents\n",
    "    query_embedding = get_embedding(query, engine=ENGINE)\n",
    "\n",
    "    return index.query(\n",
    "      vector=query_embedding,\n",
    "      top_k=top_k,\n",
    "      namespace=NAMESPACE,\n",
    "      include_metadata=include_metadata   # gets the metadata (dates, text, etc)\n",
    "    ).get('matches')\n",
    "\n",
    "query_from_pinecone('hello', top_k=1)"
   ]
  },
  {
   "cell_type": "code",
   "execution_count": 19,
   "id": "84a0871f",
   "metadata": {
    "colab": {
     "base_uri": "https://localhost:8080/"
    },
    "id": "84a0871f",
    "outputId": "cf32ed08-348f-4be0-a647-cf0546ca0c2d"
   },
   "outputs": [
    {
     "data": {
      "text/plain": [
       "[]"
      ]
     },
     "execution_count": 19,
     "metadata": {},
     "output_type": "execute_result"
    }
   ],
   "source": [
    "import hashlib\n",
    "\n",
    "def delete_texts_from_pinecone(texts, namespace=NAMESPACE):\n",
    "    # Compute the hash (id) for each text\n",
    "    hashes = [hashlib.md5(text.encode()).hexdigest() for text in texts]\n",
    "\n",
    "    # The ids parameter is used to specify the list of IDs (hashes) to delete\n",
    "    return index.delete(ids=hashes, namespace=namespace)\n",
    "\n",
    "# delete our text\n",
    "delete_texts_from_pinecone(texts)\n",
    "\n",
    "# test that the index is empty\n",
    "query_from_pinecone('hello')"
   ]
  },
  {
   "cell_type": "code",
   "execution_count": 40,
   "id": "72729603",
   "metadata": {
    "colab": {
     "base_uri": "https://localhost:8080/"
    },
    "id": "72729603",
    "outputId": "52312e5a-09d2-4047-c87d-02577e6a8089"
   },
   "outputs": [
    {
     "data": {
      "text/plain": [
       "[36661, 1070]"
      ]
     },
     "execution_count": 40,
     "metadata": {},
     "output_type": "execute_result"
    }
   ],
   "source": [
    "# Importing the tiktoken library\n",
    "import tiktoken\n",
    "\n",
    "# Initializing a tokenizer for the 'cl100k_base' model\n",
    "# This tokenizer is designed to work with the 'ada-002' embedding model\n",
    "tokenizer = tiktoken.get_encoding(\"cl100k_base\")\n",
    "\n",
    "# Using the tokenizer to encode the text 'hey there'\n",
    "# The resulting output is a list of integers representing the encoded text\n",
    "# This is the input format required for embedding using the 'ada-002' model\n",
    "tokenizer.encode('hey there')\n"
   ]
  },
  {
   "cell_type": "code",
   "execution_count": null,
   "id": "bbc147d8",
   "metadata": {
    "id": "bbc147d8"
   },
   "outputs": [],
   "source": []
  },
  {
   "cell_type": "markdown",
   "id": "6d7ed0ec-0db5-4cad-b867-4c0b528b63ed",
   "metadata": {},
   "source": [
    "# Chunking"
   ]
  },
  {
   "cell_type": "code",
   "execution_count": 41,
   "id": "84f34d65",
   "metadata": {
    "id": "84f34d65"
   },
   "outputs": [],
   "source": [
    "# Function to split the text into chunks of a maximum number of tokens. Inspired by OpenAI\n",
    "def overlapping_chunks(text, max_tokens = 500, overlapping_factor = 5):\n",
    "    '''\n",
    "    max_tokens: tokens we want per chunk\n",
    "    overlapping_factor: number of sentences to start each chunk with that overlaps with the previous chunk\n",
    "    '''\n",
    "\n",
    "    # Split the text using punctuation\n",
    "    sentences = re.split(r'[.?!]', text)\n",
    "\n",
    "    # Get the number of tokens for each sentence\n",
    "    n_tokens = [len(tokenizer.encode(\" \" + sentence)) for sentence in sentences]\n",
    "\n",
    "    chunks, tokens_so_far, chunk = [], 0, []\n",
    "\n",
    "    # Loop through the sentences and tokens joined together in a tuple\n",
    "    for sentence, token in zip(sentences, n_tokens):\n",
    "\n",
    "        # If the number of tokens so far plus the number of tokens in the current sentence is greater\n",
    "        # than the max number of tokens, then add the chunk to the list of chunks and reset\n",
    "        # the chunk and tokens so far\n",
    "        if tokens_so_far + token > max_tokens:\n",
    "            chunks.append(\". \".join(chunk) + \".\")\n",
    "            if overlapping_factor > 0:\n",
    "                chunk = chunk[-overlapping_factor:]\n",
    "                tokens_so_far = sum([len(tokenizer.encode(c)) for c in chunk])\n",
    "            else:\n",
    "                chunk = []\n",
    "                tokens_so_far = 0\n",
    "\n",
    "        # If the number of tokens in the current sentence is greater than the max number of\n",
    "        # tokens, go to the next sentence\n",
    "        if token > max_tokens:\n",
    "            continue\n",
    "\n",
    "        # Otherwise, add the sentence to the chunk and add the number of tokens to the total\n",
    "        chunk.append(sentence)\n",
    "        tokens_so_far += token + 1\n",
    "    if chunk:\n",
    "        chunks.append(\". \".join(chunk) + \".\")\n",
    "\n",
    "    return chunks"
   ]
  },
  {
   "cell_type": "code",
   "execution_count": 42,
   "id": "3164e0ba",
   "metadata": {
    "id": "3164e0ba"
   },
   "outputs": [
    {
     "name": "stderr",
     "output_type": "stream",
     "text": [
      "100%|██████████████████████████████████████████████████████████████████████████████████| 428/428 [06:28<00:00,  1.10it/s]"
     ]
    },
    {
     "name": "stdout",
     "output_type": "stream",
     "text": [
      "575490\n"
     ]
    },
    {
     "name": "stderr",
     "output_type": "stream",
     "text": [
      "\n"
     ]
    }
   ],
   "source": [
    "import PyPDF2\n",
    "\n",
    "# Open the PDF file in read-binary mode\n",
    "with open('../data/pds2.pdf', 'rb') as file:\n",
    "\n",
    "    # Create a PDF reader object\n",
    "    reader = PyPDF2.PdfReader(file)\n",
    "\n",
    "    # Initialize an empty string to hold the text\n",
    "    principles_of_ds = ''\n",
    "    # Loop through each page in the PDF file\n",
    "    for page in tqdm(reader.pages):\n",
    "        text = page.extract_text()\n",
    "        principles_of_ds += '\\n\\n' + text[text.find(' ]')+2:]\n",
    "\n",
    "# Print the final string containing all the text from the PDF file\n",
    "principles_of_ds = principles_of_ds.strip()\n",
    "\n",
    "print(len(principles_of_ds))\n"
   ]
  },
  {
   "cell_type": "code",
   "execution_count": 43,
   "id": "dfdac6ff",
   "metadata": {
    "id": "dfdac6ff"
   },
   "outputs": [
    {
     "name": "stdout",
     "output_type": "stream",
     "text": [
      "non-overlapping chunking approach has 286 documents with average length 474.1 tokens\n"
     ]
    }
   ],
   "source": [
    "split = overlapping_chunks(principles_of_ds, overlapping_factor=0)\n",
    "avg_length = sum([len(tokenizer.encode(t)) for t in split]) / len(split)\n",
    "print(f'non-overlapping chunking approach has {len(split)} documents with average length {avg_length:.1f} tokens')"
   ]
  },
  {
   "cell_type": "code",
   "execution_count": null,
   "id": "1d0d7b21-c1f5-4b37-b430-85b966107b6b",
   "metadata": {},
   "outputs": [],
   "source": []
  },
  {
   "cell_type": "code",
   "execution_count": 44,
   "id": "1730b34b",
   "metadata": {
    "id": "1730b34b"
   },
   "outputs": [
    {
     "name": "stdout",
     "output_type": "stream",
     "text": [
      "overlapping chunking approach has 392 documents with average length 485.2 tokens\n"
     ]
    }
   ],
   "source": [
    "split = overlapping_chunks(principles_of_ds)\n",
    "avg_length = sum([len(tokenizer.encode(t)) for t in split]) / len(split)\n",
    "print(f'overlapping chunking approach has {len(split)} documents with average length {avg_length:.1f} tokens')"
   ]
  },
  {
   "cell_type": "code",
   "execution_count": null,
   "id": "758cb1ff",
   "metadata": {
    "id": "758cb1ff"
   },
   "outputs": [],
   "source": []
  },
  {
   "cell_type": "code",
   "execution_count": 45,
   "id": "7fc7dc10",
   "metadata": {
    "id": "7fc7dc10"
   },
   "outputs": [
    {
     "name": "stdout",
     "output_type": "stream",
     "text": [
      "[(' ', 82259), ('\\n', 9220), ('  ', 1592), ('\\n\\n', 333), ('\\n   ', 250), ('\\n\\n\\n', 82), ('\\n    ', 73), ('\\n ', 46), (' \\n', 39), ('     ', 34)]\n"
     ]
    }
   ],
   "source": [
    "# Importing the Counter and re libraries\n",
    "from collections import Counter\n",
    "import re\n",
    "\n",
    "# Find all occurrences of one or more spaces in 'principles_of_ds'\n",
    "matches = re.findall(r'[\\s]{1,}', principles_of_ds)\n",
    "\n",
    "# The 10 most frequent spaces that occur in the document\n",
    "most_common_spaces = Counter(matches).most_common(10)\n",
    "\n",
    "# Print the most common spaces and their frequencies\n",
    "print(most_common_spaces)\n"
   ]
  },
  {
   "cell_type": "code",
   "execution_count": 46,
   "id": "63ccc253",
   "metadata": {
    "id": "63ccc253"
   },
   "outputs": [
    {
     "name": "stdout",
     "output_type": "stream",
     "text": [
      "custom delimiter approach has 426 documents with average length 316.3 tokens\n"
     ]
    }
   ],
   "source": [
    "# Only keep documents of at least 100 characters split by a custom delimiter\n",
    "split = list(filter(lambda x: len(x) > 50, principles_of_ds.split('\\n\\n')))\n",
    "\n",
    "avg_length = sum([len(tokenizer.encode(t)) for t in split]) / len(split)\n",
    "print(f'custom delimiter approach has {len(split)} documents with average length {avg_length:.1f} tokens')"
   ]
  },
  {
   "cell_type": "code",
   "execution_count": 47,
   "id": "2480fe3c",
   "metadata": {
    "id": "2480fe3c"
   },
   "outputs": [
    {
     "name": "stderr",
     "output_type": "stream",
     "text": [
      "100%|██████████████████████████████████████████████████████████████████████████████████████| 5/5 [00:04<00:00,  1.00it/s]\n"
     ]
    }
   ],
   "source": [
    "embeddings = None\n",
    "for s in tqdm(range(0, len(split), 100)):\n",
    "    if embeddings is None:\n",
    "        embeddings = np.array(get_embeddings(split[s:s+100], engine=ENGINE))\n",
    "    else:\n",
    "        embeddings = np.vstack([embeddings, np.array(get_embeddings(split[s:s+100], engine=ENGINE))])\n"
   ]
  },
  {
   "cell_type": "code",
   "execution_count": 63,
   "id": "8d6f0d09-5f2c-42e0-bddf-f98c042744f1",
   "metadata": {},
   "outputs": [
    {
     "data": {
      "text/plain": [
       "0.2974705542613624"
      ]
     },
     "execution_count": 63,
     "metadata": {},
     "output_type": "execute_result"
    }
   ],
   "source": [
    "np.percentile(cosine_sim_matrix.flatten(), 50)"
   ]
  },
  {
   "cell_type": "code",
   "execution_count": null,
   "id": "685dc753-ef49-40c9-853f-3eab38f60d09",
   "metadata": {},
   "outputs": [],
   "source": []
  },
  {
   "cell_type": "code",
   "execution_count": 64,
   "id": "1cfe8fd2",
   "metadata": {
    "id": "1cfe8fd2",
    "scrolled": true
   },
   "outputs": [
    {
     "name": "stdout",
     "output_type": "stream",
     "text": [
      "Cluster 0: 3 embeddings\n",
      "Cluster 1: 2 embeddings\n",
      "Cluster 2: 2 embeddings\n",
      "Cluster 3: 2 embeddings\n",
      "Cluster 4: 3 embeddings\n",
      "Cluster 5: 2 embeddings\n",
      "Cluster 6: 3 embeddings\n",
      "Cluster 7: 2 embeddings\n",
      "Cluster 8: 2 embeddings\n",
      "Cluster 9: 3 embeddings\n",
      "Cluster 10: 2 embeddings\n",
      "Cluster 11: 2 embeddings\n",
      "Cluster 12: 2 embeddings\n",
      "Cluster 13: 2 embeddings\n",
      "Cluster 14: 2 embeddings\n",
      "Cluster 15: 2 embeddings\n",
      "Cluster 16: 2 embeddings\n",
      "Cluster 17: 3 embeddings\n",
      "Cluster 18: 2 embeddings\n",
      "Cluster 19: 2 embeddings\n",
      "Cluster 20: 2 embeddings\n",
      "Cluster 21: 2 embeddings\n",
      "Cluster 22: 2 embeddings\n",
      "Cluster 23: 3 embeddings\n",
      "Cluster 24: 3 embeddings\n",
      "Cluster 25: 2 embeddings\n",
      "Cluster 26: 2 embeddings\n",
      "Cluster 27: 2 embeddings\n",
      "Cluster 28: 2 embeddings\n",
      "Cluster 29: 2 embeddings\n",
      "Cluster 30: 2 embeddings\n",
      "Cluster 31: 2 embeddings\n",
      "Cluster 32: 2 embeddings\n",
      "Cluster 33: 3 embeddings\n",
      "Cluster 34: 2 embeddings\n",
      "Cluster 35: 2 embeddings\n",
      "Cluster 36: 2 embeddings\n",
      "Cluster 37: 2 embeddings\n",
      "Cluster 38: 2 embeddings\n",
      "Cluster 39: 2 embeddings\n",
      "Cluster 40: 2 embeddings\n",
      "Cluster 41: 2 embeddings\n",
      "Cluster 42: 2 embeddings\n",
      "Cluster 43: 2 embeddings\n",
      "Cluster 44: 2 embeddings\n",
      "Cluster 45: 2 embeddings\n",
      "Cluster 46: 3 embeddings\n",
      "Cluster 47: 2 embeddings\n",
      "Cluster 48: 3 embeddings\n",
      "Cluster 49: 3 embeddings\n",
      "Cluster 50: 2 embeddings\n",
      "Cluster 51: 2 embeddings\n",
      "Cluster 52: 2 embeddings\n",
      "Cluster 53: 2 embeddings\n",
      "Cluster 54: 2 embeddings\n",
      "Cluster 55: 2 embeddings\n",
      "Cluster 56: 3 embeddings\n",
      "Cluster 57: 2 embeddings\n",
      "Cluster 58: 2 embeddings\n",
      "Cluster 59: 2 embeddings\n",
      "Cluster 60: 2 embeddings\n",
      "Cluster 61: 2 embeddings\n",
      "Cluster 62: 1 embeddings\n",
      "Cluster 63: 2 embeddings\n",
      "Cluster 64: 2 embeddings\n",
      "Cluster 65: 2 embeddings\n",
      "Cluster 66: 1 embeddings\n",
      "Cluster 67: 2 embeddings\n",
      "Cluster 68: 1 embeddings\n",
      "Cluster 69: 2 embeddings\n",
      "Cluster 70: 2 embeddings\n",
      "Cluster 71: 3 embeddings\n",
      "Cluster 72: 3 embeddings\n",
      "Cluster 73: 2 embeddings\n",
      "Cluster 74: 1 embeddings\n",
      "Cluster 75: 2 embeddings\n",
      "Cluster 76: 2 embeddings\n",
      "Cluster 77: 2 embeddings\n",
      "Cluster 78: 2 embeddings\n",
      "Cluster 79: 2 embeddings\n",
      "Cluster 80: 1 embeddings\n",
      "Cluster 81: 1 embeddings\n",
      "Cluster 82: 2 embeddings\n",
      "Cluster 83: 2 embeddings\n",
      "Cluster 84: 3 embeddings\n",
      "Cluster 85: 2 embeddings\n",
      "Cluster 86: 2 embeddings\n",
      "Cluster 87: 2 embeddings\n",
      "Cluster 88: 1 embeddings\n",
      "Cluster 89: 1 embeddings\n",
      "Cluster 90: 1 embeddings\n",
      "Cluster 91: 2 embeddings\n",
      "Cluster 92: 2 embeddings\n",
      "Cluster 93: 2 embeddings\n",
      "Cluster 94: 3 embeddings\n",
      "Cluster 95: 1 embeddings\n",
      "Cluster 96: 2 embeddings\n",
      "Cluster 97: 3 embeddings\n",
      "Cluster 98: 2 embeddings\n",
      "Cluster 99: 2 embeddings\n",
      "Cluster 100: 2 embeddings\n",
      "Cluster 101: 2 embeddings\n",
      "Cluster 102: 3 embeddings\n",
      "Cluster 103: 1 embeddings\n",
      "Cluster 104: 2 embeddings\n",
      "Cluster 105: 2 embeddings\n",
      "Cluster 106: 1 embeddings\n",
      "Cluster 107: 2 embeddings\n",
      "Cluster 108: 2 embeddings\n",
      "Cluster 109: 2 embeddings\n",
      "Cluster 110: 1 embeddings\n",
      "Cluster 111: 1 embeddings\n",
      "Cluster 112: 1 embeddings\n",
      "Cluster 113: 1 embeddings\n",
      "Cluster 114: 2 embeddings\n",
      "Cluster 115: 2 embeddings\n",
      "Cluster 116: 1 embeddings\n",
      "Cluster 117: 1 embeddings\n",
      "Cluster 118: 2 embeddings\n",
      "Cluster 119: 1 embeddings\n",
      "Cluster 120: 1 embeddings\n",
      "Cluster 121: 1 embeddings\n",
      "Cluster 122: 2 embeddings\n",
      "Cluster 123: 1 embeddings\n",
      "Cluster 124: 1 embeddings\n",
      "Cluster 125: 1 embeddings\n",
      "Cluster 126: 1 embeddings\n",
      "Cluster 127: 1 embeddings\n",
      "Cluster 128: 1 embeddings\n",
      "Cluster 129: 1 embeddings\n",
      "Cluster 130: 1 embeddings\n",
      "Cluster 131: 1 embeddings\n",
      "Cluster 132: 1 embeddings\n",
      "Cluster 133: 1 embeddings\n",
      "Cluster 134: 1 embeddings\n",
      "Cluster 135: 2 embeddings\n",
      "Cluster 136: 2 embeddings\n",
      "Cluster 137: 1 embeddings\n",
      "Cluster 138: 1 embeddings\n",
      "Cluster 139: 1 embeddings\n",
      "Cluster 140: 1 embeddings\n",
      "Cluster 141: 1 embeddings\n",
      "Cluster 142: 1 embeddings\n",
      "Cluster 143: 1 embeddings\n",
      "Cluster 144: 1 embeddings\n",
      "Cluster 145: 1 embeddings\n",
      "Cluster 146: 1 embeddings\n",
      "Cluster 147: 1 embeddings\n",
      "Cluster 148: 1 embeddings\n",
      "Cluster 149: 1 embeddings\n",
      "Cluster 150: 1 embeddings\n",
      "Cluster 151: 1 embeddings\n",
      "Cluster 152: 1 embeddings\n",
      "Cluster 153: 1 embeddings\n",
      "Cluster 154: 1 embeddings\n",
      "Cluster 155: 1 embeddings\n",
      "Cluster 156: 3 embeddings\n",
      "Cluster 157: 1 embeddings\n",
      "Cluster 158: 1 embeddings\n",
      "Cluster 159: 1 embeddings\n",
      "Cluster 160: 1 embeddings\n",
      "Cluster 161: 1 embeddings\n",
      "Cluster 162: 1 embeddings\n",
      "Cluster 163: 1 embeddings\n",
      "Cluster 164: 1 embeddings\n",
      "Cluster 165: 1 embeddings\n",
      "Cluster 166: 1 embeddings\n",
      "Cluster 167: 1 embeddings\n",
      "Cluster 168: 1 embeddings\n",
      "Cluster 169: 1 embeddings\n",
      "Cluster 170: 1 embeddings\n",
      "Cluster 171: 2 embeddings\n",
      "Cluster 172: 1 embeddings\n",
      "Cluster 173: 1 embeddings\n",
      "Cluster 174: 1 embeddings\n",
      "Cluster 175: 1 embeddings\n",
      "Cluster 176: 1 embeddings\n",
      "Cluster 177: 1 embeddings\n",
      "Cluster 178: 1 embeddings\n",
      "Cluster 179: 1 embeddings\n",
      "Cluster 180: 1 embeddings\n",
      "Cluster 181: 1 embeddings\n",
      "Cluster 182: 1 embeddings\n",
      "Cluster 183: 1 embeddings\n",
      "Cluster 184: 1 embeddings\n",
      "Cluster 185: 1 embeddings\n",
      "Cluster 186: 2 embeddings\n",
      "Cluster 187: 1 embeddings\n",
      "Cluster 188: 1 embeddings\n",
      "Cluster 189: 1 embeddings\n",
      "Cluster 190: 1 embeddings\n",
      "Cluster 191: 1 embeddings\n",
      "Cluster 192: 1 embeddings\n",
      "Cluster 193: 1 embeddings\n",
      "Cluster 194: 1 embeddings\n",
      "Cluster 195: 3 embeddings\n",
      "Cluster 196: 1 embeddings\n",
      "Cluster 197: 2 embeddings\n",
      "Cluster 198: 1 embeddings\n",
      "Cluster 199: 1 embeddings\n",
      "Cluster 200: 2 embeddings\n",
      "Cluster 201: 1 embeddings\n",
      "Cluster 202: 2 embeddings\n",
      "Cluster 203: 2 embeddings\n",
      "Cluster 204: 1 embeddings\n",
      "Cluster 205: 1 embeddings\n",
      "Cluster 206: 1 embeddings\n",
      "Cluster 207: 1 embeddings\n",
      "Cluster 208: 1 embeddings\n",
      "Cluster 209: 1 embeddings\n",
      "Cluster 210: 1 embeddings\n",
      "Cluster 211: 1 embeddings\n",
      "Cluster 212: 2 embeddings\n",
      "Cluster 213: 1 embeddings\n",
      "Cluster 214: 1 embeddings\n",
      "Cluster 215: 1 embeddings\n",
      "Cluster 216: 1 embeddings\n",
      "Cluster 217: 1 embeddings\n",
      "Cluster 218: 1 embeddings\n",
      "Cluster 219: 1 embeddings\n",
      "Cluster 220: 1 embeddings\n",
      "Cluster 221: 1 embeddings\n",
      "Cluster 222: 1 embeddings\n",
      "Cluster 223: 1 embeddings\n",
      "Cluster 224: 1 embeddings\n",
      "Cluster 225: 1 embeddings\n",
      "Cluster 226: 1 embeddings\n",
      "Cluster 227: 1 embeddings\n",
      "Cluster 228: 1 embeddings\n",
      "Cluster 229: 1 embeddings\n",
      "Cluster 230: 1 embeddings\n",
      "Cluster 231: 1 embeddings\n",
      "Cluster 232: 1 embeddings\n",
      "Cluster 233: 1 embeddings\n",
      "Cluster 234: 1 embeddings\n",
      "Cluster 235: 1 embeddings\n",
      "Cluster 236: 1 embeddings\n",
      "Cluster 237: 1 embeddings\n",
      "Cluster 238: 1 embeddings\n",
      "Cluster 239: 1 embeddings\n",
      "Cluster 240: 1 embeddings\n",
      "Cluster 241: 1 embeddings\n",
      "Cluster 242: 1 embeddings\n",
      "Cluster 243: 1 embeddings\n",
      "Cluster 244: 1 embeddings\n",
      "Cluster 245: 1 embeddings\n",
      "Cluster 246: 1 embeddings\n",
      "Cluster 247: 1 embeddings\n",
      "Cluster 248: 1 embeddings\n",
      "Cluster 249: 1 embeddings\n",
      "Cluster 250: 1 embeddings\n",
      "Cluster 251: 1 embeddings\n",
      "Cluster 252: 1 embeddings\n",
      "Cluster 253: 1 embeddings\n",
      "Cluster 254: 1 embeddings\n",
      "Cluster 255: 1 embeddings\n",
      "Cluster 256: 1 embeddings\n",
      "Cluster 257: 1 embeddings\n",
      "Cluster 258: 1 embeddings\n",
      "Cluster 259: 1 embeddings\n",
      "Cluster 260: 1 embeddings\n",
      "Cluster 261: 1 embeddings\n",
      "Cluster 262: 1 embeddings\n",
      "Cluster 263: 1 embeddings\n",
      "Cluster 264: 1 embeddings\n",
      "Cluster 265: 1 embeddings\n",
      "Cluster 266: 1 embeddings\n",
      "Cluster 267: 1 embeddings\n",
      "Cluster 268: 1 embeddings\n",
      "Cluster 269: 1 embeddings\n",
      "Cluster 270: 1 embeddings\n",
      "Cluster 271: 1 embeddings\n",
      "Cluster 272: 2 embeddings\n",
      "Cluster 273: 1 embeddings\n",
      "Cluster 274: 1 embeddings\n",
      "Cluster 275: 1 embeddings\n",
      "Cluster 276: 1 embeddings\n",
      "Cluster 277: 1 embeddings\n",
      "Cluster 278: 1 embeddings\n",
      "Cluster 279: 1 embeddings\n",
      "Cluster 280: 1 embeddings\n",
      "Cluster 281: 1 embeddings\n",
      "Cluster 282: 1 embeddings\n",
      "Cluster 283: 1 embeddings\n",
      "Cluster 284: 1 embeddings\n",
      "Cluster 285: 1 embeddings\n",
      "Cluster 286: 1 embeddings\n",
      "Cluster 287: 1 embeddings\n",
      "Cluster 288: 1 embeddings\n",
      "Cluster 289: 1 embeddings\n",
      "Cluster 290: 1 embeddings\n",
      "Cluster 291: 1 embeddings\n"
     ]
    },
    {
     "name": "stderr",
     "output_type": "stream",
     "text": [
      "/opt/homebrew/lib/python3.11/site-packages/sklearn/cluster/_agglomerative.py:1005: FutureWarning: Attribute `affinity` was deprecated in version 1.2 and will be removed in 1.4. Use `metric` instead\n",
      "  warnings.warn(\n"
     ]
    }
   ],
   "source": [
    "from sklearn.cluster import AgglomerativeClustering\n",
    "from sklearn.metrics.pairwise import cosine_similarity\n",
    "import numpy as np\n",
    "\n",
    "# Assume you have a list of text embeddings called `embeddings`\n",
    "# First, compute the cosine similarity matrix between all pairs of embeddings\n",
    "cosine_sim_matrix = cosine_similarity(embeddings)\n",
    "\n",
    "# Instantiate the AgglomerativeClustering model\n",
    "agg_clustering = AgglomerativeClustering(\n",
    "    n_clusters=None,         # the algorithm will determine the optimal number of clusters based on the data\n",
    "    \n",
    "    # clusters will be formed until all pairwise distances between clusters are greater than given value\n",
    "    distance_threshold=np.percentile(cosine_sim_matrix.flatten(), 50),\n",
    "    \n",
    "    affinity='precomputed',  # we are providing a precomputed distance matrix (1 - similarity matrix) as input\n",
    "    linkage='complete'       # form clusters by iteratively merging the smallest clusters based on the maximum distance between their components\n",
    ")\n",
    "\n",
    "# Fit the model to the cosine distance matrix (1 - similarity matrix)\n",
    "agg_clustering.fit(1 - cosine_sim_matrix)\n",
    "\n",
    "# Get the cluster labels for each embedding\n",
    "cluster_labels = agg_clustering.labels_\n",
    "\n",
    "# Print the number of embeddings in each cluster\n",
    "unique_labels, counts = np.unique(cluster_labels, return_counts=True)\n",
    "for label, count in zip(unique_labels, counts):\n",
    "    print(f'Cluster {label}: {count} embeddings')\n"
   ]
  },
  {
   "cell_type": "code",
   "execution_count": 65,
   "id": "0727319b",
   "metadata": {
    "id": "0727319b"
   },
   "outputs": [
    {
     "name": "stdout",
     "output_type": "stream",
     "text": [
      "Our pruning approach has 292 documents with average length 461.6 tokens\n"
     ]
    }
   ],
   "source": [
    "pruned_documents = []\n",
    "for _label, count in zip(unique_labels, counts):\n",
    "    pruned_documents.append('\\n\\n'.join([text for text, label in zip(split, cluster_labels) if label == _label]))\n",
    "\n",
    "\n",
    "avg_length = sum([len(tokenizer.encode(t)) for t in pruned_documents]) / len(pruned_documents)\n",
    "print(f'Our pruning approach has {len(pruned_documents)} documents with average length {avg_length:.1f} tokens')"
   ]
  },
  {
   "cell_type": "code",
   "execution_count": 66,
   "id": "97f80b78",
   "metadata": {
    "id": "97f80b78",
    "scrolled": true
   },
   "outputs": [
    {
     "name": "stdout",
     "output_type": "stream",
     "text": [
      "\n",
      "So, we have way more ham messages than we do spam. Because this is a classification\n",
      "problem, it will be very useful to know our null accuracy rate , which is the percentage\n",
      "chance of predicting a single row correctly if we keep guessing the most common class,\n",
      "ham:\n",
      "df.label.value_counts() / df.shape[0]\n",
      "ham     0.865937\n",
      "spam    0.134063\n",
      "So if we blindly guessed ham, we would be correct about 87% of the time, but we can do\n",
      "better than that. If we have a set of classes, C, and features, xi, then we can use Bayes'\n",
      "theorem to predict the probability that a single row belongs to class C, using the following\n",
      "formula:\n",
      "Let's look at this formula in a little more detail:\n",
      "P(class C | {xi}) : The posterior probability is the probability that the row belongs\n",
      "to class C  given the features {xi}.\n",
      "P({xi} | class C) : This is the likelihood that we would observe these features given\n",
      "that the row was in class C .\n",
      "P(class C) : This is the prior probability. It is the probability that the data point\n",
      "belongs to class C  before we see any data.\n",
      "P({xi}) : This is our normalization constant.\n",
      "For example, imagine we have an email with three words: send cash now.  We'll use\n",
      "Naive Bayes to classify the email as either being spam or ham:\n",
      "We are concerned with the difference of these two numbers. We can use the following\n",
      "criteria to classify any single text sample:\n",
      "If P(spam | send cash now)  is larger than P(ham | send cash now) ,\n",
      "then we will classify the text as spam\n",
      "\n",
      "If P(ham | send cash now)  is larger than P(spam | send cash now) , then\n",
      "we will label the text ham\n",
      "Because both equations have P (send money now)  in the denominator, we can ignore them.\n",
      "So, now we are concerned with the following:\n",
      "Let's figure out the numbers  in this equation:\n",
      "P(spam) = 0.134063\n",
      "P(ham) = 0.865937\n",
      "P(send cash now | spam)\n",
      "P(send cash now | ham)\n",
      "The final two likelihoods might seem like they would not be so difficult to calculate. All we\n",
      "have to do is count the numbers of spam messages that include the send money\n",
      "now phrase and divide that by the total number of spam messages:\n",
      "df.msg = df.msg.apply(lambda x:x.lower())\n",
      "# make all strings lower case so we can search easier\n",
      "df[df.msg.str.contains('send cash now')] .shape\n",
      "(0, 2)\n",
      "Oh no! There are none! There are literally zero texts with the exact phrase send cash now .\n",
      "The hidden problem here is that this phrase is very specific and we can't assume that we\n",
      "will have enough data in the world to have seen this exact phrase many times before.\n",
      "Instead, we can make a naïve assumption  in our Bayes' theorem. If we assume that the\n",
      "features (words) are conditionally independent (meaning that no word affects the existence\n",
      "of another word), then we can rewrite the formula:\n",
      "spams = df[df.label == 'spam']\n",
      "for word in ['send', 'cash', 'now']:\n",
      "    print( word, spams[spams.msg.str.contains(word)].shape[0] /\n",
      "float(spams.shape[0]))\n",
      "\n",
      "P(send|spam) = 0.096\n",
      "P(cash |spam) = 0.091\n",
      "P(now|spam) = 0.280\n",
      "With this, we can calculate the following:\n",
      "P(send cash now| spam) ∗ P(spam)= (.096 ∗.091∗.280) ∗.134 = 0.00032\n",
      "Repeating the same procedure for ham gives us the following:\n",
      "P(send|ham) = 0.03\n",
      "P(cash|ham) = 0.003\n",
      "P(now|ham) = 0.109\n",
      "The fact that these numbers are both very low is not as important as the fact that the spam\n",
      "probability is much larger than the ham calculation. If we calculate 0.00032 / 0.0000084 =\n",
      "38.1 we see that the send cash now  probability for spam is 38 times higher than for spam.\n",
      "Doing this means that we can classify send cash now  as spam! Simple, right?\n",
      "Let's use Python to implement a Naive Bayes classifier without having to do all of these\n",
      "calculations ourselves.\n",
      "First, let's revisit the count vectorizer in scikit-learn, which turns text into numerical data\n",
      "for us. Let's assume that we will train on three documents (sentences):\n",
      "# simple count vectorizer example\n",
      "from sklearn.feature_extraction.text import CountVectorizer\n",
      "# start with a simple example\n",
      "train_simple = ['call you tonight',\n",
      "                'Call me a cab',\n",
      "                'please call me... PLEASE 44!']\n",
      "# learn the 'vocabulary' of the training data\n",
      "vect = CountVectorizer()\n",
      "train_simple_dtm = vect.fit_transform(train_simple)\n",
      "pd.DataFrame(train_simple_dtm.toarray(), columns=vect.get_feature_names())\n"
     ]
    }
   ],
   "source": [
    "print(pruned_documents[0])"
   ]
  },
  {
   "cell_type": "code",
   "execution_count": 67,
   "id": "3a3364dd",
   "metadata": {
    "id": "3a3364dd"
   },
   "outputs": [
    {
     "data": {
      "text/plain": [
       "292"
      ]
     },
     "execution_count": 67,
     "metadata": {},
     "output_type": "execute_result"
    }
   ],
   "source": [
    "upload_texts_to_pinecone(pruned_documents, batch_size=128)"
   ]
  },
  {
   "cell_type": "code",
   "execution_count": null,
   "id": "8511c945",
   "metadata": {
    "id": "8511c945"
   },
   "outputs": [],
   "source": []
  },
  {
   "cell_type": "code",
   "execution_count": 71,
   "id": "13cc8bdc",
   "metadata": {
    "colab": {
     "base_uri": "https://localhost:8080/"
    },
    "id": "13cc8bdc",
    "outputId": "b34ad588-4ae4-4eed-e6bc-e048f780ca12"
   },
   "outputs": [
    {
     "name": "stdout",
     "output_type": "stream",
     "text": [
      "30282dd530d9a170ec50c8252d337b33\t0.56\tLet's begin by learning a very  important value  i\n",
      "126c5edbf7271df6e2d9983cd740ba10\t0.50\tWe get this chart:\n",
      "We can see that we have negativ\n",
      "7da124bb8c927e0c392cf75d4bfb2c76\t0.41\t\n",
      "Basic Statistics\n",
      "This chapter will focus on the s\n"
     ]
    }
   ],
   "source": [
    "query = 'How do z scores work?'\n",
    "\n",
    "results_from_pinecone = query_from_pinecone(query, top_k=3)\n",
    "\n",
    "for result_from_pinecone in results_from_pinecone:\n",
    "    print(f\"{result_from_pinecone['id']}\\t{result_from_pinecone['score']:.2f}\\t{result_from_pinecone['metadata']['text'][:50]}\")\n"
   ]
  },
  {
   "cell_type": "code",
   "execution_count": 72,
   "id": "59780b12-f643-4d78-b298-123f4d7ff384",
   "metadata": {
    "scrolled": true
   },
   "outputs": [
    {
     "data": {
      "text/plain": [
       "{'id': '7da124bb8c927e0c392cf75d4bfb2c76',\n",
       " 'metadata': {'date_uploaded': '2024-04-03T15:07:13.510992',\n",
       "              'text': '\\n'\n",
       "                      'Basic Statistics\\n'\n",
       "                      'This chapter will focus on the statistical knowledge '\n",
       "                      'required by any aspiring data scientist.\\n'\n",
       "                      'We will explore ways of sampling and obtaining data '\n",
       "                      'without being affected by bias and\\n'\n",
       "                      'then use measures of statistics to quantify and '\n",
       "                      'visualize our data. Using the z-score and the\\n'\n",
       "                      'empirical rule, we will see how we can standardize data '\n",
       "                      'for the purpose of both graphing\\n'\n",
       "                      'and interpretability.\\n'\n",
       "                      'In this chapter, we will look at the following topics:\\n'\n",
       "                      'How to obtain and sample data\\n'\n",
       "                      'The measures of center, variance, and relative '\n",
       "                      'standing\\n'\n",
       "                      'Normalization of data using the z-score\\n'\n",
       "                      'The empirical rule\\n'\n",
       "                      'What are statistics?\\n'\n",
       "                      'This might seem like an odd question to ask, but I am '\n",
       "                      'frequently surprised by the number\\n'\n",
       "                      'of people who cannot answer this simple and yet '\n",
       "                      'powerful question: what are statistics?\\n'\n",
       "                      'Statistics are the numbers you always see on the news '\n",
       "                      'and in the paper. Statistics are useful\\n'\n",
       "                      'when trying to prove a point or trying to scare '\n",
       "                      'someone, but what are they?\\n'\n",
       "                      'To answer this question, we need to back up for a '\n",
       "                      'minute and talk about why we even\\n'\n",
       "                      'measure them in the first place. The goal of this field '\n",
       "                      'is to try to explain and model the\\n'\n",
       "                      'world around us. To do that, we have to take a look at '\n",
       "                      'the population.\\n'\n",
       "                      'We can define a population  as the entire pool of '\n",
       "                      'subjects of an experiment or a model.\\n'\n",
       "                      '\\n'\n",
       "                      'Summary\\n'\n",
       "                      'In this chapter, we covered much of the basic '\n",
       "                      'statistics required by most data scientists.\\n'\n",
       "                      'Everything from how we obtain/sample data to how to '\n",
       "                      'standardize data according to the z-\\n'\n",
       "                      'score and applications of the empirical rule was '\n",
       "                      'covered. We also reviewed how to take\\n'\n",
       "                      'samples for data analysis. In addition, we reviewed '\n",
       "                      'various statistical measures, such as the\\n'\n",
       "                      'mean and standard deviation, that help describe data.\\n'\n",
       "                      'In the next chapter, we will look at much more advanced '\n",
       "                      'applications of statistics. One\\n'\n",
       "                      'thing that we will consider is how to use hypothesis '\n",
       "                      'tests on data that we can assume to be\\n'\n",
       "                      'normal. As we use these tests, we will also quantify '\n",
       "                      'our errors and identify the best\\n'\n",
       "                      'practices to solve these errors.'},\n",
       " 'score': 0.411503136,\n",
       " 'values': []}"
      ]
     },
     "execution_count": 72,
     "metadata": {},
     "output_type": "execute_result"
    }
   ],
   "source": [
    "result_from_pinecone"
   ]
  },
  {
   "cell_type": "code",
   "execution_count": 73,
   "id": "c018b64d",
   "metadata": {
    "id": "c018b64d"
   },
   "outputs": [
    {
     "data": {
      "text/plain": [
       "{}"
      ]
     },
     "execution_count": 73,
     "metadata": {},
     "output_type": "execute_result"
    }
   ],
   "source": [
    "delete_texts_from_pinecone(pruned_documents)"
   ]
  },
  {
   "cell_type": "code",
   "execution_count": 74,
   "id": "33c716a0",
   "metadata": {
    "colab": {
     "base_uri": "https://localhost:8080/"
    },
    "id": "33c716a0",
    "outputId": "6700983d-b77d-4d78-904c-2500ffc8ccd0"
   },
   "outputs": [
    {
     "data": {
      "text/plain": [
       "{'dimension': 3072,\n",
       " 'index_fullness': 0.0,\n",
       " 'namespaces': {},\n",
       " 'total_vector_count': 0}"
      ]
     },
     "execution_count": 74,
     "metadata": {},
     "output_type": "execute_result"
    }
   ],
   "source": [
    "index.describe_index_stats()  # no vectors inside"
   ]
  },
  {
   "cell_type": "code",
   "execution_count": null,
   "id": "40d020ce-6f8a-4ca5-9aaf-48715df47a33",
   "metadata": {},
   "outputs": [],
   "source": []
  },
  {
   "cell_type": "markdown",
   "id": "ffda611c-743b-4bc2-b7c2-33f2a643af37",
   "metadata": {},
   "source": [
    "# Working with Open-Source Cross-Encoders"
   ]
  },
  {
   "cell_type": "code",
   "execution_count": 75,
   "id": "074fab6f",
   "metadata": {
    "id": "074fab6f"
   },
   "outputs": [],
   "source": [
    "\"\"\"\n",
    "This example computes the score between a query and all possible\n",
    "sentences in a corpus using a Cross-Encoder for semantic textual similarity (STS).\n",
    "It output then the most similar sentences for the given query.\n",
    "\"\"\"\n",
    "from sentence_transformers.cross_encoder import CrossEncoder\n",
    "import numpy as np\n",
    "from torch import nn\n",
    "\n",
    "# Pre-trained cross encoder\n"
   ]
  },
  {
   "cell_type": "code",
   "execution_count": 76,
   "id": "25b8e942",
   "metadata": {
    "id": "25b8e942"
   },
   "outputs": [],
   "source": [
    "# remove debug and info logs\n",
    "import logging\n",
    "logging.basicConfig(level=logging.WARNING)"
   ]
  },
  {
   "cell_type": "code",
   "execution_count": null,
   "id": "118a061c-db0a-4903-8260-46c6f15189ae",
   "metadata": {
    "id": "118a061c-db0a-4903-8260-46c6f15189ae"
   },
   "outputs": [],
   "source": []
  },
  {
   "cell_type": "code",
   "execution_count": 8,
   "id": "5865c184-ff37-40c4-b93c-30bb233f1cbd",
   "metadata": {},
   "outputs": [
    {
     "data": {
      "text/plain": [
       "DatasetDict({\n",
       "    test: Dataset({\n",
       "        features: ['id', 'title', 'context', 'question', 'answers'],\n",
       "        num_rows: 1148\n",
       "    })\n",
       "    train: Dataset({\n",
       "        features: ['id', 'title', 'context', 'question', 'answers'],\n",
       "        num_rows: 11590\n",
       "    })\n",
       "})"
      ]
     },
     "execution_count": 8,
     "metadata": {},
     "output_type": "execute_result"
    }
   ],
   "source": [
    "from datasets import load_dataset\n",
    "\n",
    "dataset = load_dataset(\"xtreme\", \"MLQA.en.en\")\n",
    "\n",
    "dataset['train'] = dataset['test']\n",
    "\n",
    "# just renaming out of habit, sorry\n",
    "dataset['test'] = dataset['validation']\n",
    "del dataset['validation']\n",
    "\n",
    "dataset"
   ]
  },
  {
   "cell_type": "code",
   "execution_count": 9,
   "id": "e622fbfa-2dde-4711-9c46-1390eb3430f9",
   "metadata": {
    "colab": {
     "base_uri": "https://localhost:8080/"
    },
    "id": "e622fbfa-2dde-4711-9c46-1390eb3430f9",
    "outputId": "8e7d6133-76ce-493a-963f-f29e05c6e0ba"
   },
   "outputs": [
    {
     "data": {
      "text/plain": [
       "({'id': 'a4968ca8a18de16aa3859be760e43dbd3af3fce9',\n",
       "  'title': 'Area 51',\n",
       "  'context': 'In 1994, five unnamed civilian contractors and the widows of contractors Walter Kasza and Robert Frost sued the USAF and the United States Environmental Protection Agency. Their suit, in which they were represented by George Washington University law professor Jonathan Turley, alleged they had been present when large quantities of unknown chemicals had been burned in open pits and trenches at Groom. Biopsies taken from the complainants were analyzed by Rutgers University biochemists, who found high levels of dioxin, dibenzofuran, and trichloroethylene in their body fat. The complainants alleged they had sustained skin, liver, and respiratory injuries due to their work at Groom, and that this had contributed to the deaths of Frost and Kasza. The suit sought compensation for the injuries they had sustained, claiming the USAF had illegally handled toxic materials, and that the EPA had failed in its duty to enforce the Resource Conservation and Recovery Act (which governs handling of dangerous materials). They also sought detailed information about the chemicals to which they were allegedly exposed, hoping this would facilitate the medical treatment of survivors. Congressman Lee H. Hamilton, former chairman of the House Intelligence Committee, told 60 Minutes reporter Lesley Stahl, \"The Air Force is classifying all information about Area 51 in order to protect themselves from a lawsuit.\"',\n",
       "  'question': 'Who analyzed the biopsies?',\n",
       "  'answers': {'answer_start': [457],\n",
       "   'text': ['Rutgers University biochemists']}},\n",
       " {'id': 'f251ea56c4f1aa1df270137f7e6d89c0cc1b6ef4',\n",
       "  'title': 'Area 51',\n",
       "  'context': 'In 1994, five unnamed civilian contractors and the widows of contractors Walter Kasza and Robert Frost sued the USAF and the United States Environmental Protection Agency. Their suit, in which they were represented by George Washington University law professor Jonathan Turley, alleged they had been present when large quantities of unknown chemicals had been burned in open pits and trenches at Groom. Biopsies taken from the complainants were analyzed by Rutgers University biochemists, who found high levels of dioxin, dibenzofuran, and trichloroethylene in their body fat. The complainants alleged they had sustained skin, liver, and respiratory injuries due to their work at Groom, and that this had contributed to the deaths of Frost and Kasza. The suit sought compensation for the injuries they had sustained, claiming the USAF had illegally handled toxic materials, and that the EPA had failed in its duty to enforce the Resource Conservation and Recovery Act (which governs handling of dangerous materials). They also sought detailed information about the chemicals to which they were allegedly exposed, hoping this would facilitate the medical treatment of survivors. Congressman Lee H. Hamilton, former chairman of the House Intelligence Committee, told 60 Minutes reporter Lesley Stahl, \"The Air Force is classifying all information about Area 51 in order to protect themselves from a lawsuit.\"',\n",
       "  'question': 'who represented robert frost and walter kasza in their suit?',\n",
       "  'answers': {'answer_start': [218],\n",
       "   'text': ['George Washington University law professor Jonathan Turley']}})"
      ]
     },
     "execution_count": 9,
     "metadata": {},
     "output_type": "execute_result"
    }
   ],
   "source": [
    "dataset['train'][0], dataset['train'][1]"
   ]
  },
  {
   "cell_type": "code",
   "execution_count": 21,
   "id": "0221343a",
   "metadata": {
    "colab": {
     "base_uri": "https://localhost:8080/"
    },
    "id": "0221343a",
    "outputId": "5ab7c522-23ea-467c-be72-fe031432fbdc"
   },
   "outputs": [
    {
     "data": {
      "text/plain": [
       "978"
      ]
     },
     "execution_count": 21,
     "metadata": {},
     "output_type": "execute_result"
    }
   ],
   "source": [
    "unique_passages = list(set(dataset['test']['context']))\n",
    "upload_texts_to_pinecone(unique_passages, batch_size=16)"
   ]
  },
  {
   "cell_type": "code",
   "execution_count": 22,
   "id": "796a7c80-7149-430e-b22c-9926c0d1daee",
   "metadata": {
    "colab": {
     "base_uri": "https://localhost:8080/"
    },
    "id": "796a7c80-7149-430e-b22c-9926c0d1daee",
    "outputId": "5fc883f2-230a-4fbf-d186-a60f5dd3573a"
   },
   "outputs": [
    {
     "data": {
      "text/plain": [
       "978"
      ]
     },
     "execution_count": 22,
     "metadata": {},
     "output_type": "execute_result"
    }
   ],
   "source": [
    "len(unique_passages)  # only 978 unique passages"
   ]
  },
  {
   "cell_type": "code",
   "execution_count": 23,
   "id": "33yf7QrWtwt-",
   "metadata": {
    "colab": {
     "base_uri": "https://localhost:8080/"
    },
    "id": "33yf7QrWtwt-",
    "outputId": "9e8d30a5-b1b3-43f7-ad6d-bec8135fc5ee"
   },
   "outputs": [
    {
     "data": {
      "text/plain": [
       "{'dimension': 3072,\n",
       " 'index_fullness': 0.0,\n",
       " 'namespaces': {'default': {'vector_count': 978}},\n",
       " 'total_vector_count': 978}"
      ]
     },
     "execution_count": 23,
     "metadata": {},
     "output_type": "execute_result"
    }
   ],
   "source": [
    "index.describe_index_stats()"
   ]
  },
  {
   "cell_type": "code",
   "execution_count": 24,
   "id": "b25a8a8f-e873-43e7-9f56-b57bdf328416",
   "metadata": {
    "id": "b25a8a8f-e873-43e7-9f56-b57bdf328416"
   },
   "outputs": [],
   "source": [
    "# Pre-trained cross encoder\n",
    "cross_encoder = CrossEncoder('cross-encoder/ms-marco-MiniLM-L-12-v2', num_labels=1)\n",
    "\n",
    "q_to_hash = {data['question']: my_hash(data['context']) for data in dataset['test']}"
   ]
  },
  {
   "cell_type": "code",
   "execution_count": 25,
   "id": "1JmjvJ5YutEx",
   "metadata": {
    "id": "1JmjvJ5YutEx"
   },
   "outputs": [],
   "source": [
    "import logging\n",
    "\n",
    "# Set the logging level to ERROR to suppress DEBUG and INFO logs\n",
    "logging.getLogger().setLevel(logging.ERROR)\n"
   ]
  },
  {
   "cell_type": "code",
   "execution_count": 29,
   "id": "eLYwOGbZvprX",
   "metadata": {
    "id": "eLYwOGbZvprX"
   },
   "outputs": [],
   "source": [
    "from copy import copy\n",
    "\n",
    "def get_results_from_pinecone(query, top_k=3, re_rank_model=None, verbose=True, correct_hash=None):\n",
    "    results_from_pinecone = query_from_pinecone(query, top_k=top_k)\n",
    "\n",
    "    if verbose:\n",
    "        print(\"Query:\", query)\n",
    "\n",
    "    final_results = []\n",
    "\n",
    "    retrieved_correct_position, reranked_correct_position = None, None\n",
    "    for idx, result_from_pinecone in enumerate(results_from_pinecone):\n",
    "        if correct_hash and result_from_pinecone['id'] == correct_hash:\n",
    "            retrieved_correct_position = idx\n",
    "\n",
    "    if re_rank_model is not None:\n",
    "        if verbose:\n",
    "            print('Document ID (Hash)\\t\\tRetrieval Score\\tCE Score\\tText')\n",
    "\n",
    "        sentence_combinations = [[query, result_from_pinecone['metadata']['text']] for result_from_pinecone in results_from_pinecone]\n",
    "\n",
    "        # Compute the similarity scores for these combinations\n",
    "        similarity_scores = re_rank_model.predict(sentence_combinations, activation_fct=nn.Sigmoid())\n",
    "\n",
    "        # Sort the scores in decreasing order\n",
    "        sim_scores_argsort = list(reversed(np.argsort(similarity_scores)))\n",
    "        for rerank_idx, idx in enumerate(sim_scores_argsort):\n",
    "            result_from_pinecone = results_from_pinecone[idx]\n",
    "            if correct_hash and result_from_pinecone['id'] == correct_hash:\n",
    "                reranked_correct_position = rerank_idx\n",
    "            final_results.append({'score': similarity_scores[idx], 'id': result_from_pinecone['id'], 'metadata': result_from_pinecone['metadata']})\n",
    "            if verbose:\n",
    "                print(f\"{result_from_pinecone['id']}\\t{result_from_pinecone['score']:.2f}\\t{similarity_scores[idx]:.6f}\\t{result_from_pinecone['metadata']['text'][:50]}\")\n",
    "        return {'final_results': final_results, 'retrieved_correct_position': retrieved_correct_position, 'reranked_correct_position': reranked_correct_position, 'results_from_pinecone': results_from_pinecone}\n",
    "\n",
    "    if verbose:\n",
    "        print('Document ID (Hash)\\t\\tRetrieval Score\\tText')\n",
    "    for result_from_pinecone in results_from_pinecone:\n",
    "        final_results.append(result_from_pinecone)\n",
    "        if verbose:\n",
    "            print(f\"{result_from_pinecone['id']}\\t{result_from_pinecone['score']:.2f}\\t{result_from_pinecone['metadata']['text'][:50]}\")\n",
    "\n",
    "    return {'final_results': final_results, 'retrieved_correct_position': retrieved_correct_position, 'reranked_correct_position': reranked_correct_position}"
   ]
  },
  {
   "cell_type": "code",
   "execution_count": 30,
   "id": "vptFN0wPw0uS",
   "metadata": {
    "colab": {
     "base_uri": "https://localhost:8080/"
    },
    "id": "vptFN0wPw0uS",
    "outputId": "72a9e946-3b3a-429b-b476-a945e94e26ec"
   },
   "outputs": [
    {
     "data": {
      "text/plain": [
       "1148"
      ]
     },
     "execution_count": 30,
     "metadata": {},
     "output_type": "execute_result"
    }
   ],
   "source": [
    "unique_inputs = list(set(dataset['test']['question']))\n",
    "len(unique_inputs)"
   ]
  },
  {
   "cell_type": "code",
   "execution_count": 37,
   "id": "caa66ac8-d69c-49a1-9f55-e9ef93379fec",
   "metadata": {
    "colab": {
     "base_uri": "https://localhost:8080/"
    },
    "id": "caa66ac8-d69c-49a1-9f55-e9ef93379fec",
    "outputId": "575fa7f5-32dc-4a03-8f31-01df1ee11cc4"
   },
   "outputs": [
    {
     "name": "stdout",
     "output_type": "stream",
     "text": [
      "In what year did Scipione Riva-Rocci invent the sphygmomanometer\n",
      "raw retrieved index of correct result 0\n",
      "reranked index of correct result 0\n",
      "---\n",
      "When did Muntjacs begin appearing?\n",
      "raw retrieved index of correct result 0\n",
      "reranked index of correct result 0\n",
      "---\n",
      "Who aided Germany?\n",
      "raw retrieved index of correct result 2\n",
      "reranked index of correct result 0\n",
      "---\n",
      "What can negatively affect medical devices?\n",
      "raw retrieved index of correct result 0\n",
      "reranked index of correct result 0\n",
      "---\n",
      "what can websites mine?\n",
      "raw retrieved index of correct result 0\n",
      "reranked index of correct result 0\n",
      "---\n"
     ]
    }
   ],
   "source": [
    "for query in unique_inputs[:5]:\n",
    "    \n",
    "    r = get_results_from_pinecone(\n",
    "        query, top_k=10, re_rank_model=cross_encoder, correct_hash=q_to_hash[query],\n",
    "        verbose=False\n",
    "        )\n",
    "    \n",
    "    print(query)\n",
    "    print('raw retrieved index of correct result', r['retrieved_correct_position'])\n",
    "    print('reranked index of correct result',  r['reranked_correct_position'])\n",
    "    print('---')"
   ]
  },
  {
   "cell_type": "code",
   "execution_count": 38,
   "id": "a63ec53e",
   "metadata": {
    "id": "a63ec53e"
   },
   "outputs": [],
   "source": [
    "# Let's test the performance re-ranking against validation datapoints\n",
    "# Note we could not use Pinecone here to speed things up\n",
    "#  but it's also a good time to see the latency of the pipeline with Pinecone\n",
    "test_sample = dataset['test']"
   ]
  },
  {
   "cell_type": "code",
   "execution_count": null,
   "id": "21a3a147",
   "metadata": {
    "id": "21a3a147"
   },
   "outputs": [],
   "source": [
    "TOP_K=50"
   ]
  },
  {
   "cell_type": "code",
   "execution_count": null,
   "id": "b98413a3",
   "metadata": {
    "colab": {
     "base_uri": "https://localhost:8080/"
    },
    "id": "b98413a3",
    "outputId": "c6557744-6998-492f-db27-98b94ed7ec31",
    "scrolled": true
   },
   "outputs": [],
   "source": [
    "logger.setLevel(logging.CRITICAL)\n",
    "\n",
    "predictions = []\n",
    "\n",
    "for question in tqdm(test_sample['question']):\n",
    "    r = get_results_from_pinecone(\n",
    "        question, top_k=TOP_K, re_rank_model=cross_encoder, correct_hash=q_to_hash[question],\n",
    "        verbose=False\n",
    "        )\n",
    "\n",
    "    r['retrieved_correct_position'], r['reranked_correct_position']\n",
    "    predictions.append(r)"
   ]
  },
  {
   "cell_type": "code",
   "execution_count": null,
   "id": "a2ff94e7-0b78-40ca-8cf0-42e345439e8b",
   "metadata": {
    "colab": {
     "base_uri": "https://localhost:8080/"
    },
    "id": "a2ff94e7-0b78-40ca-8cf0-42e345439e8b",
    "outputId": "a2cd7fd3-ae14-43dd-cab8-559f7878fd6f"
   },
   "outputs": [
    {
     "name": "stdout",
     "output_type": "stream",
     "text": [
      "Accuracy without re-ranking: 0.7543554006968641\n",
      "Accuracy with re-ranking: 0.8327526132404182\n"
     ]
    }
   ],
   "source": [
    "retrieved_accuracy = sum([_['retrieved_correct_position'] == 0 for _ in predictions])/len(predictions)\n",
    "re_ranked_accuracy = sum([_['reranked_correct_position'] == 0 for _ in predictions])/len(predictions)\n",
    "\n",
    "print(f'Accuracy without re-ranking: {retrieved_accuracy}')\n",
    "print(f'Accuracy with re-ranking: {re_ranked_accuracy}')"
   ]
  },
  {
   "cell_type": "code",
   "execution_count": null,
   "id": "fT4FuVcf9ONw",
   "metadata": {
    "id": "fT4FuVcf9ONw"
   },
   "outputs": [],
   "source": []
  },
  {
   "cell_type": "code",
   "execution_count": null,
   "id": "6649afac-9434-440b-b332-de9149a7ebfa",
   "metadata": {
    "colab": {
     "base_uri": "https://localhost:8080/",
     "height": 206
    },
    "id": "6649afac-9434-440b-b332-de9149a7ebfa",
    "outputId": "17b2e526-cd7e-409e-e0f3-2ae4afd29160"
   },
   "outputs": [
    {
     "data": {
      "text/html": [
       "\n",
       "  <div id=\"df-65b2749d-6c16-4a26-8a9c-7659badc9be6\" class=\"colab-df-container\">\n",
       "    <div>\n",
       "<style scoped>\n",
       "    .dataframe tbody tr th:only-of-type {\n",
       "        vertical-align: middle;\n",
       "    }\n",
       "\n",
       "    .dataframe tbody tr th {\n",
       "        vertical-align: top;\n",
       "    }\n",
       "\n",
       "    .dataframe thead th {\n",
       "        text-align: right;\n",
       "    }\n",
       "</style>\n",
       "<table border=\"1\" class=\"dataframe\">\n",
       "  <thead>\n",
       "    <tr style=\"text-align: right;\">\n",
       "      <th></th>\n",
       "      <th>final_results</th>\n",
       "      <th>retrieved_correct_position</th>\n",
       "      <th>reranked_correct_position</th>\n",
       "      <th>results_from_pinecone</th>\n",
       "    </tr>\n",
       "  </thead>\n",
       "  <tbody>\n",
       "    <tr>\n",
       "      <th>0</th>\n",
       "      <td>{'final_results': [{'score': 0.8746502, 'id': ...</td>\n",
       "      <td>0.0</td>\n",
       "      <td>0.0</td>\n",
       "      <td>[{'id': '2f90090e21f19450887d5f3ff781e541',\n",
       " '...</td>\n",
       "    </tr>\n",
       "    <tr>\n",
       "      <th>1</th>\n",
       "      <td>{'final_results': [{'score': 0.8746502, 'id': ...</td>\n",
       "      <td>0.0</td>\n",
       "      <td>0.0</td>\n",
       "      <td>[{'id': '49201636ad4102735125e146c0dbafa4',\n",
       " '...</td>\n",
       "    </tr>\n",
       "    <tr>\n",
       "      <th>2</th>\n",
       "      <td>{'final_results': [{'score': 0.8746502, 'id': ...</td>\n",
       "      <td>0.0</td>\n",
       "      <td>0.0</td>\n",
       "      <td>[{'id': '80d92494d2b06f341842f1855d2938cf',\n",
       " '...</td>\n",
       "    </tr>\n",
       "    <tr>\n",
       "      <th>3</th>\n",
       "      <td>{'final_results': [{'score': 0.8746502, 'id': ...</td>\n",
       "      <td>0.0</td>\n",
       "      <td>2.0</td>\n",
       "      <td>[{'id': 'e3fd54f33b021ea3cf88b438fefcada7',\n",
       " '...</td>\n",
       "    </tr>\n",
       "    <tr>\n",
       "      <th>4</th>\n",
       "      <td>{'final_results': [{'score': 0.8746502, 'id': ...</td>\n",
       "      <td>0.0</td>\n",
       "      <td>0.0</td>\n",
       "      <td>[{'id': '37ed40c20d4e1b9cc8d6cc27a4d0fff3',\n",
       " '...</td>\n",
       "    </tr>\n",
       "  </tbody>\n",
       "</table>\n",
       "</div>\n",
       "    <div class=\"colab-df-buttons\">\n",
       "\n",
       "  <div class=\"colab-df-container\">\n",
       "    <button class=\"colab-df-convert\" onclick=\"convertToInteractive('df-65b2749d-6c16-4a26-8a9c-7659badc9be6')\"\n",
       "            title=\"Convert this dataframe to an interactive table.\"\n",
       "            style=\"display:none;\">\n",
       "\n",
       "  <svg xmlns=\"http://www.w3.org/2000/svg\" height=\"24px\" viewBox=\"0 -960 960 960\">\n",
       "    <path d=\"M120-120v-720h720v720H120Zm60-500h600v-160H180v160Zm220 220h160v-160H400v160Zm0 220h160v-160H400v160ZM180-400h160v-160H180v160Zm440 0h160v-160H620v160ZM180-180h160v-160H180v160Zm440 0h160v-160H620v160Z\"/>\n",
       "  </svg>\n",
       "    </button>\n",
       "\n",
       "  <style>\n",
       "    .colab-df-container {\n",
       "      display:flex;\n",
       "      gap: 12px;\n",
       "    }\n",
       "\n",
       "    .colab-df-convert {\n",
       "      background-color: #E8F0FE;\n",
       "      border: none;\n",
       "      border-radius: 50%;\n",
       "      cursor: pointer;\n",
       "      display: none;\n",
       "      fill: #1967D2;\n",
       "      height: 32px;\n",
       "      padding: 0 0 0 0;\n",
       "      width: 32px;\n",
       "    }\n",
       "\n",
       "    .colab-df-convert:hover {\n",
       "      background-color: #E2EBFA;\n",
       "      box-shadow: 0px 1px 2px rgba(60, 64, 67, 0.3), 0px 1px 3px 1px rgba(60, 64, 67, 0.15);\n",
       "      fill: #174EA6;\n",
       "    }\n",
       "\n",
       "    .colab-df-buttons div {\n",
       "      margin-bottom: 4px;\n",
       "    }\n",
       "\n",
       "    [theme=dark] .colab-df-convert {\n",
       "      background-color: #3B4455;\n",
       "      fill: #D2E3FC;\n",
       "    }\n",
       "\n",
       "    [theme=dark] .colab-df-convert:hover {\n",
       "      background-color: #434B5C;\n",
       "      box-shadow: 0px 1px 3px 1px rgba(0, 0, 0, 0.15);\n",
       "      filter: drop-shadow(0px 1px 2px rgba(0, 0, 0, 0.3));\n",
       "      fill: #FFFFFF;\n",
       "    }\n",
       "  </style>\n",
       "\n",
       "    <script>\n",
       "      const buttonEl =\n",
       "        document.querySelector('#df-65b2749d-6c16-4a26-8a9c-7659badc9be6 button.colab-df-convert');\n",
       "      buttonEl.style.display =\n",
       "        google.colab.kernel.accessAllowed ? 'block' : 'none';\n",
       "\n",
       "      async function convertToInteractive(key) {\n",
       "        const element = document.querySelector('#df-65b2749d-6c16-4a26-8a9c-7659badc9be6');\n",
       "        const dataTable =\n",
       "          await google.colab.kernel.invokeFunction('convertToInteractive',\n",
       "                                                    [key], {});\n",
       "        if (!dataTable) return;\n",
       "\n",
       "        const docLinkHtml = 'Like what you see? Visit the ' +\n",
       "          '<a target=\"_blank\" href=https://colab.research.google.com/notebooks/data_table.ipynb>data table notebook</a>'\n",
       "          + ' to learn more about interactive tables.';\n",
       "        element.innerHTML = '';\n",
       "        dataTable['output_type'] = 'display_data';\n",
       "        await google.colab.output.renderOutput(dataTable, element);\n",
       "        const docLink = document.createElement('div');\n",
       "        docLink.innerHTML = docLinkHtml;\n",
       "        element.appendChild(docLink);\n",
       "      }\n",
       "    </script>\n",
       "  </div>\n",
       "\n",
       "\n",
       "<div id=\"df-b850ff8b-8fcc-433e-b65c-488a7c0db270\">\n",
       "  <button class=\"colab-df-quickchart\" onclick=\"quickchart('df-b850ff8b-8fcc-433e-b65c-488a7c0db270')\"\n",
       "            title=\"Suggest charts\"\n",
       "            style=\"display:none;\">\n",
       "\n",
       "<svg xmlns=\"http://www.w3.org/2000/svg\" height=\"24px\"viewBox=\"0 0 24 24\"\n",
       "     width=\"24px\">\n",
       "    <g>\n",
       "        <path d=\"M19 3H5c-1.1 0-2 .9-2 2v14c0 1.1.9 2 2 2h14c1.1 0 2-.9 2-2V5c0-1.1-.9-2-2-2zM9 17H7v-7h2v7zm4 0h-2V7h2v10zm4 0h-2v-4h2v4z\"/>\n",
       "    </g>\n",
       "</svg>\n",
       "  </button>\n",
       "\n",
       "<style>\n",
       "  .colab-df-quickchart {\n",
       "      --bg-color: #E8F0FE;\n",
       "      --fill-color: #1967D2;\n",
       "      --hover-bg-color: #E2EBFA;\n",
       "      --hover-fill-color: #174EA6;\n",
       "      --disabled-fill-color: #AAA;\n",
       "      --disabled-bg-color: #DDD;\n",
       "  }\n",
       "\n",
       "  [theme=dark] .colab-df-quickchart {\n",
       "      --bg-color: #3B4455;\n",
       "      --fill-color: #D2E3FC;\n",
       "      --hover-bg-color: #434B5C;\n",
       "      --hover-fill-color: #FFFFFF;\n",
       "      --disabled-bg-color: #3B4455;\n",
       "      --disabled-fill-color: #666;\n",
       "  }\n",
       "\n",
       "  .colab-df-quickchart {\n",
       "    background-color: var(--bg-color);\n",
       "    border: none;\n",
       "    border-radius: 50%;\n",
       "    cursor: pointer;\n",
       "    display: none;\n",
       "    fill: var(--fill-color);\n",
       "    height: 32px;\n",
       "    padding: 0;\n",
       "    width: 32px;\n",
       "  }\n",
       "\n",
       "  .colab-df-quickchart:hover {\n",
       "    background-color: var(--hover-bg-color);\n",
       "    box-shadow: 0 1px 2px rgba(60, 64, 67, 0.3), 0 1px 3px 1px rgba(60, 64, 67, 0.15);\n",
       "    fill: var(--button-hover-fill-color);\n",
       "  }\n",
       "\n",
       "  .colab-df-quickchart-complete:disabled,\n",
       "  .colab-df-quickchart-complete:disabled:hover {\n",
       "    background-color: var(--disabled-bg-color);\n",
       "    fill: var(--disabled-fill-color);\n",
       "    box-shadow: none;\n",
       "  }\n",
       "\n",
       "  .colab-df-spinner {\n",
       "    border: 2px solid var(--fill-color);\n",
       "    border-color: transparent;\n",
       "    border-bottom-color: var(--fill-color);\n",
       "    animation:\n",
       "      spin 1s steps(1) infinite;\n",
       "  }\n",
       "\n",
       "  @keyframes spin {\n",
       "    0% {\n",
       "      border-color: transparent;\n",
       "      border-bottom-color: var(--fill-color);\n",
       "      border-left-color: var(--fill-color);\n",
       "    }\n",
       "    20% {\n",
       "      border-color: transparent;\n",
       "      border-left-color: var(--fill-color);\n",
       "      border-top-color: var(--fill-color);\n",
       "    }\n",
       "    30% {\n",
       "      border-color: transparent;\n",
       "      border-left-color: var(--fill-color);\n",
       "      border-top-color: var(--fill-color);\n",
       "      border-right-color: var(--fill-color);\n",
       "    }\n",
       "    40% {\n",
       "      border-color: transparent;\n",
       "      border-right-color: var(--fill-color);\n",
       "      border-top-color: var(--fill-color);\n",
       "    }\n",
       "    60% {\n",
       "      border-color: transparent;\n",
       "      border-right-color: var(--fill-color);\n",
       "    }\n",
       "    80% {\n",
       "      border-color: transparent;\n",
       "      border-right-color: var(--fill-color);\n",
       "      border-bottom-color: var(--fill-color);\n",
       "    }\n",
       "    90% {\n",
       "      border-color: transparent;\n",
       "      border-bottom-color: var(--fill-color);\n",
       "    }\n",
       "  }\n",
       "</style>\n",
       "\n",
       "  <script>\n",
       "    async function quickchart(key) {\n",
       "      const quickchartButtonEl =\n",
       "        document.querySelector('#' + key + ' button');\n",
       "      quickchartButtonEl.disabled = true;  // To prevent multiple clicks.\n",
       "      quickchartButtonEl.classList.add('colab-df-spinner');\n",
       "      try {\n",
       "        const charts = await google.colab.kernel.invokeFunction(\n",
       "            'suggestCharts', [key], {});\n",
       "      } catch (error) {\n",
       "        console.error('Error during call to suggestCharts:', error);\n",
       "      }\n",
       "      quickchartButtonEl.classList.remove('colab-df-spinner');\n",
       "      quickchartButtonEl.classList.add('colab-df-quickchart-complete');\n",
       "    }\n",
       "    (() => {\n",
       "      let quickchartButtonEl =\n",
       "        document.querySelector('#df-b850ff8b-8fcc-433e-b65c-488a7c0db270 button');\n",
       "      quickchartButtonEl.style.display =\n",
       "        google.colab.kernel.accessAllowed ? 'block' : 'none';\n",
       "    })();\n",
       "  </script>\n",
       "</div>\n",
       "\n",
       "    </div>\n",
       "  </div>\n"
      ],
      "text/plain": [
       "                                       final_results  \\\n",
       "0  {'final_results': [{'score': 0.8746502, 'id': ...   \n",
       "1  {'final_results': [{'score': 0.8746502, 'id': ...   \n",
       "2  {'final_results': [{'score': 0.8746502, 'id': ...   \n",
       "3  {'final_results': [{'score': 0.8746502, 'id': ...   \n",
       "4  {'final_results': [{'score': 0.8746502, 'id': ...   \n",
       "\n",
       "   retrieved_correct_position  reranked_correct_position  \\\n",
       "0                         0.0                        0.0   \n",
       "1                         0.0                        0.0   \n",
       "2                         0.0                        0.0   \n",
       "3                         0.0                        2.0   \n",
       "4                         0.0                        0.0   \n",
       "\n",
       "                               results_from_pinecone  \n",
       "0  [{'id': '2f90090e21f19450887d5f3ff781e541',\n",
       " '...  \n",
       "1  [{'id': '49201636ad4102735125e146c0dbafa4',\n",
       " '...  \n",
       "2  [{'id': '80d92494d2b06f341842f1855d2938cf',\n",
       " '...  \n",
       "3  [{'id': 'e3fd54f33b021ea3cf88b438fefcada7',\n",
       " '...  \n",
       "4  [{'id': '37ed40c20d4e1b9cc8d6cc27a4d0fff3',\n",
       " '...  "
      ]
     },
     "execution_count": 285,
     "metadata": {},
     "output_type": "execute_result"
    }
   ],
   "source": [
    "import pandas as pd\n",
    "\n",
    "predictions_df = pd.DataFrame(predictions)\n",
    "predictions_df.head()"
   ]
  },
  {
   "cell_type": "code",
   "execution_count": null,
   "id": "831397d3-606a-4c7f-b77f-6ee85bd24f7e",
   "metadata": {
    "colab": {
     "base_uri": "https://localhost:8080/"
    },
    "id": "831397d3-606a-4c7f-b77f-6ee85bd24f7e",
    "outputId": "041c1a5c-cdef-4668-bb59-2700997c67ab"
   },
   "outputs": [
    {
     "data": {
      "text/plain": [
       "retrieved_correct_position    1.311052\n",
       "reranked_correct_position     0.682709\n",
       "dtype: float64"
      ]
     },
     "execution_count": 288,
     "metadata": {},
     "output_type": "execute_result"
    }
   ],
   "source": [
    "predictions_df[['retrieved_correct_position', 'reranked_correct_position']].mean()  # lower is better"
   ]
  },
  {
   "cell_type": "code",
   "execution_count": null,
   "id": "eyv-6pPIEy0r",
   "metadata": {
    "colab": {
     "base_uri": "https://localhost:8080/"
    },
    "id": "eyv-6pPIEy0r",
    "outputId": "4d82a213-bd82-44e4-d933-8d39870c2f4d"
   },
   "outputs": [
    {
     "name": "stdout",
     "output_type": "stream",
     "text": [
      "1 866 956\n",
      "3 1009 1057\n",
      "5 1048 1077\n",
      "10 1072 1094\n",
      "25 1108 1120\n",
      "50 1122 1122\n"
     ]
    }
   ],
   "source": [
    "# do recall @ 1, 3, 5, 10\n",
    "for k in (1, 3, 5, 10, 25, 50):\n",
    "    embedding_only_recall = predictions_df[predictions_df['retrieved_correct_position'] < k].shape[0]\n",
    "    reranked_recall = predictions_df[predictions_df['reranked_correct_position'] < k].shape[0]\n",
    "    print(k, embedding_only_recall, reranked_recall)"
   ]
  },
  {
   "cell_type": "code",
   "execution_count": null,
   "id": "vtMoDh0-TDpr",
   "metadata": {
    "colab": {
     "base_uri": "https://localhost:8080/"
    },
    "id": "vtMoDh0-TDpr",
    "outputId": "8581d271-8699-4925-9b57-341a09a64c1a"
   },
   "outputs": [
    {
     "data": {
      "text/plain": [
       "(1148, 4)"
      ]
     },
     "execution_count": 291,
     "metadata": {},
     "output_type": "execute_result"
    }
   ],
   "source": [
    "predictions_df.shape"
   ]
  },
  {
   "cell_type": "markdown",
   "id": "ea30153c",
   "metadata": {
    "id": "ea30153c"
   },
   "source": [
    "# Fine-tuning our cross-encoder re-ranker"
   ]
  },
  {
   "cell_type": "code",
   "execution_count": null,
   "id": "508edaf6",
   "metadata": {
    "colab": {
     "base_uri": "https://localhost:8080/"
    },
    "id": "508edaf6",
    "outputId": "1938803f-c8bd-478b-a37c-3a3894e1c106"
   },
   "outputs": [
    {
     "data": {
      "text/plain": [
       "{'id': 'a4968ca8a18de16aa3859be760e43dbd3af3fce9',\n",
       " 'title': 'Area 51',\n",
       " 'context': 'In 1994, five unnamed civilian contractors and the widows of contractors Walter Kasza and Robert Frost sued the USAF and the United States Environmental Protection Agency. Their suit, in which they were represented by George Washington University law professor Jonathan Turley, alleged they had been present when large quantities of unknown chemicals had been burned in open pits and trenches at Groom. Biopsies taken from the complainants were analyzed by Rutgers University biochemists, who found high levels of dioxin, dibenzofuran, and trichloroethylene in their body fat. The complainants alleged they had sustained skin, liver, and respiratory injuries due to their work at Groom, and that this had contributed to the deaths of Frost and Kasza. The suit sought compensation for the injuries they had sustained, claiming the USAF had illegally handled toxic materials, and that the EPA had failed in its duty to enforce the Resource Conservation and Recovery Act (which governs handling of dangerous materials). They also sought detailed information about the chemicals to which they were allegedly exposed, hoping this would facilitate the medical treatment of survivors. Congressman Lee H. Hamilton, former chairman of the House Intelligence Committee, told 60 Minutes reporter Lesley Stahl, \"The Air Force is classifying all information about Area 51 in order to protect themselves from a lawsuit.\"',\n",
       " 'question': 'Who analyzed the biopsies?',\n",
       " 'answers': {'answer_start': [457],\n",
       "  'text': ['Rutgers University biochemists']}}"
      ]
     },
     "execution_count": 191,
     "metadata": {},
     "output_type": "execute_result"
    }
   ],
   "source": [
    "dataset['train'][0]"
   ]
  },
  {
   "cell_type": "code",
   "execution_count": null,
   "id": "51bf1607",
   "metadata": {
    "id": "51bf1607"
   },
   "outputs": [],
   "source": [
    "from sentence_transformers import InputExample, losses, evaluation\n",
    "from torch.utils.data import DataLoader\n",
    "from random import shuffle\n",
    "\n",
    "shuffled_training_passages = dataset['train']['question'].copy()\n",
    "shuffle(shuffled_training_passages)"
   ]
  },
  {
   "cell_type": "code",
   "execution_count": null,
   "id": "6b58d2d0",
   "metadata": {
    "id": "6b58d2d0"
   },
   "outputs": [],
   "source": []
  },
  {
   "cell_type": "code",
   "execution_count": null,
   "id": "50fd5c19-894a-41e4-bf6f-d9e1197c053f",
   "metadata": {
    "colab": {
     "base_uri": "https://localhost:8080/"
    },
    "id": "50fd5c19-894a-41e4-bf6f-d9e1197c053f",
    "outputId": "8501a6c6-548c-4928-ecb7-4ed99339063b"
   },
   "outputs": [
    {
     "data": {
      "text/plain": [
       "(9916, 11590)"
      ]
     },
     "execution_count": 197,
     "metadata": {},
     "output_type": "execute_result"
    }
   ],
   "source": [
    "unique_train_passages = list(set(dataset['train']['context']))\n",
    "len(unique_train_passages), len(dataset['train']['context'])"
   ]
  },
  {
   "cell_type": "code",
   "execution_count": null,
   "id": "ce8e076e-4822-4686-b57a-b8c0e09583e5",
   "metadata": {
    "id": "ce8e076e-4822-4686-b57a-b8c0e09583e5"
   },
   "outputs": [],
   "source": [
    "from sentence_transformers import SentenceTransformer\n",
    "\n",
    "bi_encoder = SentenceTransformer(\"sentence-transformers/msmarco-MiniLM-L-6-v3\")"
   ]
  },
  {
   "cell_type": "code",
   "execution_count": null,
   "id": "c4ae6f1f-0523-40ff-8d5d-f374e4ead044",
   "metadata": {
    "colab": {
     "base_uri": "https://localhost:8080/",
     "height": 49,
     "referenced_widgets": [
      "dbca2d7da970438892d45cd387434f6f",
      "6f5389fdc3674a05ad79bb9456a5995f",
      "7a5c511f2fe84c66beef7fed87023669",
      "70e45cb4f2f64c499acc785ec64743fe",
      "bb260568c96a4397bba2b1058404eec2",
      "e281ca37b72d422285aa64193265aaa4",
      "687d7bf7373f4541852203637e18d2e3",
      "5a7b319329164b27bf452869e2335aef",
      "e5a88639e7e5430fbe44f73d2e5a4b23",
      "d9f6781147a24bc3aec97b87927bdfbb",
      "d0c85ebbf1a54fdcaa33210aa3e247b8"
     ]
    },
    "id": "c4ae6f1f-0523-40ff-8d5d-f374e4ead044",
    "outputId": "847007cf-bf2e-4d3a-a10f-fd84123c1eb0"
   },
   "outputs": [
    {
     "data": {
      "application/vnd.jupyter.widget-view+json": {
       "model_id": "dbca2d7da970438892d45cd387434f6f",
       "version_major": 2,
       "version_minor": 0
      },
      "text/plain": [
       "Batches:   0%|          | 0/620 [00:00<?, ?it/s]"
      ]
     },
     "metadata": {},
     "output_type": "display_data"
    }
   ],
   "source": [
    "embeddings = bi_encoder.encode(\n",
    "    unique_train_passages,\n",
    "    show_progress_bar=True,\n",
    "    batch_size=16,\n",
    "    normalize_embeddings=True\n",
    ")"
   ]
  },
  {
   "cell_type": "code",
   "execution_count": null,
   "id": "5eaad504-b944-4e36-987f-34126189c1a9",
   "metadata": {
    "colab": {
     "base_uri": "https://localhost:8080/"
    },
    "id": "5eaad504-b944-4e36-987f-34126189c1a9",
    "outputId": "ac4a626c-862b-4676-f177-4b3c477d93c1"
   },
   "outputs": [
    {
     "data": {
      "text/plain": [
       "(9916, (9916, 384))"
      ]
     },
     "execution_count": 199,
     "metadata": {},
     "output_type": "execute_result"
    }
   ],
   "source": [
    "len(unique_train_passages), embeddings.shape"
   ]
  },
  {
   "cell_type": "code",
   "execution_count": null,
   "id": "361d5ef0-3fe3-4ed8-87c0-1cea3d9abcc2",
   "metadata": {
    "id": "361d5ef0-3fe3-4ed8-87c0-1cea3d9abcc2",
    "scrolled": true
   },
   "outputs": [],
   "source": [
    "# use sentence_transformers.util.semantic_search\n",
    "from sentence_transformers.util import semantic_search\n",
    "\n",
    "unique_train_passages = np.array(unique_train_passages)\n",
    "\n",
    "# Function to find most similar document\n",
    "def find_most_similar(text, embeddings, documents, k=3):\n",
    "    query_embedding = bi_encoder.encode([text], show_progress_bar=False)\n",
    "    similarities = semantic_search(query_embedding, embeddings, top_k=k)\n",
    "    return [(documents[sim['corpus_id']], sim['score'], sim['corpus_id']) for sim in similarities[0]]"
   ]
  },
  {
   "cell_type": "code",
   "execution_count": null,
   "id": "c7d79fe9-f053-40e7-a2e6-2efd715b43f7",
   "metadata": {
    "colab": {
     "base_uri": "https://localhost:8080/"
    },
    "id": "c7d79fe9-f053-40e7-a2e6-2efd715b43f7",
    "outputId": "5112eaae-cf89-4779-a87c-dcd03750798c"
   },
   "outputs": [
    {
     "name": "stdout",
     "output_type": "stream",
     "text": [
      "The ancient Egyptians engaged in trade with their foreign neighbors to obtain rare, exotic goods not found in Egypt. In the Predynastic Period, they established trade with Nubia to obtain gold and incense. They also established trade with Palestine, as evidenced by Palestinian-style oil jugs found in the burials of the First Dynasty pharaohs. An Egyptian colony stationed in southern Canaan dates to slightly before the First Dynasty. Narmer had Egyptian pottery produced in Canaan and exported back to Egypt.By the Second Dynasty at latest, ancient Egyptian trade with Byblos yielded a critical source of quality timber not found in Egypt. By the Fifth Dynasty, trade with Punt provided gold, aromatic resins, ebony, ivory, and wild animals such as monkeys and baboons. Egypt relied on trade with Anatolia for essential quantities of tin as well as supplementary supplies of copper, both metals being necessary for the manufacture of bronze. The ancient Egyptians prized the blue stone lapis lazuli, which had to be imported from far-away Afghanistan. Egypt's Mediterranean trade partners also included Greece and Crete, which provided, among other goods, supplies of olive oil. In exchange for its luxury imports and raw materials, Egypt mainly exported grain, gold, linen, and papyrus, in addition to other finished goods including glass and stone objects.\n"
     ]
    },
    {
     "data": {
      "text/plain": [
       "[(\"The ancient Egyptians engaged in trade with their foreign neighbors to obtain rare, exotic goods not found in Egypt. In the Predynastic Period, they established trade with Nubia to obtain gold and incense. They also established trade with Palestine, as evidenced by Palestinian-style oil jugs found in the burials of the First Dynasty pharaohs. An Egyptian colony stationed in southern Canaan dates to slightly before the First Dynasty. Narmer had Egyptian pottery produced in Canaan and exported back to Egypt.By the Second Dynasty at latest, ancient Egyptian trade with Byblos yielded a critical source of quality timber not found in Egypt. By the Fifth Dynasty, trade with Punt provided gold, aromatic resins, ebony, ivory, and wild animals such as monkeys and baboons. Egypt relied on trade with Anatolia for essential quantities of tin as well as supplementary supplies of copper, both metals being necessary for the manufacture of bronze. The ancient Egyptians prized the blue stone lapis lazuli, which had to be imported from far-away Afghanistan. Egypt's Mediterranean trade partners also included Greece and Crete, which provided, among other goods, supplies of olive oil. In exchange for its luxury imports and raw materials, Egypt mainly exported grain, gold, linen, and papyrus, in addition to other finished goods including glass and stone objects.\",\n",
       "  1.0,\n",
       "  0),\n",
       " ('Egypt is rich in building and decorative stone, copper and lead ores, gold, and semiprecious stones. These natural resources allowed the ancient Egyptians to build monuments, sculpt statues, make tools, and fashion jewelry. Embalmers used salts from the Wadi Natrun for mummification, which also provided the gypsum needed to make plaster. Ore-bearing rock formations were found in distant, inhospitable wadis in the eastern desert and the Sinai, requiring large, state-controlled expeditions to obtain natural resources found there. There were extensive gold mines in Nubia, and one of the first maps known is of a gold mine in this region. The Wadi Hammamat was a notable source of granite, greywacke, and gold. Flint was the first mineral collected and used to make tools, and flint handaxes are the earliest pieces of evidence of habitation in the Nile valley. Nodules of the mineral were carefully flaked to make blades and arrowheads of moderate hardness and durability even after copper was adopted for this purpose. Ancient Egyptians were among the first to use minerals such as sulfur as cosmetic substances.The Egyptians worked deposits of the lead ore galena at Gebel Rosas to make net sinkers, plumb bobs, and small figurines. Copper was the most important metal for toolmaking in ancient Egypt and was smelted in furnaces from malachite ore mined in the Sinai. Workers collected gold by washing the nuggets out of sediment in alluvial deposits, or by the more labor-intensive process of grinding and washing gold-bearing quartzite. Iron deposits found in upper Egypt were utilized in the Late Period. High-quality building stones were abundant in Egypt; the ancient Egyptians quarried limestone all along the Nile valley, granite from Aswan, and basalt and sandstone from the wadis of the eastern desert. Deposits of decorative stones such as porphyry, greywacke, alabaster, and carnelian dotted the eastern desert and were collected even before the First Dynasty. In the Ptolemaic and Roman Periods, miners worked deposits of emeralds in Wadi Sikait and amethyst in Wadi el-Hudi.',\n",
       "  0.7423145174980164,\n",
       "  1393),\n",
       " ('The ancient Egyptians viewed men and women, including people from all social classes except slaves, as essentially equal under the law, and even the lowliest peasant was entitled to petition the vizier and his court for redress. Although slaves were mostly used as indentured servants, they were able to buy and sell their servitude, work their way to freedom or nobility, and were usually treated by doctors in the workplace. Both men and women had the right to own and sell property, make contracts, marry and divorce, receive inheritance, and pursue legal disputes in court. Married couples could own property jointly and protect themselves from divorce by agreeing to marriage contracts, which stipulated the financial obligations of the husband to his wife and children should the marriage end. Compared with their counterparts in ancient Greece, Rome, and even more modern places around the world, ancient Egyptian women had a greater range of personal choices and opportunities for achievement. Women such as Hatshepsut and Cleopatra VII even became pharaohs, while others wielded power as Divine Wives of Amun. Despite these freedoms, ancient Egyptian women did not often take part in official roles in the administration, served only secondary roles in the temples, and were not as likely to be as educated as men.',\n",
       "  0.6631918549537659,\n",
       "  1693)]"
      ]
     },
     "execution_count": 201,
     "metadata": {},
     "output_type": "execute_result"
    }
   ],
   "source": [
    "# Example usage\n",
    "input_text = unique_train_passages[0]\n",
    "print(input_text)\n",
    "\n",
    "find_most_similar(input_text, embeddings, unique_train_passages)"
   ]
  },
  {
   "cell_type": "code",
   "execution_count": null,
   "id": "262e4ca4-0bfe-4243-9534-49370ed66b40",
   "metadata": {
    "colab": {
     "base_uri": "https://localhost:8080/"
    },
    "id": "262e4ca4-0bfe-4243-9534-49370ed66b40",
    "outputId": "79506047-cc55-4163-e4c4-85274f0622f0"
   },
   "outputs": [
    {
     "name": "stderr",
     "output_type": "stream",
     "text": [
      "100%|██████████| 11590/11590 [01:54<00:00, 100.86it/s]\n"
     ]
    }
   ],
   "source": [
    "# add some negative examples\n",
    "train_samples = []\n",
    "\n",
    "for train_example in tqdm(dataset['train']):\n",
    "    for i, (passage, score, corpus_idx) in enumerate(find_most_similar(train_example['question'], embeddings, unique_train_passages)):\n",
    "        train_samples.append(\n",
    "            InputExample(\n",
    "                texts=[train_example['question'], passage], label=1 if i == 0 else 0\n",
    "            )\n",
    "        )\n",
    "\n",
    "shuffle(train_samples)\n"
   ]
  },
  {
   "cell_type": "code",
   "execution_count": null,
   "id": "b281241b-54ed-4405-a101-f774efd2317d",
   "metadata": {
    "colab": {
     "base_uri": "https://localhost:8080/"
    },
    "id": "b281241b-54ed-4405-a101-f774efd2317d",
    "outputId": "649df482-1761-4ba9-c20d-4364e037e2b0"
   },
   "outputs": [
    {
     "data": {
      "text/plain": [
       "34770"
      ]
     },
     "execution_count": 203,
     "metadata": {},
     "output_type": "execute_result"
    }
   ],
   "source": [
    "len(train_samples)"
   ]
  },
  {
   "cell_type": "code",
   "execution_count": null,
   "id": "8e7eaa40",
   "metadata": {
    "colab": {
     "base_uri": "https://localhost:8080/"
    },
    "id": "8e7eaa40",
    "outputId": "2d1ab8ba-9f2e-4b24-b104-baf10d58e45f"
   },
   "outputs": [
    {
     "data": {
      "text/plain": [
       "{'guid': '',\n",
       " 'texts': ['How was Mike Leander also known as?',\n",
       "  \"Günter Theodor Netzer (born 14 September 1944 in Mönchengladbach) is a former German football player and team general manager currently working in the media business. He achieved great success in Germany with Borussia Mönchengladbach in the early 1970s, and, after moving to Spain in 1973, with Real Madrid. He played as an attacking midfielder, and is considered one of the greatest passers in the game's history. He was voted Footballer of the Year in Germany twice, in 1972 and 1973. He was the general manager for Hamburger SV during much of the team's golden period from the late 1970s through the early 1980s, when the club won three league titles and the 1983 European Cup.\"],\n",
       " 'label': 0}"
      ]
     },
     "execution_count": 204,
     "metadata": {},
     "output_type": "execute_result"
    }
   ],
   "source": [
    "train_samples[0].__dict__"
   ]
  },
  {
   "cell_type": "code",
   "execution_count": null,
   "id": "5fb16949-464e-4885-bf2a-f5e1cc7fe5b1",
   "metadata": {
    "colab": {
     "base_uri": "https://localhost:8080/"
    },
    "id": "5fb16949-464e-4885-bf2a-f5e1cc7fe5b1",
    "outputId": "a26b3848-0cb8-4bd0-b155-4a8df4b24f19"
   },
   "outputs": [
    {
     "data": {
      "text/plain": [
       "{'guid': '',\n",
       " 'texts': ['When did US troops finally leave Uzbekistan?',\n",
       "  \"In 1918, Japan continued to extend its influence and privileges in China via the Nishihara Loans. Following the Bolshevik Revolution in Russia, Japan and the United States sent forces to Siberia in 1918 to bolster the armies of the White movement leader Admiral Alexander Kolchak against the Bolshevik Red Army. In this Siberian Intervention, the Imperial Japanese Army initially planned to send more than 70,000 troops to occupy Siberia as far west as Lake Baikal. The plan was scaled back considerably due to opposition from the United States.Toward the end of the war, Japan increasingly filled orders for needed war material for its European allies. The wartime boom helped to diversify the country's industry, increase its exports, and transform Japan from a debtor to a creditor nation for the first time. Exports quadrupled from 1913 to 1918. The massive capital influx into Japan and the subsequent industrial boom led to rapid inflation. In August 1918, rice riots caused by this inflation erupted in towns and cities throughout Japan.\"],\n",
       " 'label': 0}"
      ]
     },
     "execution_count": 205,
     "metadata": {},
     "output_type": "execute_result"
    }
   ],
   "source": [
    "train_samples[1].__dict__"
   ]
  },
  {
   "cell_type": "code",
   "execution_count": null,
   "id": "bc2bc9d1",
   "metadata": {
    "colab": {
     "base_uri": "https://localhost:8080/"
    },
    "id": "bc2bc9d1",
    "outputId": "97ead4f4-bce2-4e8b-d379-1baab6ddd641"
   },
   "outputs": [
    {
     "name": "stdout",
     "output_type": "stream",
     "text": [
      "Warmup-steps: 174\n"
     ]
    }
   ],
   "source": [
    "from sentence_transformers.cross_encoder.evaluation import CECorrelationEvaluator, CEBinaryClassificationEvaluator\n",
    "import math\n",
    "import torch\n",
    "from random import sample\n",
    "\n",
    "logger.setLevel(logging.DEBUG)  # just to get some logs\n",
    "\n",
    "num_epochs = 1\n",
    "\n",
    "model_save_path = './fine_tuned_ir_cross_encoder'\n",
    "\n",
    "train_dataloader = DataLoader(train_samples[:int(len(train_samples)*.8)], shuffle=True, batch_size=16)\n",
    "\n",
    "# An evaluator for training performance\n",
    "evaluator = CECorrelationEvaluator.from_input_examples(train_samples[int(len(train_samples)*.8):], name='test')\n",
    "\n",
    "# Rule of thumb for warmup steps\n",
    "warmup_steps = math.ceil(len(train_dataloader) * num_epochs * 0.1)  # 10% of train data for warm-up\n",
    "print(f\"Warmup-steps: {warmup_steps}\")"
   ]
  },
  {
   "cell_type": "code",
   "execution_count": null,
   "id": "ce4e8079-1335-4d53-944d-3ed0f6537781",
   "metadata": {
    "colab": {
     "base_uri": "https://localhost:8080/",
     "height": 137,
     "referenced_widgets": [
      "f36d8f08f6284b848622fd560196cc78",
      "608d1345487046ceb64b0b31a4287ae0",
      "43c8db4be4984f6da1540de6bc89b616",
      "6cb81ad9ee8141aa9d0fbefc276f244d",
      "8e989ddf9d274876a3ba06056e7147a1",
      "fce9aa1662c34941afadd6141aba9180",
      "098016d32abc4f45be0a4f747cbc3f11",
      "dc26c84713fb45f5a6c5b870c96d9d9e",
      "a6ac9d7aed4c493db567b015ab8502a5",
      "80e18075a957476591fa1ba2585b7a73",
      "e1d8ec56e5614d77a6999a42283be94b",
      "21316ef8a22d40ab9109ccf0fa7fa645",
      "458bcab796d642c9afd2e534085b991f",
      "266b42f10bd74b9f907588c1251c8d6c",
      "ba968ae891a2400fa0db9f331b85b66c",
      "5d09ef7e47f446a3a3a51458195a0fe3",
      "352af51e6e7943a7a41d3bbe41885d8d",
      "2cb4c1bff01b4f669ecd8583187bab9f",
      "b070922627a04195a41899a169984b08",
      "85a67e7f5d2845329d63f0922bb5d9a6",
      "5b3c84192618410ea1793239c4514c6e",
      "7bd0527b8e174aec9911c5b32dc048fd"
     ]
    },
    "id": "ce4e8079-1335-4d53-944d-3ed0f6537781",
    "outputId": "446b8d35-7bc9-48d5-c9ab-60dc6b3762fc"
   },
   "outputs": [
    {
     "data": {
      "application/vnd.jupyter.widget-view+json": {
       "model_id": "f36d8f08f6284b848622fd560196cc78",
       "version_major": 2,
       "version_minor": 0
      },
      "text/plain": [
       "Batches:   0%|          | 0/1 [00:00<?, ?it/s]"
      ]
     },
     "metadata": {},
     "output_type": "display_data"
    },
    {
     "name": "stdout",
     "output_type": "stream",
     "text": [
      "{'guid': '', 'texts': ['What can be inferred about Zionism?', 'Determines that Zionism is a form of racism and racial discrimination.'], 'label': 1} 0.9391304\n"
     ]
    },
    {
     "data": {
      "application/vnd.jupyter.widget-view+json": {
       "model_id": "21316ef8a22d40ab9109ccf0fa7fa645",
       "version_major": 2,
       "version_minor": 0
      },
      "text/plain": [
       "Batches:   0%|          | 0/1 [00:00<?, ?it/s]"
      ]
     },
     "metadata": {},
     "output_type": "display_data"
    },
    {
     "name": "stdout",
     "output_type": "stream",
     "text": [
      "{'guid': '', 'texts': ['How was Mike Leander also known as?', \"Günter Theodor Netzer (born 14 September 1944 in Mönchengladbach) is a former German football player and team general manager currently working in the media business. He achieved great success in Germany with Borussia Mönchengladbach in the early 1970s, and, after moving to Spain in 1973, with Real Madrid. He played as an attacking midfielder, and is considered one of the greatest passers in the game's history. He was voted Footballer of the Year in Germany twice, in 1972 and 1973. He was the general manager for Hamburger SV during much of the team's golden period from the late 1970s through the early 1980s, when the club won three league titles and the 1983 European Cup.\"], 'label': 0} 0.00016999716\n"
     ]
    }
   ],
   "source": [
    "for t in train_samples:\n",
    "    if t.label == 1:\n",
    "        print(t.__dict__, cross_encoder.predict(t.texts, activation_fct=nn.Sigmoid()))\n",
    "        break\n",
    "for t in train_samples:\n",
    "    if t.label == 0:\n",
    "        print(t.__dict__, cross_encoder.predict(t.texts, activation_fct=nn.Sigmoid()))\n",
    "        break"
   ]
  },
  {
   "cell_type": "code",
   "execution_count": null,
   "id": "f981bd03-bb31-492d-aabf-d5e6c7647704",
   "metadata": {
    "colab": {
     "base_uri": "https://localhost:8080/"
    },
    "id": "f981bd03-bb31-492d-aabf-d5e6c7647704",
    "outputId": "f918fbbb-80b1-44b5-eee7-219d4e632dc7"
   },
   "outputs": [
    {
     "data": {
      "text/plain": [
       "0.3844874561927453"
      ]
     },
     "execution_count": 251,
     "metadata": {},
     "output_type": "execute_result"
    }
   ],
   "source": [
    "evaluator(cross_encoder)"
   ]
  },
  {
   "cell_type": "code",
   "execution_count": null,
   "id": "0de4dbc8",
   "metadata": {
    "colab": {
     "base_uri": "https://localhost:8080/",
     "height": 81,
     "referenced_widgets": [
      "e31ae00bfabe4ed5b058d7dbe55a80f6",
      "b9fbabd33a2a4d0a94055cd086d83228",
      "b281e2a5a8204b52827f01316d637952",
      "cdd38d9a948a4a4c8408dcb06d7c584a",
      "b86aa89087cb425198afa2db30d86600",
      "168948926c2340abb8b52f8dd67a5e73",
      "8396e1788d5540a79a9d195e2753351a",
      "084ebc36eb9d4616acc1a0843673ac4f",
      "252dfe4d46604a089c263bb0eae17a3a",
      "2aa32422748943759daf5ef05077bda0",
      "e7c672eb19574b32811bdcc3f6ac0b34",
      "37395cf0cac548c783ccbdac230c4a3c",
      "8085fe243d814d5da2b4d6b665a6aa51",
      "0295736b3f254a8590d911792f2c19db",
      "ad079ced956841be88a3ab6f2fdcd88d",
      "953b16307b514bc995efc40ff8f4698b",
      "4d26773cf0ec45fc9ac3185f8141cfe6",
      "d7959d1933e5466095bed23bb268afd5",
      "3f1ba16f17c94fb8a409d152b9a6045a",
      "c485139a148e4207957e96b4275eeed2",
      "6f96c8a415744597bcaa83141b3a457c",
      "8e41a0a7932b4f0b8a448847ff3f14ff"
     ]
    },
    "id": "0de4dbc8",
    "outputId": "1190bca8-f5ae-4907-cd50-1d6771ef1e22"
   },
   "outputs": [
    {
     "data": {
      "application/vnd.jupyter.widget-view+json": {
       "model_id": "e31ae00bfabe4ed5b058d7dbe55a80f6",
       "version_major": 2,
       "version_minor": 0
      },
      "text/plain": [
       "Epoch:   0%|          | 0/1 [00:00<?, ?it/s]"
      ]
     },
     "metadata": {},
     "output_type": "display_data"
    },
    {
     "data": {
      "application/vnd.jupyter.widget-view+json": {
       "model_id": "37395cf0cac548c783ccbdac230c4a3c",
       "version_major": 2,
       "version_minor": 0
      },
      "text/plain": [
       "Iteration:   0%|          | 0/1739 [00:00<?, ?it/s]"
      ]
     },
     "metadata": {},
     "output_type": "display_data"
    }
   ],
   "source": [
    "# Train the model\n",
    "from sentence_transformers import InputExample, losses, evaluation\n",
    "\n",
    "# you may turn on debug for more logs here e.g. logger.setLevel(logging.DEBUG)\n",
    "cross_encoder.fit(\n",
    "    train_dataloader=train_dataloader,\n",
    "    loss_fct=nn.BCEWithLogitsLoss(),  # this is the default loss if num_labels is 1 otherwise CrossEntropyLoss\n",
    "    evaluator=evaluator,\n",
    "    epochs=num_epochs,\n",
    "    warmup_steps=warmup_steps,\n",
    "    output_path=model_save_path,\n",
    "    use_amp=True\n",
    ")"
   ]
  },
  {
   "cell_type": "code",
   "execution_count": null,
   "id": "9_a5R9sVBvHN",
   "metadata": {
    "colab": {
     "base_uri": "https://localhost:8080/"
    },
    "id": "9_a5R9sVBvHN",
    "outputId": "fdba13f3-8eaa-4bf8-8056-3168674bd0a8"
   },
   "outputs": [
    {
     "data": {
      "text/plain": [
       "0.42047041059290036"
      ]
     },
     "execution_count": 260,
     "metadata": {},
     "output_type": "execute_result"
    }
   ],
   "source": [
    "evaluator(cross_encoder)"
   ]
  },
  {
   "cell_type": "code",
   "execution_count": null,
   "id": "2f747537",
   "metadata": {
    "colab": {
     "base_uri": "https://localhost:8080/"
    },
    "id": "2f747537",
    "outputId": "bb2caf80-5b00-4f57-aaf0-245fc586ef5f"
   },
   "outputs": [
    {
     "name": "stdout",
     "output_type": "stream",
     "text": [
      "0.9973792\n",
      "5.941634\n"
     ]
    }
   ],
   "source": [
    "finetuned = CrossEncoder(model_save_path)\n",
    "\n",
    "print(finetuned.predict(['hello', 'hi'], activation_fct=nn.Sigmoid()))\n",
    "print(finetuned.predict(['hello', 'hi'], activation_fct=nn.Identity()))"
   ]
  },
  {
   "cell_type": "code",
   "execution_count": null,
   "id": "KGSvctdu4pRR",
   "metadata": {
    "id": "KGSvctdu4pRR"
   },
   "outputs": [],
   "source": []
  },
  {
   "cell_type": "code",
   "execution_count": null,
   "id": "94cf736e",
   "metadata": {
    "colab": {
     "base_uri": "https://localhost:8080/"
    },
    "id": "94cf736e",
    "outputId": "28ee86d1-ada9-44d5-9fde-eaede674f0ac",
    "scrolled": true
   },
   "outputs": [
    {
     "name": "stderr",
     "output_type": "stream",
     "text": [
      "  9%|▊         | 100/1148 [02:38<27:50,  1.59s/it]"
     ]
    },
    {
     "name": "stdout",
     "output_type": "stream",
     "text": [
      "Accuracy without re-ranking: 0.78\n",
      "Accuracy with re-ranking: 0.84\n"
     ]
    },
    {
     "name": "stderr",
     "output_type": "stream",
     "text": [
      " 17%|█▋        | 200/1148 [05:18<26:10,  1.66s/it]"
     ]
    },
    {
     "name": "stdout",
     "output_type": "stream",
     "text": [
      "Accuracy without re-ranking: 0.765\n",
      "Accuracy with re-ranking: 0.84\n"
     ]
    },
    {
     "name": "stderr",
     "output_type": "stream",
     "text": [
      " 26%|██▌       | 300/1148 [07:57<22:00,  1.56s/it]"
     ]
    },
    {
     "name": "stdout",
     "output_type": "stream",
     "text": [
      "Accuracy without re-ranking: 0.7666666666666667\n",
      "Accuracy with re-ranking: 0.8266666666666667\n"
     ]
    },
    {
     "name": "stderr",
     "output_type": "stream",
     "text": [
      " 35%|███▍      | 400/1148 [10:37<19:44,  1.58s/it]"
     ]
    },
    {
     "name": "stdout",
     "output_type": "stream",
     "text": [
      "Accuracy without re-ranking: 0.7625\n",
      "Accuracy with re-ranking: 0.84\n"
     ]
    },
    {
     "name": "stderr",
     "output_type": "stream",
     "text": [
      " 44%|████▎     | 500/1148 [13:17<17:16,  1.60s/it]"
     ]
    },
    {
     "name": "stdout",
     "output_type": "stream",
     "text": [
      "Accuracy without re-ranking: 0.764\n",
      "Accuracy with re-ranking: 0.85\n"
     ]
    },
    {
     "name": "stderr",
     "output_type": "stream",
     "text": [
      " 52%|█████▏    | 600/1148 [16:00<14:35,  1.60s/it]"
     ]
    },
    {
     "name": "stdout",
     "output_type": "stream",
     "text": [
      "Accuracy without re-ranking: 0.7683333333333333\n",
      "Accuracy with re-ranking: 0.8566666666666667\n"
     ]
    },
    {
     "name": "stderr",
     "output_type": "stream",
     "text": [
      " 61%|██████    | 700/1148 [18:40<12:28,  1.67s/it]"
     ]
    },
    {
     "name": "stdout",
     "output_type": "stream",
     "text": [
      "Accuracy without re-ranking: 0.7471428571428571\n",
      "Accuracy with re-ranking: 0.8428571428571429\n"
     ]
    },
    {
     "name": "stderr",
     "output_type": "stream",
     "text": [
      " 70%|██████▉   | 800/1148 [21:21<09:13,  1.59s/it]"
     ]
    },
    {
     "name": "stdout",
     "output_type": "stream",
     "text": [
      "Accuracy without re-ranking: 0.74875\n",
      "Accuracy with re-ranking: 0.835\n"
     ]
    },
    {
     "name": "stderr",
     "output_type": "stream",
     "text": [
      " 78%|███████▊  | 900/1148 [25:36<06:43,  1.63s/it]"
     ]
    },
    {
     "name": "stdout",
     "output_type": "stream",
     "text": [
      "Accuracy without re-ranking: 0.7388888888888889\n",
      "Accuracy with re-ranking: 0.8333333333333334\n"
     ]
    },
    {
     "name": "stderr",
     "output_type": "stream",
     "text": [
      " 87%|████████▋ | 1000/1148 [28:16<04:00,  1.62s/it]"
     ]
    },
    {
     "name": "stdout",
     "output_type": "stream",
     "text": [
      "Accuracy without re-ranking: 0.741\n",
      "Accuracy with re-ranking: 0.835\n"
     ]
    },
    {
     "name": "stderr",
     "output_type": "stream",
     "text": [
      " 96%|█████████▌| 1100/1148 [30:57<01:16,  1.60s/it]"
     ]
    },
    {
     "name": "stdout",
     "output_type": "stream",
     "text": [
      "Accuracy without re-ranking: 0.7509090909090909\n",
      "Accuracy with re-ranking: 0.8436363636363636\n"
     ]
    },
    {
     "name": "stderr",
     "output_type": "stream",
     "text": [
      "100%|██████████| 1148/1148 [32:14<00:00,  1.68s/it]\n"
     ]
    }
   ],
   "source": [
    "logger.setLevel(logging.CRITICAL)\n",
    "\n",
    "ft_predictions = []\n",
    "\n",
    "for question in tqdm(test_sample['question']):\n",
    "    r = get_results_from_pinecone(\n",
    "        question, top_k=TOP_K, re_rank_model=finetuned, correct_hash=q_to_hash[question],\n",
    "        verbose=False\n",
    "        )\n",
    "\n",
    "    r['retrieved_correct_position'], r['reranked_correct_position']\n",
    "    ft_predictions.append(r)\n",
    "    if len(ft_predictions) % 100 == 0:\n",
    "        retrieved_accuracy = sum([_['retrieved_correct_position'] == 0 for _ in ft_predictions])/len(ft_predictions)\n",
    "        re_ranked_accuracy = sum([_['reranked_correct_position'] == 0 for _ in ft_predictions])/len(ft_predictions)\n",
    "\n",
    "        print(f'Accuracy without re-ranking: {retrieved_accuracy}')\n",
    "        print(f'Accuracy with re-ranking: {re_ranked_accuracy}')\n"
   ]
  },
  {
   "cell_type": "code",
   "execution_count": null,
   "id": "a07b782d-ef97-4c0a-be53-aefea5936676",
   "metadata": {
    "colab": {
     "base_uri": "https://localhost:8080/"
    },
    "id": "a07b782d-ef97-4c0a-be53-aefea5936676",
    "outputId": "b4daa149-efbf-4383-c233-ccd7b2bcfc17"
   },
   "outputs": [
    {
     "name": "stdout",
     "output_type": "stream",
     "text": [
      "Accuracy without re-ranking: 0.7543554006968641\n",
      "Accuracy with re-ranking: 0.8493031358885017\n"
     ]
    }
   ],
   "source": [
    "retrieved_accuracy = sum([_['retrieved_correct_position'] == 0 for _ in ft_predictions])/len(ft_predictions)\n",
    "re_ranked_accuracy = sum([_['reranked_correct_position'] == 0 for _ in ft_predictions])/len(ft_predictions)\n",
    "\n",
    "print(f'Accuracy without re-ranking: {retrieved_accuracy}')\n",
    "print(f'Accuracy with re-ranking: {re_ranked_accuracy}')"
   ]
  },
  {
   "cell_type": "code",
   "execution_count": null,
   "id": "bb46e242",
   "metadata": {
    "id": "bb46e242"
   },
   "outputs": [],
   "source": [
    "# Re-ranking got slightly better after 1 epoch"
   ]
  },
  {
   "cell_type": "code",
   "execution_count": null,
   "id": "0cfcd92e-31ad-4bf7-9e30-b6d260a06871",
   "metadata": {
    "colab": {
     "base_uri": "https://localhost:8080/",
     "height": 206
    },
    "id": "0cfcd92e-31ad-4bf7-9e30-b6d260a06871",
    "outputId": "ea88ceee-5307-491e-afe8-a5a8a43dba97"
   },
   "outputs": [
    {
     "data": {
      "text/html": [
       "\n",
       "  <div id=\"df-04533850-9071-4c72-8201-4d2b69823f96\" class=\"colab-df-container\">\n",
       "    <div>\n",
       "<style scoped>\n",
       "    .dataframe tbody tr th:only-of-type {\n",
       "        vertical-align: middle;\n",
       "    }\n",
       "\n",
       "    .dataframe tbody tr th {\n",
       "        vertical-align: top;\n",
       "    }\n",
       "\n",
       "    .dataframe thead th {\n",
       "        text-align: right;\n",
       "    }\n",
       "</style>\n",
       "<table border=\"1\" class=\"dataframe\">\n",
       "  <thead>\n",
       "    <tr style=\"text-align: right;\">\n",
       "      <th></th>\n",
       "      <th>final_results</th>\n",
       "      <th>retrieved_correct_position</th>\n",
       "      <th>reranked_correct_position</th>\n",
       "      <th>results_from_pinecone</th>\n",
       "    </tr>\n",
       "  </thead>\n",
       "  <tbody>\n",
       "    <tr>\n",
       "      <th>0</th>\n",
       "      <td>{'final_results': [{'score': 0.8746502, 'id': ...</td>\n",
       "      <td>0.0</td>\n",
       "      <td>0.0</td>\n",
       "      <td>[{'id': '2f90090e21f19450887d5f3ff781e541',\n",
       " '...</td>\n",
       "    </tr>\n",
       "    <tr>\n",
       "      <th>1</th>\n",
       "      <td>{'final_results': [{'score': 0.8746502, 'id': ...</td>\n",
       "      <td>0.0</td>\n",
       "      <td>0.0</td>\n",
       "      <td>[{'id': '49201636ad4102735125e146c0dbafa4',\n",
       " '...</td>\n",
       "    </tr>\n",
       "    <tr>\n",
       "      <th>2</th>\n",
       "      <td>{'final_results': [{'score': 0.8746502, 'id': ...</td>\n",
       "      <td>0.0</td>\n",
       "      <td>0.0</td>\n",
       "      <td>[{'id': '80d92494d2b06f341842f1855d2938cf',\n",
       " '...</td>\n",
       "    </tr>\n",
       "    <tr>\n",
       "      <th>3</th>\n",
       "      <td>{'final_results': [{'score': 0.8746502, 'id': ...</td>\n",
       "      <td>0.0</td>\n",
       "      <td>0.0</td>\n",
       "      <td>[{'id': 'e3fd54f33b021ea3cf88b438fefcada7',\n",
       " '...</td>\n",
       "    </tr>\n",
       "    <tr>\n",
       "      <th>4</th>\n",
       "      <td>{'final_results': [{'score': 0.8746502, 'id': ...</td>\n",
       "      <td>0.0</td>\n",
       "      <td>0.0</td>\n",
       "      <td>[{'id': '37ed40c20d4e1b9cc8d6cc27a4d0fff3',\n",
       " '...</td>\n",
       "    </tr>\n",
       "  </tbody>\n",
       "</table>\n",
       "</div>\n",
       "    <div class=\"colab-df-buttons\">\n",
       "\n",
       "  <div class=\"colab-df-container\">\n",
       "    <button class=\"colab-df-convert\" onclick=\"convertToInteractive('df-04533850-9071-4c72-8201-4d2b69823f96')\"\n",
       "            title=\"Convert this dataframe to an interactive table.\"\n",
       "            style=\"display:none;\">\n",
       "\n",
       "  <svg xmlns=\"http://www.w3.org/2000/svg\" height=\"24px\" viewBox=\"0 -960 960 960\">\n",
       "    <path d=\"M120-120v-720h720v720H120Zm60-500h600v-160H180v160Zm220 220h160v-160H400v160Zm0 220h160v-160H400v160ZM180-400h160v-160H180v160Zm440 0h160v-160H620v160ZM180-180h160v-160H180v160Zm440 0h160v-160H620v160Z\"/>\n",
       "  </svg>\n",
       "    </button>\n",
       "\n",
       "  <style>\n",
       "    .colab-df-container {\n",
       "      display:flex;\n",
       "      gap: 12px;\n",
       "    }\n",
       "\n",
       "    .colab-df-convert {\n",
       "      background-color: #E8F0FE;\n",
       "      border: none;\n",
       "      border-radius: 50%;\n",
       "      cursor: pointer;\n",
       "      display: none;\n",
       "      fill: #1967D2;\n",
       "      height: 32px;\n",
       "      padding: 0 0 0 0;\n",
       "      width: 32px;\n",
       "    }\n",
       "\n",
       "    .colab-df-convert:hover {\n",
       "      background-color: #E2EBFA;\n",
       "      box-shadow: 0px 1px 2px rgba(60, 64, 67, 0.3), 0px 1px 3px 1px rgba(60, 64, 67, 0.15);\n",
       "      fill: #174EA6;\n",
       "    }\n",
       "\n",
       "    .colab-df-buttons div {\n",
       "      margin-bottom: 4px;\n",
       "    }\n",
       "\n",
       "    [theme=dark] .colab-df-convert {\n",
       "      background-color: #3B4455;\n",
       "      fill: #D2E3FC;\n",
       "    }\n",
       "\n",
       "    [theme=dark] .colab-df-convert:hover {\n",
       "      background-color: #434B5C;\n",
       "      box-shadow: 0px 1px 3px 1px rgba(0, 0, 0, 0.15);\n",
       "      filter: drop-shadow(0px 1px 2px rgba(0, 0, 0, 0.3));\n",
       "      fill: #FFFFFF;\n",
       "    }\n",
       "  </style>\n",
       "\n",
       "    <script>\n",
       "      const buttonEl =\n",
       "        document.querySelector('#df-04533850-9071-4c72-8201-4d2b69823f96 button.colab-df-convert');\n",
       "      buttonEl.style.display =\n",
       "        google.colab.kernel.accessAllowed ? 'block' : 'none';\n",
       "\n",
       "      async function convertToInteractive(key) {\n",
       "        const element = document.querySelector('#df-04533850-9071-4c72-8201-4d2b69823f96');\n",
       "        const dataTable =\n",
       "          await google.colab.kernel.invokeFunction('convertToInteractive',\n",
       "                                                    [key], {});\n",
       "        if (!dataTable) return;\n",
       "\n",
       "        const docLinkHtml = 'Like what you see? Visit the ' +\n",
       "          '<a target=\"_blank\" href=https://colab.research.google.com/notebooks/data_table.ipynb>data table notebook</a>'\n",
       "          + ' to learn more about interactive tables.';\n",
       "        element.innerHTML = '';\n",
       "        dataTable['output_type'] = 'display_data';\n",
       "        await google.colab.output.renderOutput(dataTable, element);\n",
       "        const docLink = document.createElement('div');\n",
       "        docLink.innerHTML = docLinkHtml;\n",
       "        element.appendChild(docLink);\n",
       "      }\n",
       "    </script>\n",
       "  </div>\n",
       "\n",
       "\n",
       "<div id=\"df-93c5c343-5687-4e9a-a551-b87fee369a61\">\n",
       "  <button class=\"colab-df-quickchart\" onclick=\"quickchart('df-93c5c343-5687-4e9a-a551-b87fee369a61')\"\n",
       "            title=\"Suggest charts\"\n",
       "            style=\"display:none;\">\n",
       "\n",
       "<svg xmlns=\"http://www.w3.org/2000/svg\" height=\"24px\"viewBox=\"0 0 24 24\"\n",
       "     width=\"24px\">\n",
       "    <g>\n",
       "        <path d=\"M19 3H5c-1.1 0-2 .9-2 2v14c0 1.1.9 2 2 2h14c1.1 0 2-.9 2-2V5c0-1.1-.9-2-2-2zM9 17H7v-7h2v7zm4 0h-2V7h2v10zm4 0h-2v-4h2v4z\"/>\n",
       "    </g>\n",
       "</svg>\n",
       "  </button>\n",
       "\n",
       "<style>\n",
       "  .colab-df-quickchart {\n",
       "      --bg-color: #E8F0FE;\n",
       "      --fill-color: #1967D2;\n",
       "      --hover-bg-color: #E2EBFA;\n",
       "      --hover-fill-color: #174EA6;\n",
       "      --disabled-fill-color: #AAA;\n",
       "      --disabled-bg-color: #DDD;\n",
       "  }\n",
       "\n",
       "  [theme=dark] .colab-df-quickchart {\n",
       "      --bg-color: #3B4455;\n",
       "      --fill-color: #D2E3FC;\n",
       "      --hover-bg-color: #434B5C;\n",
       "      --hover-fill-color: #FFFFFF;\n",
       "      --disabled-bg-color: #3B4455;\n",
       "      --disabled-fill-color: #666;\n",
       "  }\n",
       "\n",
       "  .colab-df-quickchart {\n",
       "    background-color: var(--bg-color);\n",
       "    border: none;\n",
       "    border-radius: 50%;\n",
       "    cursor: pointer;\n",
       "    display: none;\n",
       "    fill: var(--fill-color);\n",
       "    height: 32px;\n",
       "    padding: 0;\n",
       "    width: 32px;\n",
       "  }\n",
       "\n",
       "  .colab-df-quickchart:hover {\n",
       "    background-color: var(--hover-bg-color);\n",
       "    box-shadow: 0 1px 2px rgba(60, 64, 67, 0.3), 0 1px 3px 1px rgba(60, 64, 67, 0.15);\n",
       "    fill: var(--button-hover-fill-color);\n",
       "  }\n",
       "\n",
       "  .colab-df-quickchart-complete:disabled,\n",
       "  .colab-df-quickchart-complete:disabled:hover {\n",
       "    background-color: var(--disabled-bg-color);\n",
       "    fill: var(--disabled-fill-color);\n",
       "    box-shadow: none;\n",
       "  }\n",
       "\n",
       "  .colab-df-spinner {\n",
       "    border: 2px solid var(--fill-color);\n",
       "    border-color: transparent;\n",
       "    border-bottom-color: var(--fill-color);\n",
       "    animation:\n",
       "      spin 1s steps(1) infinite;\n",
       "  }\n",
       "\n",
       "  @keyframes spin {\n",
       "    0% {\n",
       "      border-color: transparent;\n",
       "      border-bottom-color: var(--fill-color);\n",
       "      border-left-color: var(--fill-color);\n",
       "    }\n",
       "    20% {\n",
       "      border-color: transparent;\n",
       "      border-left-color: var(--fill-color);\n",
       "      border-top-color: var(--fill-color);\n",
       "    }\n",
       "    30% {\n",
       "      border-color: transparent;\n",
       "      border-left-color: var(--fill-color);\n",
       "      border-top-color: var(--fill-color);\n",
       "      border-right-color: var(--fill-color);\n",
       "    }\n",
       "    40% {\n",
       "      border-color: transparent;\n",
       "      border-right-color: var(--fill-color);\n",
       "      border-top-color: var(--fill-color);\n",
       "    }\n",
       "    60% {\n",
       "      border-color: transparent;\n",
       "      border-right-color: var(--fill-color);\n",
       "    }\n",
       "    80% {\n",
       "      border-color: transparent;\n",
       "      border-right-color: var(--fill-color);\n",
       "      border-bottom-color: var(--fill-color);\n",
       "    }\n",
       "    90% {\n",
       "      border-color: transparent;\n",
       "      border-bottom-color: var(--fill-color);\n",
       "    }\n",
       "  }\n",
       "</style>\n",
       "\n",
       "  <script>\n",
       "    async function quickchart(key) {\n",
       "      const quickchartButtonEl =\n",
       "        document.querySelector('#' + key + ' button');\n",
       "      quickchartButtonEl.disabled = true;  // To prevent multiple clicks.\n",
       "      quickchartButtonEl.classList.add('colab-df-spinner');\n",
       "      try {\n",
       "        const charts = await google.colab.kernel.invokeFunction(\n",
       "            'suggestCharts', [key], {});\n",
       "      } catch (error) {\n",
       "        console.error('Error during call to suggestCharts:', error);\n",
       "      }\n",
       "      quickchartButtonEl.classList.remove('colab-df-spinner');\n",
       "      quickchartButtonEl.classList.add('colab-df-quickchart-complete');\n",
       "    }\n",
       "    (() => {\n",
       "      let quickchartButtonEl =\n",
       "        document.querySelector('#df-93c5c343-5687-4e9a-a551-b87fee369a61 button');\n",
       "      quickchartButtonEl.style.display =\n",
       "        google.colab.kernel.accessAllowed ? 'block' : 'none';\n",
       "    })();\n",
       "  </script>\n",
       "</div>\n",
       "\n",
       "    </div>\n",
       "  </div>\n"
      ],
      "text/plain": [
       "                                       final_results  \\\n",
       "0  {'final_results': [{'score': 0.8746502, 'id': ...   \n",
       "1  {'final_results': [{'score': 0.8746502, 'id': ...   \n",
       "2  {'final_results': [{'score': 0.8746502, 'id': ...   \n",
       "3  {'final_results': [{'score': 0.8746502, 'id': ...   \n",
       "4  {'final_results': [{'score': 0.8746502, 'id': ...   \n",
       "\n",
       "   retrieved_correct_position  reranked_correct_position  \\\n",
       "0                         0.0                        0.0   \n",
       "1                         0.0                        0.0   \n",
       "2                         0.0                        0.0   \n",
       "3                         0.0                        0.0   \n",
       "4                         0.0                        0.0   \n",
       "\n",
       "                               results_from_pinecone  \n",
       "0  [{'id': '2f90090e21f19450887d5f3ff781e541',\n",
       " '...  \n",
       "1  [{'id': '49201636ad4102735125e146c0dbafa4',\n",
       " '...  \n",
       "2  [{'id': '80d92494d2b06f341842f1855d2938cf',\n",
       " '...  \n",
       "3  [{'id': 'e3fd54f33b021ea3cf88b438fefcada7',\n",
       " '...  \n",
       "4  [{'id': '37ed40c20d4e1b9cc8d6cc27a4d0fff3',\n",
       " '...  "
      ]
     },
     "execution_count": 276,
     "metadata": {},
     "output_type": "execute_result"
    }
   ],
   "source": [
    "ft_predictions_df = pd.DataFrame(ft_predictions)\n",
    "ft_predictions_df.head()"
   ]
  },
  {
   "cell_type": "code",
   "execution_count": null,
   "id": "9Sr2q5IN9LMz",
   "metadata": {
    "colab": {
     "base_uri": "https://localhost:8080/"
    },
    "id": "9Sr2q5IN9LMz",
    "outputId": "4a670895-a2df-4300-9b8c-5d549c2e8517"
   },
   "outputs": [
    {
     "data": {
      "text/plain": [
       "retrieved_correct_position    26\n",
       "reranked_correct_position     26\n",
       "dtype: int64"
      ]
     },
     "execution_count": 277,
     "metadata": {},
     "output_type": "execute_result"
    }
   ],
   "source": [
    "ft_predictions_df[['retrieved_correct_position', 'reranked_correct_position']].isnull().sum()"
   ]
  },
  {
   "cell_type": "code",
   "execution_count": null,
   "id": "75b414c6",
   "metadata": {
    "colab": {
     "base_uri": "https://localhost:8080/"
    },
    "id": "75b414c6",
    "outputId": "30220b68-5830-407f-e3ed-678ee4378a58"
   },
   "outputs": [
    {
     "data": {
      "text/plain": [
       "retrieved_correct_position    1.310160\n",
       "reranked_correct_position     0.644385\n",
       "dtype: float64"
      ]
     },
     "execution_count": 278,
     "metadata": {},
     "output_type": "execute_result"
    }
   ],
   "source": [
    "ft_predictions_df[['retrieved_correct_position', 'reranked_correct_position']].mean()"
   ]
  },
  {
   "cell_type": "code",
   "execution_count": null,
   "id": "BFuWRhWzUoe8",
   "metadata": {
    "colab": {
     "base_uri": "https://localhost:8080/",
     "height": 564
    },
    "id": "BFuWRhWzUoe8",
    "outputId": "8e6cbcbc-8f01-4f98-dd5a-969f32552e5a"
   },
   "outputs": [
    {
     "data": {
      "image/png": "[encoded data removed]",
      "text/plain": [
       "<Figure size 1000x600 with 1 Axes>"
      ]
     },
     "metadata": {},
     "output_type": "display_data"
    }
   ],
   "source": []
  },
  {
   "cell_type": "code",
   "execution_count": null,
   "id": "2535cbae",
   "metadata": {
    "colab": {
     "base_uri": "https://localhost:8080/"
    },
    "id": "2535cbae",
    "outputId": "97f405f3-c446-47a2-e645-9440945df769"
   },
   "outputs": [
    {
     "name": "stdout",
     "output_type": "stream",
     "text": [
      "1 866 975\n",
      "3 1009 1056\n",
      "5 1048 1077\n",
      "10 1072 1101\n",
      "25 1108 1117\n",
      "50 1122 1122\n"
     ]
    }
   ],
   "source": [
    "# do recall @ 1, 3, 5, 10\n",
    "for k in (1, 3, 5, 10, 25, 50):\n",
    "    embedding_only_recall = ft_predictions_df[ft_predictions_df['retrieved_correct_position'] < k].shape[0]\n",
    "    reranked_recall = ft_predictions_df[ft_predictions_df['reranked_correct_position'] < k].shape[0]\n",
    "    print(k, embedding_only_recall, reranked_recall)"
   ]
  },
  {
   "cell_type": "code",
   "execution_count": null,
   "id": "o--xzdNXYxDG",
   "metadata": {
    "colab": {
     "base_uri": "https://localhost:8080/"
    },
    "id": "o--xzdNXYxDG",
    "outputId": "4adfe46d-0bb3-4bff-f4a9-0536a467a233"
   },
   "outputs": [
    {
     "data": {
      "text/plain": [
       "(1148, 4)"
      ]
     },
     "execution_count": 290,
     "metadata": {},
     "output_type": "execute_result"
    }
   ],
   "source": [
    "ft_predictions_df.shape"
   ]
  },
  {
   "cell_type": "markdown",
   "id": "3f14809e",
   "metadata": {
    "id": "3f14809e"
   },
   "source": [
    "# OPEN SOURCE ALTERNATIVE TO EMBEDDING"
   ]
  },
  {
   "cell_type": "code",
   "execution_count": null,
   "id": "99138055",
   "metadata": {
    "colab": {
     "base_uri": "https://localhost:8080/",
     "height": 67,
     "referenced_widgets": [
      "c7800a5a8f1b4c3fa541df6b5ba6281f",
      "9d726c5753564258bbe1c281fa8bfefa",
      "ea3f511248734bbab197277b68346826",
      "3838d1bfccb5402d91ecf96f51f9c2d7",
      "ecc8ed6e869d4b01b7905ca951d0068c",
      "66f8508878e94e4296e2ffb009afdb75",
      "999f219c7c9449f0a48feb59eddd23eb",
      "7ab68b0af00248f5bbc15a39bbf38166",
      "b6ecc1cc5b2e4332b56fdc1614823d3e",
      "e732511315484861b39d0efb86b9cfb5",
      "3df968e9ff654de7bfc95f08c88a99c6"
     ]
    },
    "id": "99138055",
    "outputId": "2414eff0-be1c-44fb-be4c-a77d11ae4c57"
   },
   "outputs": [
    {
     "data": {
      "application/vnd.jupyter.widget-view+json": {
       "model_id": "c7800a5a8f1b4c3fa541df6b5ba6281f",
       "version_major": 2,
       "version_minor": 0
      },
      "text/plain": [
       "Batches:   0%|          | 0/1 [00:00<?, ?it/s]"
      ]
     },
     "metadata": {},
     "output_type": "display_data"
    },
    {
     "data": {
      "text/plain": [
       "(2, 768)"
      ]
     },
     "execution_count": 390,
     "metadata": {},
     "output_type": "execute_result"
    }
   ],
   "source": [
    "docs = [\"Around 9 Million people live in London\", \"London is known for its financial district\"]\n",
    "bi_encoder = SentenceTransformer(\"sentence-transformers/all-mpnet-base-v2\")\n",
    "doc_emb = bi_encoder.encode(docs, batch_size=32, show_progress_bar=True)\n",
    "\n",
    "doc_emb.shape#  == ('2, 768')\n"
   ]
  },
  {
   "cell_type": "code",
   "execution_count": null,
   "id": "a1140c18",
   "metadata": {
    "id": "a1140c18"
   },
   "outputs": [],
   "source": []
  },
  {
   "cell_type": "code",
   "execution_count": null,
   "id": "be37c48b",
   "metadata": {
    "colab": {
     "base_uri": "https://localhost:8080/",
     "height": 49,
     "referenced_widgets": [
      "0caf250cdae643479160eedc708ffeea",
      "fa6089718c574ee19bd3c378e356ea6b",
      "f78b642ffb784f9097e0cbf97c44b9bd",
      "7c322a232739486a937883ac787f8750",
      "1bc5237b0db94f4aa124c8c79a891955",
      "2c83393c2b7745889765d8efb4890763",
      "6854fe2978954c7b9e30202a6ea34b57",
      "4f4986d008434fc9912c496636b40b38",
      "348701c9256e4eb48b8ffb0d9c0d6c83",
      "11e5c44fa73c4d5d88561036f2a0a070",
      "9781773e5d4d4e0ab8e3ff3140bd0983"
     ]
    },
    "id": "be37c48b",
    "outputId": "aeec917e-853f-4b24-facc-c8c42468f3fd"
   },
   "outputs": [
    {
     "data": {
      "application/vnd.jupyter.widget-view+json": {
       "model_id": "0caf250cdae643479160eedc708ffeea",
       "version_major": 2,
       "version_minor": 0
      },
      "text/plain": [
       "Batches:   0%|          | 0/36 [00:00<?, ?it/s]"
      ]
     },
     "metadata": {},
     "output_type": "display_data"
    }
   ],
   "source": [
    "#Encode query and documents\n",
    "docs = dataset['test']['context']\n",
    "doc_emb = bi_encoder.encode(docs, batch_size=32, show_progress_bar=True)"
   ]
  },
  {
   "cell_type": "code",
   "execution_count": null,
   "id": "ae0afee7",
   "metadata": {
    "colab": {
     "base_uri": "https://localhost:8080/"
    },
    "id": "ae0afee7",
    "outputId": "2ea967ab-1dba-473e-ca08-9927fbe24da5"
   },
   "outputs": [
    {
     "name": "stdout",
     "output_type": "stream",
     "text": [
      "Where are some destinations flights from Paris Orly operate to?\n",
      "Query: Where are some destinations flights from Paris Orly operate to?\n",
      "Document ID (Hash)\t\tRetrieval Score\tCE Score\tText\n",
      "2cefacc9828ba29e819c9a69e0b7b392\t0.69\t0.991276\tParis Orly Airport (French: Aéroport de Paris-Orly\n",
      "bcea700839a1cefc7fbe752fcfbee880\t0.24\t0.111188\tIran Air Flight 277 was a passenger flight which c\n",
      "20d2ff7276da85340534dabf110da251\t0.24\t0.096094\tAfter the Treaty of Paris in 1763, which deprived \n"
     ]
    }
   ],
   "source": [
    "from random import sample\n",
    "\n",
    "query = sample(dataset['test']['question'], 1)[0]\n",
    "print(query)\n",
    "final_results = get_results_from_pinecone(query, top_k=3, re_rank_model=finetuned)\n"
   ]
  },
  {
   "cell_type": "code",
   "execution_count": null,
   "id": "45c71fb0",
   "metadata": {
    "colab": {
     "base_uri": "https://localhost:8080/"
    },
    "id": "45c71fb0",
    "outputId": "98df154f-93f7-4d5a-b849-e2f8350e4965"
   },
   "outputs": [
    {
     "name": "stdout",
     "output_type": "stream",
     "text": [
      "Where are some destinations flights from Paris Orly operate to?\n"
     ]
    },
    {
     "data": {
      "text/plain": [
       "[('Paris Orly Airport (French: Aéroport de Paris-Orly), commonly referred to as Orly (IATA: ORY, ICAO: LFPO), is an international airport located partially in Orly and partially in Villeneuve-le-Roi, 7 NM (13 km; 8.1 mi) south of Paris, France. It serves as a secondary hub for domestic and overseas territories flights of Air France and as the homebase for Transavia France.  Flights operate to destinations in Europe, the Middle East, Africa, the Caribbean, North America, East Asia and Southeast Asia. Prior to the opening of Charles de Gaulle Airport in March 1974, Orly was the main airport of Paris. Even with the shift of most international traffic to Charles de Gaulle Airport, Orly remains the busiest French airport for domestic traffic and the second busiest French airport overall in passenger traffic, with 33,120,685 passengers in 2018. The airport is operated by Groupe ADP under the brand Paris Aéroport. Since February 2018, the CEO of the airport has been Régis Lacote.',\n",
       "  0.6465857028961182,\n",
       "  933),\n",
       " ('Sevastopol International Airport (Ukrainian: Міжнародний аеропорт Севастополь \"Бельбек\", (IATA: UKS, ICAO: UKFB) is a military airfield in Belbek, a village near Sevastopol in Crimea.',\n",
       "  0.3177761733531952,\n",
       "  1020),\n",
       " ('After the Treaty of Paris in 1763, which deprived France of almost all her possessions in the Americas other than Guiana and a few islands, Louis XV sent thousands of settlers to Guiana who were lured there with stories of plentiful gold and easy fortunes to be made. Instead they found a land filled with hostile natives and tropical diseases. One and a half years later only a few hundred survived. These fled to three small islands which could be seen off shore and named them the Iles de Salut (or \"Islands of Salvation\"). The largest was called Royal Island, another St. Joseph (after the patron saint of the expedition), and the smallest of the islands, surrounded by strong currents, Île du Diable (the infamous \"Devil\\'s Island\"). When the survivors of this ill-fated expedition returned home, the terrible stories they told of the colony left a lasting impression in France.',\n",
       "  0.3029923439025879,\n",
       "  349)]"
      ]
     },
     "execution_count": 393,
     "metadata": {},
     "output_type": "execute_result"
    }
   ],
   "source": [
    "print(query)\n",
    "find_most_similar(query, doc_emb, docs)"
   ]
  },
  {
   "cell_type": "code",
   "execution_count": null,
   "id": "93280be8",
   "metadata": {
    "id": "93280be8"
   },
   "outputs": [],
   "source": [
    "def eval_ranking_open_source(query, top_k=3, re_rank_model=None):\n",
    "    ans = {'retrieved_correct_position': None}\n",
    "    correct_hash = q_to_hash[query]\n",
    "    results = find_most_similar(query, doc_emb, docs, k=top_k)\n",
    "    for idx, (passage, score, doc_idx) in enumerate(results):\n",
    "        if correct_hash == my_hash(passage):\n",
    "            ans['retrieved_correct_position'] =  idx\n",
    "    if re_rank_model is not None:\n",
    "        ans['reranked_correct_position'] = None\n",
    "        sentence_combinations = [(query, r[0]) for r in results]\n",
    "\n",
    "        # Compute the similarity scores for these combinations\n",
    "        similarity_scores = re_rank_model.predict(sentence_combinations, activation_fct=nn.Sigmoid())\n",
    "\n",
    "        # Sort the scores in decreasing order\n",
    "        sim_scores_argsort = list(reversed(np.argsort(similarity_scores)))\n",
    "        for i, idx in enumerate(sim_scores_argsort):\n",
    "            r = results[idx]\n",
    "            if correct_hash and my_hash(r[0]) == correct_hash:\n",
    "                ans['reranked_correct_position'] = i\n",
    "\n",
    "    return ans"
   ]
  },
  {
   "cell_type": "code",
   "execution_count": null,
   "id": "06f198cd",
   "metadata": {
    "colab": {
     "base_uri": "https://localhost:8080/"
    },
    "id": "06f198cd",
    "outputId": "ef371189-4a07-43b7-8761-da5ad013fdeb",
    "scrolled": true
   },
   "outputs": [
    {
     "data": {
      "text/plain": [
       "{'retrieved_correct_position': 0, 'reranked_correct_position': 0}"
      ]
     },
     "execution_count": 420,
     "metadata": {},
     "output_type": "execute_result"
    }
   ],
   "source": [
    "eval_ranking_open_source(query, top_k=TOP_K, re_rank_model=finetuned)"
   ]
  },
  {
   "cell_type": "code",
   "execution_count": null,
   "id": "8faf0c1a",
   "metadata": {
    "colab": {
     "base_uri": "https://localhost:8080/",
     "height": 224
    },
    "id": "8faf0c1a",
    "outputId": "33c6657e-f529-4cc7-9ee5-1dff61e4172f",
    "scrolled": true
   },
   "outputs": [
    {
     "name": "stderr",
     "output_type": "stream",
     "text": [
      "100%|██████████| 1148/1148 [13:31<00:00,  1.42it/s]\n"
     ]
    },
    {
     "data": {
      "text/html": [
       "\n",
       "  <div id=\"df-da5f3659-2adf-46d9-b477-ddc7ef9a51f3\" class=\"colab-df-container\">\n",
       "    <div>\n",
       "<style scoped>\n",
       "    .dataframe tbody tr th:only-of-type {\n",
       "        vertical-align: middle;\n",
       "    }\n",
       "\n",
       "    .dataframe tbody tr th {\n",
       "        vertical-align: top;\n",
       "    }\n",
       "\n",
       "    .dataframe thead th {\n",
       "        text-align: right;\n",
       "    }\n",
       "</style>\n",
       "<table border=\"1\" class=\"dataframe\">\n",
       "  <thead>\n",
       "    <tr style=\"text-align: right;\">\n",
       "      <th></th>\n",
       "      <th>retrieved_correct_position</th>\n",
       "      <th>reranked_correct_position</th>\n",
       "    </tr>\n",
       "  </thead>\n",
       "  <tbody>\n",
       "    <tr>\n",
       "      <th>0</th>\n",
       "      <td>0.0</td>\n",
       "      <td>0.0</td>\n",
       "    </tr>\n",
       "    <tr>\n",
       "      <th>1</th>\n",
       "      <td>0.0</td>\n",
       "      <td>0.0</td>\n",
       "    </tr>\n",
       "    <tr>\n",
       "      <th>2</th>\n",
       "      <td>0.0</td>\n",
       "      <td>0.0</td>\n",
       "    </tr>\n",
       "    <tr>\n",
       "      <th>3</th>\n",
       "      <td>1.0</td>\n",
       "      <td>0.0</td>\n",
       "    </tr>\n",
       "    <tr>\n",
       "      <th>4</th>\n",
       "      <td>0.0</td>\n",
       "      <td>0.0</td>\n",
       "    </tr>\n",
       "  </tbody>\n",
       "</table>\n",
       "</div>\n",
       "    <div class=\"colab-df-buttons\">\n",
       "\n",
       "  <div class=\"colab-df-container\">\n",
       "    <button class=\"colab-df-convert\" onclick=\"convertToInteractive('df-da5f3659-2adf-46d9-b477-ddc7ef9a51f3')\"\n",
       "            title=\"Convert this dataframe to an interactive table.\"\n",
       "            style=\"display:none;\">\n",
       "\n",
       "  <svg xmlns=\"http://www.w3.org/2000/svg\" height=\"24px\" viewBox=\"0 -960 960 960\">\n",
       "    <path d=\"M120-120v-720h720v720H120Zm60-500h600v-160H180v160Zm220 220h160v-160H400v160Zm0 220h160v-160H400v160ZM180-400h160v-160H180v160Zm440 0h160v-160H620v160ZM180-180h160v-160H180v160Zm440 0h160v-160H620v160Z\"/>\n",
       "  </svg>\n",
       "    </button>\n",
       "\n",
       "  <style>\n",
       "    .colab-df-container {\n",
       "      display:flex;\n",
       "      gap: 12px;\n",
       "    }\n",
       "\n",
       "    .colab-df-convert {\n",
       "      background-color: #E8F0FE;\n",
       "      border: none;\n",
       "      border-radius: 50%;\n",
       "      cursor: pointer;\n",
       "      display: none;\n",
       "      fill: #1967D2;\n",
       "      height: 32px;\n",
       "      padding: 0 0 0 0;\n",
       "      width: 32px;\n",
       "    }\n",
       "\n",
       "    .colab-df-convert:hover {\n",
       "      background-color: #E2EBFA;\n",
       "      box-shadow: 0px 1px 2px rgba(60, 64, 67, 0.3), 0px 1px 3px 1px rgba(60, 64, 67, 0.15);\n",
       "      fill: #174EA6;\n",
       "    }\n",
       "\n",
       "    .colab-df-buttons div {\n",
       "      margin-bottom: 4px;\n",
       "    }\n",
       "\n",
       "    [theme=dark] .colab-df-convert {\n",
       "      background-color: #3B4455;\n",
       "      fill: #D2E3FC;\n",
       "    }\n",
       "\n",
       "    [theme=dark] .colab-df-convert:hover {\n",
       "      background-color: #434B5C;\n",
       "      box-shadow: 0px 1px 3px 1px rgba(0, 0, 0, 0.15);\n",
       "      filter: drop-shadow(0px 1px 2px rgba(0, 0, 0, 0.3));\n",
       "      fill: #FFFFFF;\n",
       "    }\n",
       "  </style>\n",
       "\n",
       "    <script>\n",
       "      const buttonEl =\n",
       "        document.querySelector('#df-da5f3659-2adf-46d9-b477-ddc7ef9a51f3 button.colab-df-convert');\n",
       "      buttonEl.style.display =\n",
       "        google.colab.kernel.accessAllowed ? 'block' : 'none';\n",
       "\n",
       "      async function convertToInteractive(key) {\n",
       "        const element = document.querySelector('#df-da5f3659-2adf-46d9-b477-ddc7ef9a51f3');\n",
       "        const dataTable =\n",
       "          await google.colab.kernel.invokeFunction('convertToInteractive',\n",
       "                                                    [key], {});\n",
       "        if (!dataTable) return;\n",
       "\n",
       "        const docLinkHtml = 'Like what you see? Visit the ' +\n",
       "          '<a target=\"_blank\" href=https://colab.research.google.com/notebooks/data_table.ipynb>data table notebook</a>'\n",
       "          + ' to learn more about interactive tables.';\n",
       "        element.innerHTML = '';\n",
       "        dataTable['output_type'] = 'display_data';\n",
       "        await google.colab.output.renderOutput(dataTable, element);\n",
       "        const docLink = document.createElement('div');\n",
       "        docLink.innerHTML = docLinkHtml;\n",
       "        element.appendChild(docLink);\n",
       "      }\n",
       "    </script>\n",
       "  </div>\n",
       "\n",
       "\n",
       "<div id=\"df-e7255059-6dad-48f1-9b6b-21545152f562\">\n",
       "  <button class=\"colab-df-quickchart\" onclick=\"quickchart('df-e7255059-6dad-48f1-9b6b-21545152f562')\"\n",
       "            title=\"Suggest charts\"\n",
       "            style=\"display:none;\">\n",
       "\n",
       "<svg xmlns=\"http://www.w3.org/2000/svg\" height=\"24px\"viewBox=\"0 0 24 24\"\n",
       "     width=\"24px\">\n",
       "    <g>\n",
       "        <path d=\"M19 3H5c-1.1 0-2 .9-2 2v14c0 1.1.9 2 2 2h14c1.1 0 2-.9 2-2V5c0-1.1-.9-2-2-2zM9 17H7v-7h2v7zm4 0h-2V7h2v10zm4 0h-2v-4h2v4z\"/>\n",
       "    </g>\n",
       "</svg>\n",
       "  </button>\n",
       "\n",
       "<style>\n",
       "  .colab-df-quickchart {\n",
       "      --bg-color: #E8F0FE;\n",
       "      --fill-color: #1967D2;\n",
       "      --hover-bg-color: #E2EBFA;\n",
       "      --hover-fill-color: #174EA6;\n",
       "      --disabled-fill-color: #AAA;\n",
       "      --disabled-bg-color: #DDD;\n",
       "  }\n",
       "\n",
       "  [theme=dark] .colab-df-quickchart {\n",
       "      --bg-color: #3B4455;\n",
       "      --fill-color: #D2E3FC;\n",
       "      --hover-bg-color: #434B5C;\n",
       "      --hover-fill-color: #FFFFFF;\n",
       "      --disabled-bg-color: #3B4455;\n",
       "      --disabled-fill-color: #666;\n",
       "  }\n",
       "\n",
       "  .colab-df-quickchart {\n",
       "    background-color: var(--bg-color);\n",
       "    border: none;\n",
       "    border-radius: 50%;\n",
       "    cursor: pointer;\n",
       "    display: none;\n",
       "    fill: var(--fill-color);\n",
       "    height: 32px;\n",
       "    padding: 0;\n",
       "    width: 32px;\n",
       "  }\n",
       "\n",
       "  .colab-df-quickchart:hover {\n",
       "    background-color: var(--hover-bg-color);\n",
       "    box-shadow: 0 1px 2px rgba(60, 64, 67, 0.3), 0 1px 3px 1px rgba(60, 64, 67, 0.15);\n",
       "    fill: var(--button-hover-fill-color);\n",
       "  }\n",
       "\n",
       "  .colab-df-quickchart-complete:disabled,\n",
       "  .colab-df-quickchart-complete:disabled:hover {\n",
       "    background-color: var(--disabled-bg-color);\n",
       "    fill: var(--disabled-fill-color);\n",
       "    box-shadow: none;\n",
       "  }\n",
       "\n",
       "  .colab-df-spinner {\n",
       "    border: 2px solid var(--fill-color);\n",
       "    border-color: transparent;\n",
       "    border-bottom-color: var(--fill-color);\n",
       "    animation:\n",
       "      spin 1s steps(1) infinite;\n",
       "  }\n",
       "\n",
       "  @keyframes spin {\n",
       "    0% {\n",
       "      border-color: transparent;\n",
       "      border-bottom-color: var(--fill-color);\n",
       "      border-left-color: var(--fill-color);\n",
       "    }\n",
       "    20% {\n",
       "      border-color: transparent;\n",
       "      border-left-color: var(--fill-color);\n",
       "      border-top-color: var(--fill-color);\n",
       "    }\n",
       "    30% {\n",
       "      border-color: transparent;\n",
       "      border-left-color: var(--fill-color);\n",
       "      border-top-color: var(--fill-color);\n",
       "      border-right-color: var(--fill-color);\n",
       "    }\n",
       "    40% {\n",
       "      border-color: transparent;\n",
       "      border-right-color: var(--fill-color);\n",
       "      border-top-color: var(--fill-color);\n",
       "    }\n",
       "    60% {\n",
       "      border-color: transparent;\n",
       "      border-right-color: var(--fill-color);\n",
       "    }\n",
       "    80% {\n",
       "      border-color: transparent;\n",
       "      border-right-color: var(--fill-color);\n",
       "      border-bottom-color: var(--fill-color);\n",
       "    }\n",
       "    90% {\n",
       "      border-color: transparent;\n",
       "      border-bottom-color: var(--fill-color);\n",
       "    }\n",
       "  }\n",
       "</style>\n",
       "\n",
       "  <script>\n",
       "    async function quickchart(key) {\n",
       "      const quickchartButtonEl =\n",
       "        document.querySelector('#' + key + ' button');\n",
       "      quickchartButtonEl.disabled = true;  // To prevent multiple clicks.\n",
       "      quickchartButtonEl.classList.add('colab-df-spinner');\n",
       "      try {\n",
       "        const charts = await google.colab.kernel.invokeFunction(\n",
       "            'suggestCharts', [key], {});\n",
       "      } catch (error) {\n",
       "        console.error('Error during call to suggestCharts:', error);\n",
       "      }\n",
       "      quickchartButtonEl.classList.remove('colab-df-spinner');\n",
       "      quickchartButtonEl.classList.add('colab-df-quickchart-complete');\n",
       "    }\n",
       "    (() => {\n",
       "      let quickchartButtonEl =\n",
       "        document.querySelector('#df-e7255059-6dad-48f1-9b6b-21545152f562 button');\n",
       "      quickchartButtonEl.style.display =\n",
       "        google.colab.kernel.accessAllowed ? 'block' : 'none';\n",
       "    })();\n",
       "  </script>\n",
       "</div>\n",
       "\n",
       "    </div>\n",
       "  </div>\n"
      ],
      "text/plain": [
       "   retrieved_correct_position  reranked_correct_position\n",
       "0                         0.0                        0.0\n",
       "1                         0.0                        0.0\n",
       "2                         0.0                        0.0\n",
       "3                         1.0                        0.0\n",
       "4                         0.0                        0.0"
      ]
     },
     "execution_count": 423,
     "metadata": {},
     "output_type": "execute_result"
    }
   ],
   "source": [
    "logger.setLevel(logging.CRITICAL)\n",
    "os_predictions = []\n",
    "\n",
    "for i, question in tqdm(enumerate(test_sample), total=len(test_sample)):\n",
    "    os_predictions.append(eval_ranking_open_source(question['question'], top_k=TOP_K, re_rank_model=finetuned))\n",
    "\n",
    "os_predictions_df = pd.DataFrame(os_predictions)\n",
    "os_predictions_df.head()"
   ]
  },
  {
   "cell_type": "code",
   "execution_count": null,
   "id": "6eaeb9b4",
   "metadata": {
    "colab": {
     "base_uri": "https://localhost:8080/"
    },
    "id": "6eaeb9b4",
    "outputId": "01787cbe-fd05-4cf6-83bc-66c8573d0dd6"
   },
   "outputs": [
    {
     "name": "stdout",
     "output_type": "stream",
     "text": [
      "Accuracy without re-ranking: 0.5017421602787456\n",
      "Accuracy with re-ranking: 0.6193379790940766\n"
     ]
    }
   ],
   "source": [
    "raw_accuracy = sum([p['retrieved_correct_position'] == 0 for p in os_predictions])/len(os_predictions)\n",
    "reranked_accuracy = sum([p['reranked_correct_position'] == 0 for p in os_predictions])/len(os_predictions)\n",
    "\n",
    "print(f'Accuracy without re-ranking: {raw_accuracy}')\n",
    "print(f'Accuracy with re-ranking: {reranked_accuracy}')\n"
   ]
  },
  {
   "cell_type": "code",
   "execution_count": null,
   "id": "T00iM9SyaUFI",
   "metadata": {
    "colab": {
     "base_uri": "https://localhost:8080/"
    },
    "id": "T00iM9SyaUFI",
    "outputId": "c9dda451-d289-4734-c94c-86dcd0fb155c"
   },
   "outputs": [
    {
     "name": "stdout",
     "output_type": "stream",
     "text": [
      "1 576 711\n",
      "3 887 1006\n",
      "5 948 1055\n",
      "10 1008 1087\n",
      "25 1073 1103\n",
      "50 1107 1107\n"
     ]
    }
   ],
   "source": [
    "# do recall @ 1, 3, 5, 10\n",
    "OPEN_SOURCE_RETRIEVAL = []\n",
    "OPEN_SOURCE_RETRIEVAL_PLUS_FT_CE = []\n",
    "for k in (1, 3, 5, 10, 25, 50):\n",
    "    embedding_only_recall = os_predictions_df[os_predictions_df['retrieved_correct_position'] < k].shape[0]\n",
    "    reranked_recall = os_predictions_df[os_predictions_df['reranked_correct_position'] < k].shape[0]\n",
    "    print(k, embedding_only_recall, reranked_recall)\n",
    "    OPEN_SOURCE_RETRIEVAL.append(embedding_only_recall / os_predictions_df.shape[0])\n",
    "    OPEN_SOURCE_RETRIEVAL_PLUS_FT_CE.append(reranked_recall / os_predictions_df.shape[0])"
   ]
  },
  {
   "cell_type": "code",
   "execution_count": null,
   "id": "sZD_4weEahOm",
   "metadata": {
    "colab": {
     "base_uri": "https://localhost:8080/",
     "height": 564
    },
    "id": "sZD_4weEahOm",
    "outputId": "df7327c7-50a5-454f-9daa-69cb7e9ca1b2"
   },
   "outputs": [
    {
     "data": {
      "image/png": "[encoded data removed]",
      "text/plain": [
       "<Figure size 1000x600 with 1 Axes>"
      ]
     },
     "metadata": {},
     "output_type": "display_data"
    }
   ],
   "source": [
    "import matplotlib.pyplot as plt\n",
    "\n",
    "X = [1, 3, 5, 10, 25, 50]\n",
    "\n",
    "OPENAI_RETRIEVAL = [866 / predictions_df.shape[0], 1009/ predictions_df.shape[0], 1048/ predictions_df.shape[0], 1072/ predictions_df.shape[0], 1108/ predictions_df.shape[0], 1122/ predictions_df.shape[0]]\n",
    "# OPEN_SOURCE_RETRIEVAL = [663 / predictions_df.shape[0], 795/ predictions_df.shape[0], 838/ predictions_df.shape[0], 891/ predictions_df.shape[0], 966/ predictions_df.shape[0], 1004/ predictions_df.shape[0]]\n",
    "OLD_CROSS_ENCODER = [956 / predictions_df.shape[0], 1057/ predictions_df.shape[0], 1077/ predictions_df.shape[0], 1094/ predictions_df.shape[0], 1120/ predictions_df.shape[0], 1122/ predictions_df.shape[0]]\n",
    "NEW_CROSS_ENCODER = [975 / predictions_df.shape[0], 1056/ predictions_df.shape[0], 1077/ predictions_df.shape[0], 1101/ predictions_df.shape[0], 1117/ predictions_df.shape[0], 1122/ predictions_df.shape[0]]\n",
    "\n",
    "# Creating the plot\n",
    "plt.figure(figsize=(10, 6))\n",
    "plt.plot(X, OPENAI_RETRIEVAL, label='OAI Retrieval Only', marker='o')\n",
    "plt.plot(X, OPEN_SOURCE_RETRIEVAL, label='OS Retrieval Only', marker='*')\n",
    "plt.plot(X, OPEN_SOURCE_RETRIEVAL_PLUS_FT_CE, label='OS + Finetuned CE', marker='v')\n",
    "plt.plot(X, OLD_CROSS_ENCODER, label='OAI + Pretrained CE', marker='s')\n",
    "plt.plot(X, NEW_CROSS_ENCODER, label='OAI + Finetuned CE', marker='^')\n",
    "\n",
    "# Adding titles and labels\n",
    "plt.title('Comparing embedding models + pre-trained vs fine-tuned CE (all retrieved 50 results then re-ranked)')\n",
    "plt.xlabel('Recall @')\n",
    "plt.ylabel('Performance')\n",
    "plt.xticks(X)\n",
    "plt.yticks([i/100 for i in range(70, 101, 5)])  # Adjusting y-ticks to start from 0.75\n",
    "\n",
    "# Adding legend\n",
    "plt.legend()\n",
    "\n",
    "# Show the plot\n",
    "plt.grid(True)\n",
    "# plt.show()\n",
    "\n",
    "plt.savefig('recall_at_k.png', dpi=1000)"
   ]
  },
  {
   "cell_type": "code",
   "execution_count": null,
   "id": "LFaZAKPhaymM",
   "metadata": {
    "colab": {
     "base_uri": "https://localhost:8080/",
     "height": 275
    },
    "id": "LFaZAKPhaymM",
    "outputId": "a58e68c7-f61e-420a-aef9-c8336bb48702"
   },
   "outputs": [
    {
     "data": {
      "text/html": [
       "\n",
       "  <div id=\"df-4363c439-77de-4ee1-b439-f4d0dbd94b7a\" class=\"colab-df-container\">\n",
       "    <div>\n",
       "<style scoped>\n",
       "    .dataframe tbody tr th:only-of-type {\n",
       "        vertical-align: middle;\n",
       "    }\n",
       "\n",
       "    .dataframe tbody tr th {\n",
       "        vertical-align: top;\n",
       "    }\n",
       "\n",
       "    .dataframe thead th {\n",
       "        text-align: right;\n",
       "    }\n",
       "</style>\n",
       "<table border=\"1\" class=\"dataframe\">\n",
       "  <thead>\n",
       "    <tr style=\"text-align: right;\">\n",
       "      <th></th>\n",
       "      <th>RECALL @</th>\n",
       "      <th>OS_Retrieval_Only</th>\n",
       "      <th>OS_Retrieval_Plus_Finetuned_CE</th>\n",
       "      <th>OAI_Retrieval_Only</th>\n",
       "      <th>OAI_Retrieval_Plus_Pretrained_CE</th>\n",
       "      <th>OAI_Retrieval_Plus_Finetuned_CE</th>\n",
       "    </tr>\n",
       "  </thead>\n",
       "  <tbody>\n",
       "    <tr>\n",
       "      <th>0</th>\n",
       "      <td>1</td>\n",
       "      <td>0.501742</td>\n",
       "      <td>0.619338</td>\n",
       "      <td>0.754355</td>\n",
       "      <td>0.832753</td>\n",
       "      <td>0.849303</td>\n",
       "    </tr>\n",
       "    <tr>\n",
       "      <th>1</th>\n",
       "      <td>3</td>\n",
       "      <td>0.772648</td>\n",
       "      <td>0.876307</td>\n",
       "      <td>0.878920</td>\n",
       "      <td>0.920732</td>\n",
       "      <td>0.919861</td>\n",
       "    </tr>\n",
       "    <tr>\n",
       "      <th>2</th>\n",
       "      <td>5</td>\n",
       "      <td>0.825784</td>\n",
       "      <td>0.918990</td>\n",
       "      <td>0.912892</td>\n",
       "      <td>0.938153</td>\n",
       "      <td>0.938153</td>\n",
       "    </tr>\n",
       "    <tr>\n",
       "      <th>3</th>\n",
       "      <td>10</td>\n",
       "      <td>0.878049</td>\n",
       "      <td>0.946864</td>\n",
       "      <td>0.933798</td>\n",
       "      <td>0.952962</td>\n",
       "      <td>0.959059</td>\n",
       "    </tr>\n",
       "    <tr>\n",
       "      <th>4</th>\n",
       "      <td>25</td>\n",
       "      <td>0.934669</td>\n",
       "      <td>0.960801</td>\n",
       "      <td>0.965157</td>\n",
       "      <td>0.975610</td>\n",
       "      <td>0.972997</td>\n",
       "    </tr>\n",
       "    <tr>\n",
       "      <th>5</th>\n",
       "      <td>50</td>\n",
       "      <td>0.964286</td>\n",
       "      <td>0.964286</td>\n",
       "      <td>0.977352</td>\n",
       "      <td>0.977352</td>\n",
       "      <td>0.977352</td>\n",
       "    </tr>\n",
       "  </tbody>\n",
       "</table>\n",
       "</div>\n",
       "    <div class=\"colab-df-buttons\">\n",
       "\n",
       "  <div class=\"colab-df-container\">\n",
       "    <button class=\"colab-df-convert\" onclick=\"convertToInteractive('df-4363c439-77de-4ee1-b439-f4d0dbd94b7a')\"\n",
       "            title=\"Convert this dataframe to an interactive table.\"\n",
       "            style=\"display:none;\">\n",
       "\n",
       "  <svg xmlns=\"http://www.w3.org/2000/svg\" height=\"24px\" viewBox=\"0 -960 960 960\">\n",
       "    <path d=\"M120-120v-720h720v720H120Zm60-500h600v-160H180v160Zm220 220h160v-160H400v160Zm0 220h160v-160H400v160ZM180-400h160v-160H180v160Zm440 0h160v-160H620v160ZM180-180h160v-160H180v160Zm440 0h160v-160H620v160Z\"/>\n",
       "  </svg>\n",
       "    </button>\n",
       "\n",
       "  <style>\n",
       "    .colab-df-container {\n",
       "      display:flex;\n",
       "      gap: 12px;\n",
       "    }\n",
       "\n",
       "    .colab-df-convert {\n",
       "      background-color: #E8F0FE;\n",
       "      border: none;\n",
       "      border-radius: 50%;\n",
       "      cursor: pointer;\n",
       "      display: none;\n",
       "      fill: #1967D2;\n",
       "      height: 32px;\n",
       "      padding: 0 0 0 0;\n",
       "      width: 32px;\n",
       "    }\n",
       "\n",
       "    .colab-df-convert:hover {\n",
       "      background-color: #E2EBFA;\n",
       "      box-shadow: 0px 1px 2px rgba(60, 64, 67, 0.3), 0px 1px 3px 1px rgba(60, 64, 67, 0.15);\n",
       "      fill: #174EA6;\n",
       "    }\n",
       "\n",
       "    .colab-df-buttons div {\n",
       "      margin-bottom: 4px;\n",
       "    }\n",
       "\n",
       "    [theme=dark] .colab-df-convert {\n",
       "      background-color: #3B4455;\n",
       "      fill: #D2E3FC;\n",
       "    }\n",
       "\n",
       "    [theme=dark] .colab-df-convert:hover {\n",
       "      background-color: #434B5C;\n",
       "      box-shadow: 0px 1px 3px 1px rgba(0, 0, 0, 0.15);\n",
       "      filter: drop-shadow(0px 1px 2px rgba(0, 0, 0, 0.3));\n",
       "      fill: #FFFFFF;\n",
       "    }\n",
       "  </style>\n",
       "\n",
       "    <script>\n",
       "      const buttonEl =\n",
       "        document.querySelector('#df-4363c439-77de-4ee1-b439-f4d0dbd94b7a button.colab-df-convert');\n",
       "      buttonEl.style.display =\n",
       "        google.colab.kernel.accessAllowed ? 'block' : 'none';\n",
       "\n",
       "      async function convertToInteractive(key) {\n",
       "        const element = document.querySelector('#df-4363c439-77de-4ee1-b439-f4d0dbd94b7a');\n",
       "        const dataTable =\n",
       "          await google.colab.kernel.invokeFunction('convertToInteractive',\n",
       "                                                    [key], {});\n",
       "        if (!dataTable) return;\n",
       "\n",
       "        const docLinkHtml = 'Like what you see? Visit the ' +\n",
       "          '<a target=\"_blank\" href=https://colab.research.google.com/notebooks/data_table.ipynb>data table notebook</a>'\n",
       "          + ' to learn more about interactive tables.';\n",
       "        element.innerHTML = '';\n",
       "        dataTable['output_type'] = 'display_data';\n",
       "        await google.colab.output.renderOutput(dataTable, element);\n",
       "        const docLink = document.createElement('div');\n",
       "        docLink.innerHTML = docLinkHtml;\n",
       "        element.appendChild(docLink);\n",
       "      }\n",
       "    </script>\n",
       "  </div>\n",
       "\n",
       "\n",
       "<div id=\"df-37d7a99c-666e-4136-93f6-2ddeb94c2b86\">\n",
       "  <button class=\"colab-df-quickchart\" onclick=\"quickchart('df-37d7a99c-666e-4136-93f6-2ddeb94c2b86')\"\n",
       "            title=\"Suggest charts\"\n",
       "            style=\"display:none;\">\n",
       "\n",
       "<svg xmlns=\"http://www.w3.org/2000/svg\" height=\"24px\"viewBox=\"0 0 24 24\"\n",
       "     width=\"24px\">\n",
       "    <g>\n",
       "        <path d=\"M19 3H5c-1.1 0-2 .9-2 2v14c0 1.1.9 2 2 2h14c1.1 0 2-.9 2-2V5c0-1.1-.9-2-2-2zM9 17H7v-7h2v7zm4 0h-2V7h2v10zm4 0h-2v-4h2v4z\"/>\n",
       "    </g>\n",
       "</svg>\n",
       "  </button>\n",
       "\n",
       "<style>\n",
       "  .colab-df-quickchart {\n",
       "      --bg-color: #E8F0FE;\n",
       "      --fill-color: #1967D2;\n",
       "      --hover-bg-color: #E2EBFA;\n",
       "      --hover-fill-color: #174EA6;\n",
       "      --disabled-fill-color: #AAA;\n",
       "      --disabled-bg-color: #DDD;\n",
       "  }\n",
       "\n",
       "  [theme=dark] .colab-df-quickchart {\n",
       "      --bg-color: #3B4455;\n",
       "      --fill-color: #D2E3FC;\n",
       "      --hover-bg-color: #434B5C;\n",
       "      --hover-fill-color: #FFFFFF;\n",
       "      --disabled-bg-color: #3B4455;\n",
       "      --disabled-fill-color: #666;\n",
       "  }\n",
       "\n",
       "  .colab-df-quickchart {\n",
       "    background-color: var(--bg-color);\n",
       "    border: none;\n",
       "    border-radius: 50%;\n",
       "    cursor: pointer;\n",
       "    display: none;\n",
       "    fill: var(--fill-color);\n",
       "    height: 32px;\n",
       "    padding: 0;\n",
       "    width: 32px;\n",
       "  }\n",
       "\n",
       "  .colab-df-quickchart:hover {\n",
       "    background-color: var(--hover-bg-color);\n",
       "    box-shadow: 0 1px 2px rgba(60, 64, 67, 0.3), 0 1px 3px 1px rgba(60, 64, 67, 0.15);\n",
       "    fill: var(--button-hover-fill-color);\n",
       "  }\n",
       "\n",
       "  .colab-df-quickchart-complete:disabled,\n",
       "  .colab-df-quickchart-complete:disabled:hover {\n",
       "    background-color: var(--disabled-bg-color);\n",
       "    fill: var(--disabled-fill-color);\n",
       "    box-shadow: none;\n",
       "  }\n",
       "\n",
       "  .colab-df-spinner {\n",
       "    border: 2px solid var(--fill-color);\n",
       "    border-color: transparent;\n",
       "    border-bottom-color: var(--fill-color);\n",
       "    animation:\n",
       "      spin 1s steps(1) infinite;\n",
       "  }\n",
       "\n",
       "  @keyframes spin {\n",
       "    0% {\n",
       "      border-color: transparent;\n",
       "      border-bottom-color: var(--fill-color);\n",
       "      border-left-color: var(--fill-color);\n",
       "    }\n",
       "    20% {\n",
       "      border-color: transparent;\n",
       "      border-left-color: var(--fill-color);\n",
       "      border-top-color: var(--fill-color);\n",
       "    }\n",
       "    30% {\n",
       "      border-color: transparent;\n",
       "      border-left-color: var(--fill-color);\n",
       "      border-top-color: var(--fill-color);\n",
       "      border-right-color: var(--fill-color);\n",
       "    }\n",
       "    40% {\n",
       "      border-color: transparent;\n",
       "      border-right-color: var(--fill-color);\n",
       "      border-top-color: var(--fill-color);\n",
       "    }\n",
       "    60% {\n",
       "      border-color: transparent;\n",
       "      border-right-color: var(--fill-color);\n",
       "    }\n",
       "    80% {\n",
       "      border-color: transparent;\n",
       "      border-right-color: var(--fill-color);\n",
       "      border-bottom-color: var(--fill-color);\n",
       "    }\n",
       "    90% {\n",
       "      border-color: transparent;\n",
       "      border-bottom-color: var(--fill-color);\n",
       "    }\n",
       "  }\n",
       "</style>\n",
       "\n",
       "  <script>\n",
       "    async function quickchart(key) {\n",
       "      const quickchartButtonEl =\n",
       "        document.querySelector('#' + key + ' button');\n",
       "      quickchartButtonEl.disabled = true;  // To prevent multiple clicks.\n",
       "      quickchartButtonEl.classList.add('colab-df-spinner');\n",
       "      try {\n",
       "        const charts = await google.colab.kernel.invokeFunction(\n",
       "            'suggestCharts', [key], {});\n",
       "      } catch (error) {\n",
       "        console.error('Error during call to suggestCharts:', error);\n",
       "      }\n",
       "      quickchartButtonEl.classList.remove('colab-df-spinner');\n",
       "      quickchartButtonEl.classList.add('colab-df-quickchart-complete');\n",
       "    }\n",
       "    (() => {\n",
       "      let quickchartButtonEl =\n",
       "        document.querySelector('#df-37d7a99c-666e-4136-93f6-2ddeb94c2b86 button');\n",
       "      quickchartButtonEl.style.display =\n",
       "        google.colab.kernel.accessAllowed ? 'block' : 'none';\n",
       "    })();\n",
       "  </script>\n",
       "</div>\n",
       "\n",
       "  <div id=\"id_20b5e92e-5da3-4334-a0e4-03dad314ab26\">\n",
       "    <style>\n",
       "      .colab-df-generate {\n",
       "        background-color: #E8F0FE;\n",
       "        border: none;\n",
       "        border-radius: 50%;\n",
       "        cursor: pointer;\n",
       "        display: none;\n",
       "        fill: #1967D2;\n",
       "        height: 32px;\n",
       "        padding: 0 0 0 0;\n",
       "        width: 32px;\n",
       "      }\n",
       "\n",
       "      .colab-df-generate:hover {\n",
       "        background-color: #E2EBFA;\n",
       "        box-shadow: 0px 1px 2px rgba(60, 64, 67, 0.3), 0px 1px 3px 1px rgba(60, 64, 67, 0.15);\n",
       "        fill: #174EA6;\n",
       "      }\n",
       "\n",
       "      [theme=dark] .colab-df-generate {\n",
       "        background-color: #3B4455;\n",
       "        fill: #D2E3FC;\n",
       "      }\n",
       "\n",
       "      [theme=dark] .colab-df-generate:hover {\n",
       "        background-color: #434B5C;\n",
       "        box-shadow: 0px 1px 3px 1px rgba(0, 0, 0, 0.15);\n",
       "        filter: drop-shadow(0px 1px 2px rgba(0, 0, 0, 0.3));\n",
       "        fill: #FFFFFF;\n",
       "      }\n",
       "    </style>\n",
       "    <button class=\"colab-df-generate\" onclick=\"generateWithVariable('results_df')\"\n",
       "            title=\"Generate code using this dataframe.\"\n",
       "            style=\"display:none;\">\n",
       "\n",
       "  <svg xmlns=\"http://www.w3.org/2000/svg\" height=\"24px\"viewBox=\"0 0 24 24\"\n",
       "       width=\"24px\">\n",
       "    <path d=\"M7,19H8.4L18.45,9,17,7.55,7,17.6ZM5,21V16.75L18.45,3.32a2,2,0,0,1,2.83,0l1.4,1.43a1.91,1.91,0,0,1,.58,1.4,1.91,1.91,0,0,1-.58,1.4L9.25,21ZM18.45,9,17,7.55Zm-12,3A5.31,5.31,0,0,0,4.9,8.1,5.31,5.31,0,0,0,1,6.5,5.31,5.31,0,0,0,4.9,4.9,5.31,5.31,0,0,0,6.5,1,5.31,5.31,0,0,0,8.1,4.9,5.31,5.31,0,0,0,12,6.5,5.46,5.46,0,0,0,6.5,12Z\"/>\n",
       "  </svg>\n",
       "    </button>\n",
       "    <script>\n",
       "      (() => {\n",
       "      const buttonEl =\n",
       "        document.querySelector('#id_20b5e92e-5da3-4334-a0e4-03dad314ab26 button.colab-df-generate');\n",
       "      buttonEl.style.display =\n",
       "        google.colab.kernel.accessAllowed ? 'block' : 'none';\n",
       "\n",
       "      buttonEl.onclick = () => {\n",
       "        google.colab.notebook.generateWithVariable('results_df');\n",
       "      }\n",
       "      })();\n",
       "    </script>\n",
       "  </div>\n",
       "\n",
       "    </div>\n",
       "  </div>\n"
      ],
      "text/plain": [
       "   RECALL @  OS_Retrieval_Only  OS_Retrieval_Plus_Finetuned_CE  \\\n",
       "0         1           0.501742                        0.619338   \n",
       "1         3           0.772648                        0.876307   \n",
       "2         5           0.825784                        0.918990   \n",
       "3        10           0.878049                        0.946864   \n",
       "4        25           0.934669                        0.960801   \n",
       "5        50           0.964286                        0.964286   \n",
       "\n",
       "   OAI_Retrieval_Only  OAI_Retrieval_Plus_Pretrained_CE  \\\n",
       "0            0.754355                          0.832753   \n",
       "1            0.878920                          0.920732   \n",
       "2            0.912892                          0.938153   \n",
       "3            0.933798                          0.952962   \n",
       "4            0.965157                          0.975610   \n",
       "5            0.977352                          0.977352   \n",
       "\n",
       "   OAI_Retrieval_Plus_Finetuned_CE  \n",
       "0                         0.849303  \n",
       "1                         0.919861  \n",
       "2                         0.938153  \n",
       "3                         0.959059  \n",
       "4                         0.972997  \n",
       "5                         0.977352  "
      ]
     },
     "execution_count": 448,
     "metadata": {},
     "output_type": "execute_result"
    }
   ],
   "source": [
    "# show results as a table\n",
    "\n",
    "results_df = pd.DataFrame({'RECALL @': [1, 3, 5, 10, 25, 50], 'OS_Retrieval_Only': OPEN_SOURCE_RETRIEVAL, 'OS_Retrieval_Plus_Finetuned_CE': OPEN_SOURCE_RETRIEVAL_PLUS_FT_CE   , 'OAI_Retrieval_Only': OPENAI_RETRIEVAL    , 'OAI_Retrieval_Plus_Pretrained_CE': OLD_CROSS_ENCODER, 'OAI_Retrieval_Plus_Finetuned_CE': NEW_CROSS_ENCODER})\n",
    "results_df"
   ]
  },
  {
   "cell_type": "code",
   "execution_count": null,
   "id": "WpumO13hi_Vr",
   "metadata": {
    "colab": {
     "base_uri": "https://localhost:8080/",
     "height": 568
    },
    "id": "WpumO13hi_Vr",
    "outputId": "d00fbc68-d2dd-462e-c6a9-2744d178c1c9"
   },
   "outputs": [
    {
     "data": {
      "image/png": "[encoded data removed]",
      "text/plain": [
       "<Figure size 1000x600 with 1 Axes>"
      ]
     },
     "metadata": {},
     "output_type": "display_data"
    }
   ],
   "source": [
    "# Assuming 'results_df' is your DataFrame\n",
    "# Set 'RECALL @' as the index if it's intended to be used for x-axis labels\n",
    "results_df.set_index('RECALL @', inplace=True)\n",
    "\n",
    "# Plot the bar chart\n",
    "ax = results_df.plot.bar(\n",
    "    xlabel='RECALL @',\n",
    "    ylabel='Performance',\n",
    "    title='Comparing embedding models + pre-trained vs fine-tuned CE (all retrieved 50 results then re-ranked)',\n",
    "    figsize=(10, 6)\n",
    ")\n",
    "\n",
    "# Move the legend outside of the plot\n",
    "ax.legend(loc='upper left', bbox_to_anchor=(1, 1))\n",
    "\n",
    "# Adjust subplot parameters to fit the legend outside of the plot\n",
    "plt.subplots_adjust(right=0.75)\n",
    "\n",
    "plt.savefig('recall_at_k_bar.png', dpi=1000)\n"
   ]
  },
  {
   "cell_type": "markdown",
   "id": "9a6df164-60c7-4a36-b246-c0c92297a496",
   "metadata": {},
   "source": [
    "# Using a deployed open source embedder (~$45 a month)"
   ]
  },
  {
   "cell_type": "code",
   "execution_count": 44,
   "id": "INH8fgQUBdka",
   "metadata": {
    "id": "INH8fgQUBdka"
   },
   "outputs": [
    {
     "name": "stdout",
     "output_type": "stream",
     "text": [
      "\n"
     ]
    }
   ],
   "source": [
    "HF_TOKEN = userdata.get('HF_TOKEN')"
   ]
  },
  {
   "cell_type": "code",
   "execution_count": 46,
   "id": "1721eda4-eee5-4a62-90e4-24577e905a93",
   "metadata": {},
   "outputs": [],
   "source": [
    "import requests\n",
    "\n",
    "API_URL = \"https://rnlg7ggtdkep4h0i.us-east-1.aws.endpoints.huggingface.cloud\"\n",
    "headers = {\n",
    "\t\"Accept\" : \"application/json\",\n",
    "\t\"Authorization\": f\"Bearer {HF_TOKEN}\",\n",
    "\t\"Content-Type\": \"application/json\" \n",
    "}\n",
    "\n",
    "def query(payload):\n",
    "\tresponse = requests.post(API_URL, headers=headers, json=payload)\n",
    "\treturn response.json()\n",
    "\n",
    "output = query({\n",
    "\t\"inputs\": [\"1\", '2'],\n",
    "})"
   ]
  },
  {
   "cell_type": "code",
   "execution_count": 47,
   "id": "81c513bc-882c-474e-9efb-2696e4731f35",
   "metadata": {},
   "outputs": [
    {
     "data": {
      "text/plain": [
       "2"
      ]
     },
     "execution_count": 47,
     "metadata": {},
     "output_type": "execute_result"
    }
   ],
   "source": [
    "len(output['embeddings'])"
   ]
  },
  {
   "cell_type": "code",
   "execution_count": 48,
   "id": "1ad100e6-0d6c-4f77-bd2d-a063976d8b69",
   "metadata": {},
   "outputs": [
    {
     "data": {
      "text/plain": [
       "768"
      ]
     },
     "execution_count": 48,
     "metadata": {},
     "output_type": "execute_result"
    }
   ],
   "source": [
    "len(output['embeddings'][0])"
   ]
  },
  {
   "cell_type": "code",
   "execution_count": 49,
   "id": "ee28d40b-0973-40c3-8230-abf007471a72",
   "metadata": {},
   "outputs": [
    {
     "data": {
      "text/plain": [
       "[0.012244473211467266,\n",
       " -0.009157375432550907,\n",
       " 0.004602040629833937,\n",
       " -0.024496469646692276,\n",
       " -0.004610566888004541]"
      ]
     },
     "execution_count": 49,
     "metadata": {},
     "output_type": "execute_result"
    }
   ],
   "source": [
    "output['embeddings'][0][:5]"
   ]
  },
  {
   "cell_type": "code",
   "execution_count": null,
   "id": "eeb65a98-6559-4895-ac65-682d7979bd66",
   "metadata": {},
   "outputs": [],
   "source": []
  }
 ],
 "metadata": {
  "accelerator": "GPU",
  "colab": {
   "gpuType": "T4",
   "machine_shape": "hm",
   "provenance": []
  },
  "kernelspec": {
   "display_name": "Python 3 (ipykernel)",
   "language": "python",
   "name": "python3"
  },
  "language_info": {
   "codemirror_mode": {
    "name": "ipython",
    "version": 3
   },
   "file_extension": ".py",
   "mimetype": "text/x-python",
   "name": "python",
   "nbconvert_exporter": "python",
   "pygments_lexer": "ipython3",
   "version": "3.11.5"
  },
  "widgets": {
   "application/vnd.jupyter.widget-state+json": {
    "0295736b3f254a8590d911792f2c19db": {
     "model_module": "@jupyter-widgets/controls",
     "model_module_version": "1.5.0",
     "model_name": "FloatProgressModel",
     "state": {
      "_dom_classes": [],
      "_model_module": "@jupyter-widgets/controls",
      "_model_module_version": "1.5.0",
      "_model_name": "FloatProgressModel",
      "_view_count": null,
      "_view_module": "@jupyter-widgets/controls",
      "_view_module_version": "1.5.0",
      "_view_name": "ProgressView",
      "bar_style": "success",
      "description": "",
      "description_tooltip": null,
      "layout": "IPY_MODEL_3f1ba16f17c94fb8a409d152b9a6045a",
      "max": 1739,
      "min": 0,
      "orientation": "horizontal",
      "style": "IPY_MODEL_c485139a148e4207957e96b4275eeed2",
      "value": 1739
     }
    },
    "084ebc36eb9d4616acc1a0843673ac4f": {
     "model_module": "@jupyter-widgets/base",
     "model_module_version": "1.2.0",
     "model_name": "LayoutModel",
     "state": {
      "_model_module": "@jupyter-widgets/base",
      "_model_module_version": "1.2.0",
      "_model_name": "LayoutModel",
      "_view_count": null,
      "_view_module": "@jupyter-widgets/base",
      "_view_module_version": "1.2.0",
      "_view_name": "LayoutView",
      "align_content": null,
      "align_items": null,
      "align_self": null,
      "border": null,
      "bottom": null,
      "display": null,
      "flex": null,
      "flex_flow": null,
      "grid_area": null,
      "grid_auto_columns": null,
      "grid_auto_flow": null,
      "grid_auto_rows": null,
      "grid_column": null,
      "grid_gap": null,
      "grid_row": null,
      "grid_template_areas": null,
      "grid_template_columns": null,
      "grid_template_rows": null,
      "height": null,
      "justify_content": null,
      "justify_items": null,
      "left": null,
      "margin": null,
      "max_height": null,
      "max_width": null,
      "min_height": null,
      "min_width": null,
      "object_fit": null,
      "object_position": null,
      "order": null,
      "overflow": null,
      "overflow_x": null,
      "overflow_y": null,
      "padding": null,
      "right": null,
      "top": null,
      "visibility": null,
      "width": null
     }
    },
    "098016d32abc4f45be0a4f747cbc3f11": {
     "model_module": "@jupyter-widgets/controls",
     "model_module_version": "1.5.0",
     "model_name": "DescriptionStyleModel",
     "state": {
      "_model_module": "@jupyter-widgets/controls",
      "_model_module_version": "1.5.0",
      "_model_name": "DescriptionStyleModel",
      "_view_count": null,
      "_view_module": "@jupyter-widgets/base",
      "_view_module_version": "1.2.0",
      "_view_name": "StyleView",
      "description_width": ""
     }
    },
    "0caf250cdae643479160eedc708ffeea": {
     "model_module": "@jupyter-widgets/controls",
     "model_module_version": "1.5.0",
     "model_name": "HBoxModel",
     "state": {
      "_dom_classes": [],
      "_model_module": "@jupyter-widgets/controls",
      "_model_module_version": "1.5.0",
      "_model_name": "HBoxModel",
      "_view_count": null,
      "_view_module": "@jupyter-widgets/controls",
      "_view_module_version": "1.5.0",
      "_view_name": "HBoxView",
      "box_style": "",
      "children": [
       "IPY_MODEL_fa6089718c574ee19bd3c378e356ea6b",
       "IPY_MODEL_f78b642ffb784f9097e0cbf97c44b9bd",
       "IPY_MODEL_7c322a232739486a937883ac787f8750"
      ],
      "layout": "IPY_MODEL_1bc5237b0db94f4aa124c8c79a891955"
     }
    },
    "11e5c44fa73c4d5d88561036f2a0a070": {
     "model_module": "@jupyter-widgets/base",
     "model_module_version": "1.2.0",
     "model_name": "LayoutModel",
     "state": {
      "_model_module": "@jupyter-widgets/base",
      "_model_module_version": "1.2.0",
      "_model_name": "LayoutModel",
      "_view_count": null,
      "_view_module": "@jupyter-widgets/base",
      "_view_module_version": "1.2.0",
      "_view_name": "LayoutView",
      "align_content": null,
      "align_items": null,
      "align_self": null,
      "border": null,
      "bottom": null,
      "display": null,
      "flex": null,
      "flex_flow": null,
      "grid_area": null,
      "grid_auto_columns": null,
      "grid_auto_flow": null,
      "grid_auto_rows": null,
      "grid_column": null,
      "grid_gap": null,
      "grid_row": null,
      "grid_template_areas": null,
      "grid_template_columns": null,
      "grid_template_rows": null,
      "height": null,
      "justify_content": null,
      "justify_items": null,
      "left": null,
      "margin": null,
      "max_height": null,
      "max_width": null,
      "min_height": null,
      "min_width": null,
      "object_fit": null,
      "object_position": null,
      "order": null,
      "overflow": null,
      "overflow_x": null,
      "overflow_y": null,
      "padding": null,
      "right": null,
      "top": null,
      "visibility": null,
      "width": null
     }
    },
    "168948926c2340abb8b52f8dd67a5e73": {
     "model_module": "@jupyter-widgets/base",
     "model_module_version": "1.2.0",
     "model_name": "LayoutModel",
     "state": {
      "_model_module": "@jupyter-widgets/base",
      "_model_module_version": "1.2.0",
      "_model_name": "LayoutModel",
      "_view_count": null,
      "_view_module": "@jupyter-widgets/base",
      "_view_module_version": "1.2.0",
      "_view_name": "LayoutView",
      "align_content": null,
      "align_items": null,
      "align_self": null,
      "border": null,
      "bottom": null,
      "display": null,
      "flex": null,
      "flex_flow": null,
      "grid_area": null,
      "grid_auto_columns": null,
      "grid_auto_flow": null,
      "grid_auto_rows": null,
      "grid_column": null,
      "grid_gap": null,
      "grid_row": null,
      "grid_template_areas": null,
      "grid_template_columns": null,
      "grid_template_rows": null,
      "height": null,
      "justify_content": null,
      "justify_items": null,
      "left": null,
      "margin": null,
      "max_height": null,
      "max_width": null,
      "min_height": null,
      "min_width": null,
      "object_fit": null,
      "object_position": null,
      "order": null,
      "overflow": null,
      "overflow_x": null,
      "overflow_y": null,
      "padding": null,
      "right": null,
      "top": null,
      "visibility": null,
      "width": null
     }
    },
    "1bc5237b0db94f4aa124c8c79a891955": {
     "model_module": "@jupyter-widgets/base",
     "model_module_version": "1.2.0",
     "model_name": "LayoutModel",
     "state": {
      "_model_module": "@jupyter-widgets/base",
      "_model_module_version": "1.2.0",
      "_model_name": "LayoutModel",
      "_view_count": null,
      "_view_module": "@jupyter-widgets/base",
      "_view_module_version": "1.2.0",
      "_view_name": "LayoutView",
      "align_content": null,
      "align_items": null,
      "align_self": null,
      "border": null,
      "bottom": null,
      "display": null,
      "flex": null,
      "flex_flow": null,
      "grid_area": null,
      "grid_auto_columns": null,
      "grid_auto_flow": null,
      "grid_auto_rows": null,
      "grid_column": null,
      "grid_gap": null,
      "grid_row": null,
      "grid_template_areas": null,
      "grid_template_columns": null,
      "grid_template_rows": null,
      "height": null,
      "justify_content": null,
      "justify_items": null,
      "left": null,
      "margin": null,
      "max_height": null,
      "max_width": null,
      "min_height": null,
      "min_width": null,
      "object_fit": null,
      "object_position": null,
      "order": null,
      "overflow": null,
      "overflow_x": null,
      "overflow_y": null,
      "padding": null,
      "right": null,
      "top": null,
      "visibility": null,
      "width": null
     }
    },
    "21316ef8a22d40ab9109ccf0fa7fa645": {
     "model_module": "@jupyter-widgets/controls",
     "model_module_version": "1.5.0",
     "model_name": "HBoxModel",
     "state": {
      "_dom_classes": [],
      "_model_module": "@jupyter-widgets/controls",
      "_model_module_version": "1.5.0",
      "_model_name": "HBoxModel",
      "_view_count": null,
      "_view_module": "@jupyter-widgets/controls",
      "_view_module_version": "1.5.0",
      "_view_name": "HBoxView",
      "box_style": "",
      "children": [
       "IPY_MODEL_458bcab796d642c9afd2e534085b991f",
       "IPY_MODEL_266b42f10bd74b9f907588c1251c8d6c",
       "IPY_MODEL_ba968ae891a2400fa0db9f331b85b66c"
      ],
      "layout": "IPY_MODEL_5d09ef7e47f446a3a3a51458195a0fe3"
     }
    },
    "252dfe4d46604a089c263bb0eae17a3a": {
     "model_module": "@jupyter-widgets/controls",
     "model_module_version": "1.5.0",
     "model_name": "ProgressStyleModel",
     "state": {
      "_model_module": "@jupyter-widgets/controls",
      "_model_module_version": "1.5.0",
      "_model_name": "ProgressStyleModel",
      "_view_count": null,
      "_view_module": "@jupyter-widgets/base",
      "_view_module_version": "1.2.0",
      "_view_name": "StyleView",
      "bar_color": null,
      "description_width": ""
     }
    },
    "266b42f10bd74b9f907588c1251c8d6c": {
     "model_module": "@jupyter-widgets/controls",
     "model_module_version": "1.5.0",
     "model_name": "FloatProgressModel",
     "state": {
      "_dom_classes": [],
      "_model_module": "@jupyter-widgets/controls",
      "_model_module_version": "1.5.0",
      "_model_name": "FloatProgressModel",
      "_view_count": null,
      "_view_module": "@jupyter-widgets/controls",
      "_view_module_version": "1.5.0",
      "_view_name": "ProgressView",
      "bar_style": "success",
      "description": "",
      "description_tooltip": null,
      "layout": "IPY_MODEL_b070922627a04195a41899a169984b08",
      "max": 1,
      "min": 0,
      "orientation": "horizontal",
      "style": "IPY_MODEL_85a67e7f5d2845329d63f0922bb5d9a6",
      "value": 1
     }
    },
    "2aa32422748943759daf5ef05077bda0": {
     "model_module": "@jupyter-widgets/base",
     "model_module_version": "1.2.0",
     "model_name": "LayoutModel",
     "state": {
      "_model_module": "@jupyter-widgets/base",
      "_model_module_version": "1.2.0",
      "_model_name": "LayoutModel",
      "_view_count": null,
      "_view_module": "@jupyter-widgets/base",
      "_view_module_version": "1.2.0",
      "_view_name": "LayoutView",
      "align_content": null,
      "align_items": null,
      "align_self": null,
      "border": null,
      "bottom": null,
      "display": null,
      "flex": null,
      "flex_flow": null,
      "grid_area": null,
      "grid_auto_columns": null,
      "grid_auto_flow": null,
      "grid_auto_rows": null,
      "grid_column": null,
      "grid_gap": null,
      "grid_row": null,
      "grid_template_areas": null,
      "grid_template_columns": null,
      "grid_template_rows": null,
      "height": null,
      "justify_content": null,
      "justify_items": null,
      "left": null,
      "margin": null,
      "max_height": null,
      "max_width": null,
      "min_height": null,
      "min_width": null,
      "object_fit": null,
      "object_position": null,
      "order": null,
      "overflow": null,
      "overflow_x": null,
      "overflow_y": null,
      "padding": null,
      "right": null,
      "top": null,
      "visibility": null,
      "width": null
     }
    },
    "2c83393c2b7745889765d8efb4890763": {
     "model_module": "@jupyter-widgets/base",
     "model_module_version": "1.2.0",
     "model_name": "LayoutModel",
     "state": {
      "_model_module": "@jupyter-widgets/base",
      "_model_module_version": "1.2.0",
      "_model_name": "LayoutModel",
      "_view_count": null,
      "_view_module": "@jupyter-widgets/base",
      "_view_module_version": "1.2.0",
      "_view_name": "LayoutView",
      "align_content": null,
      "align_items": null,
      "align_self": null,
      "border": null,
      "bottom": null,
      "display": null,
      "flex": null,
      "flex_flow": null,
      "grid_area": null,
      "grid_auto_columns": null,
      "grid_auto_flow": null,
      "grid_auto_rows": null,
      "grid_column": null,
      "grid_gap": null,
      "grid_row": null,
      "grid_template_areas": null,
      "grid_template_columns": null,
      "grid_template_rows": null,
      "height": null,
      "justify_content": null,
      "justify_items": null,
      "left": null,
      "margin": null,
      "max_height": null,
      "max_width": null,
      "min_height": null,
      "min_width": null,
      "object_fit": null,
      "object_position": null,
      "order": null,
      "overflow": null,
      "overflow_x": null,
      "overflow_y": null,
      "padding": null,
      "right": null,
      "top": null,
      "visibility": null,
      "width": null
     }
    },
    "2cb4c1bff01b4f669ecd8583187bab9f": {
     "model_module": "@jupyter-widgets/controls",
     "model_module_version": "1.5.0",
     "model_name": "DescriptionStyleModel",
     "state": {
      "_model_module": "@jupyter-widgets/controls",
      "_model_module_version": "1.5.0",
      "_model_name": "DescriptionStyleModel",
      "_view_count": null,
      "_view_module": "@jupyter-widgets/base",
      "_view_module_version": "1.2.0",
      "_view_name": "StyleView",
      "description_width": ""
     }
    },
    "348701c9256e4eb48b8ffb0d9c0d6c83": {
     "model_module": "@jupyter-widgets/controls",
     "model_module_version": "1.5.0",
     "model_name": "ProgressStyleModel",
     "state": {
      "_model_module": "@jupyter-widgets/controls",
      "_model_module_version": "1.5.0",
      "_model_name": "ProgressStyleModel",
      "_view_count": null,
      "_view_module": "@jupyter-widgets/base",
      "_view_module_version": "1.2.0",
      "_view_name": "StyleView",
      "bar_color": null,
      "description_width": ""
     }
    },
    "352af51e6e7943a7a41d3bbe41885d8d": {
     "model_module": "@jupyter-widgets/base",
     "model_module_version": "1.2.0",
     "model_name": "LayoutModel",
     "state": {
      "_model_module": "@jupyter-widgets/base",
      "_model_module_version": "1.2.0",
      "_model_name": "LayoutModel",
      "_view_count": null,
      "_view_module": "@jupyter-widgets/base",
      "_view_module_version": "1.2.0",
      "_view_name": "LayoutView",
      "align_content": null,
      "align_items": null,
      "align_self": null,
      "border": null,
      "bottom": null,
      "display": null,
      "flex": null,
      "flex_flow": null,
      "grid_area": null,
      "grid_auto_columns": null,
      "grid_auto_flow": null,
      "grid_auto_rows": null,
      "grid_column": null,
      "grid_gap": null,
      "grid_row": null,
      "grid_template_areas": null,
      "grid_template_columns": null,
      "grid_template_rows": null,
      "height": null,
      "justify_content": null,
      "justify_items": null,
      "left": null,
      "margin": null,
      "max_height": null,
      "max_width": null,
      "min_height": null,
      "min_width": null,
      "object_fit": null,
      "object_position": null,
      "order": null,
      "overflow": null,
      "overflow_x": null,
      "overflow_y": null,
      "padding": null,
      "right": null,
      "top": null,
      "visibility": null,
      "width": null
     }
    },
    "37395cf0cac548c783ccbdac230c4a3c": {
     "model_module": "@jupyter-widgets/controls",
     "model_module_version": "1.5.0",
     "model_name": "HBoxModel",
     "state": {
      "_dom_classes": [],
      "_model_module": "@jupyter-widgets/controls",
      "_model_module_version": "1.5.0",
      "_model_name": "HBoxModel",
      "_view_count": null,
      "_view_module": "@jupyter-widgets/controls",
      "_view_module_version": "1.5.0",
      "_view_name": "HBoxView",
      "box_style": "",
      "children": [
       "IPY_MODEL_8085fe243d814d5da2b4d6b665a6aa51",
       "IPY_MODEL_0295736b3f254a8590d911792f2c19db",
       "IPY_MODEL_ad079ced956841be88a3ab6f2fdcd88d"
      ],
      "layout": "IPY_MODEL_953b16307b514bc995efc40ff8f4698b"
     }
    },
    "3838d1bfccb5402d91ecf96f51f9c2d7": {
     "model_module": "@jupyter-widgets/controls",
     "model_module_version": "1.5.0",
     "model_name": "HTMLModel",
     "state": {
      "_dom_classes": [],
      "_model_module": "@jupyter-widgets/controls",
      "_model_module_version": "1.5.0",
      "_model_name": "HTMLModel",
      "_view_count": null,
      "_view_module": "@jupyter-widgets/controls",
      "_view_module_version": "1.5.0",
      "_view_name": "HTMLView",
      "description": "",
      "description_tooltip": null,
      "layout": "IPY_MODEL_e732511315484861b39d0efb86b9cfb5",
      "placeholder": "​",
      "style": "IPY_MODEL_3df968e9ff654de7bfc95f08c88a99c6",
      "value": " 1/1 [00:00&lt;00:00, 33.52it/s]"
     }
    },
    "3df968e9ff654de7bfc95f08c88a99c6": {
     "model_module": "@jupyter-widgets/controls",
     "model_module_version": "1.5.0",
     "model_name": "DescriptionStyleModel",
     "state": {
      "_model_module": "@jupyter-widgets/controls",
      "_model_module_version": "1.5.0",
      "_model_name": "DescriptionStyleModel",
      "_view_count": null,
      "_view_module": "@jupyter-widgets/base",
      "_view_module_version": "1.2.0",
      "_view_name": "StyleView",
      "description_width": ""
     }
    },
    "3f1ba16f17c94fb8a409d152b9a6045a": {
     "model_module": "@jupyter-widgets/base",
     "model_module_version": "1.2.0",
     "model_name": "LayoutModel",
     "state": {
      "_model_module": "@jupyter-widgets/base",
      "_model_module_version": "1.2.0",
      "_model_name": "LayoutModel",
      "_view_count": null,
      "_view_module": "@jupyter-widgets/base",
      "_view_module_version": "1.2.0",
      "_view_name": "LayoutView",
      "align_content": null,
      "align_items": null,
      "align_self": null,
      "border": null,
      "bottom": null,
      "display": null,
      "flex": null,
      "flex_flow": null,
      "grid_area": null,
      "grid_auto_columns": null,
      "grid_auto_flow": null,
      "grid_auto_rows": null,
      "grid_column": null,
      "grid_gap": null,
      "grid_row": null,
      "grid_template_areas": null,
      "grid_template_columns": null,
      "grid_template_rows": null,
      "height": null,
      "justify_content": null,
      "justify_items": null,
      "left": null,
      "margin": null,
      "max_height": null,
      "max_width": null,
      "min_height": null,
      "min_width": null,
      "object_fit": null,
      "object_position": null,
      "order": null,
      "overflow": null,
      "overflow_x": null,
      "overflow_y": null,
      "padding": null,
      "right": null,
      "top": null,
      "visibility": null,
      "width": null
     }
    },
    "43c8db4be4984f6da1540de6bc89b616": {
     "model_module": "@jupyter-widgets/controls",
     "model_module_version": "1.5.0",
     "model_name": "FloatProgressModel",
     "state": {
      "_dom_classes": [],
      "_model_module": "@jupyter-widgets/controls",
      "_model_module_version": "1.5.0",
      "_model_name": "FloatProgressModel",
      "_view_count": null,
      "_view_module": "@jupyter-widgets/controls",
      "_view_module_version": "1.5.0",
      "_view_name": "ProgressView",
      "bar_style": "success",
      "description": "",
      "description_tooltip": null,
      "layout": "IPY_MODEL_dc26c84713fb45f5a6c5b870c96d9d9e",
      "max": 1,
      "min": 0,
      "orientation": "horizontal",
      "style": "IPY_MODEL_a6ac9d7aed4c493db567b015ab8502a5",
      "value": 1
     }
    },
    "458bcab796d642c9afd2e534085b991f": {
     "model_module": "@jupyter-widgets/controls",
     "model_module_version": "1.5.0",
     "model_name": "HTMLModel",
     "state": {
      "_dom_classes": [],
      "_model_module": "@jupyter-widgets/controls",
      "_model_module_version": "1.5.0",
      "_model_name": "HTMLModel",
      "_view_count": null,
      "_view_module": "@jupyter-widgets/controls",
      "_view_module_version": "1.5.0",
      "_view_name": "HTMLView",
      "description": "",
      "description_tooltip": null,
      "layout": "IPY_MODEL_352af51e6e7943a7a41d3bbe41885d8d",
      "placeholder": "​",
      "style": "IPY_MODEL_2cb4c1bff01b4f669ecd8583187bab9f",
      "value": "Batches: 100%"
     }
    },
    "4d26773cf0ec45fc9ac3185f8141cfe6": {
     "model_module": "@jupyter-widgets/base",
     "model_module_version": "1.2.0",
     "model_name": "LayoutModel",
     "state": {
      "_model_module": "@jupyter-widgets/base",
      "_model_module_version": "1.2.0",
      "_model_name": "LayoutModel",
      "_view_count": null,
      "_view_module": "@jupyter-widgets/base",
      "_view_module_version": "1.2.0",
      "_view_name": "LayoutView",
      "align_content": null,
      "align_items": null,
      "align_self": null,
      "border": null,
      "bottom": null,
      "display": null,
      "flex": null,
      "flex_flow": null,
      "grid_area": null,
      "grid_auto_columns": null,
      "grid_auto_flow": null,
      "grid_auto_rows": null,
      "grid_column": null,
      "grid_gap": null,
      "grid_row": null,
      "grid_template_areas": null,
      "grid_template_columns": null,
      "grid_template_rows": null,
      "height": null,
      "justify_content": null,
      "justify_items": null,
      "left": null,
      "margin": null,
      "max_height": null,
      "max_width": null,
      "min_height": null,
      "min_width": null,
      "object_fit": null,
      "object_position": null,
      "order": null,
      "overflow": null,
      "overflow_x": null,
      "overflow_y": null,
      "padding": null,
      "right": null,
      "top": null,
      "visibility": null,
      "width": null
     }
    },
    "4f4986d008434fc9912c496636b40b38": {
     "model_module": "@jupyter-widgets/base",
     "model_module_version": "1.2.0",
     "model_name": "LayoutModel",
     "state": {
      "_model_module": "@jupyter-widgets/base",
      "_model_module_version": "1.2.0",
      "_model_name": "LayoutModel",
      "_view_count": null,
      "_view_module": "@jupyter-widgets/base",
      "_view_module_version": "1.2.0",
      "_view_name": "LayoutView",
      "align_content": null,
      "align_items": null,
      "align_self": null,
      "border": null,
      "bottom": null,
      "display": null,
      "flex": null,
      "flex_flow": null,
      "grid_area": null,
      "grid_auto_columns": null,
      "grid_auto_flow": null,
      "grid_auto_rows": null,
      "grid_column": null,
      "grid_gap": null,
      "grid_row": null,
      "grid_template_areas": null,
      "grid_template_columns": null,
      "grid_template_rows": null,
      "height": null,
      "justify_content": null,
      "justify_items": null,
      "left": null,
      "margin": null,
      "max_height": null,
      "max_width": null,
      "min_height": null,
      "min_width": null,
      "object_fit": null,
      "object_position": null,
      "order": null,
      "overflow": null,
      "overflow_x": null,
      "overflow_y": null,
      "padding": null,
      "right": null,
      "top": null,
      "visibility": null,
      "width": null
     }
    },
    "5a7b319329164b27bf452869e2335aef": {
     "model_module": "@jupyter-widgets/base",
     "model_module_version": "1.2.0",
     "model_name": "LayoutModel",
     "state": {
      "_model_module": "@jupyter-widgets/base",
      "_model_module_version": "1.2.0",
      "_model_name": "LayoutModel",
      "_view_count": null,
      "_view_module": "@jupyter-widgets/base",
      "_view_module_version": "1.2.0",
      "_view_name": "LayoutView",
      "align_content": null,
      "align_items": null,
      "align_self": null,
      "border": null,
      "bottom": null,
      "display": null,
      "flex": null,
      "flex_flow": null,
      "grid_area": null,
      "grid_auto_columns": null,
      "grid_auto_flow": null,
      "grid_auto_rows": null,
      "grid_column": null,
      "grid_gap": null,
      "grid_row": null,
      "grid_template_areas": null,
      "grid_template_columns": null,
      "grid_template_rows": null,
      "height": null,
      "justify_content": null,
      "justify_items": null,
      "left": null,
      "margin": null,
      "max_height": null,
      "max_width": null,
      "min_height": null,
      "min_width": null,
      "object_fit": null,
      "object_position": null,
      "order": null,
      "overflow": null,
      "overflow_x": null,
      "overflow_y": null,
      "padding": null,
      "right": null,
      "top": null,
      "visibility": null,
      "width": null
     }
    },
    "5b3c84192618410ea1793239c4514c6e": {
     "model_module": "@jupyter-widgets/base",
     "model_module_version": "1.2.0",
     "model_name": "LayoutModel",
     "state": {
      "_model_module": "@jupyter-widgets/base",
      "_model_module_version": "1.2.0",
      "_model_name": "LayoutModel",
      "_view_count": null,
      "_view_module": "@jupyter-widgets/base",
      "_view_module_version": "1.2.0",
      "_view_name": "LayoutView",
      "align_content": null,
      "align_items": null,
      "align_self": null,
      "border": null,
      "bottom": null,
      "display": null,
      "flex": null,
      "flex_flow": null,
      "grid_area": null,
      "grid_auto_columns": null,
      "grid_auto_flow": null,
      "grid_auto_rows": null,
      "grid_column": null,
      "grid_gap": null,
      "grid_row": null,
      "grid_template_areas": null,
      "grid_template_columns": null,
      "grid_template_rows": null,
      "height": null,
      "justify_content": null,
      "justify_items": null,
      "left": null,
      "margin": null,
      "max_height": null,
      "max_width": null,
      "min_height": null,
      "min_width": null,
      "object_fit": null,
      "object_position": null,
      "order": null,
      "overflow": null,
      "overflow_x": null,
      "overflow_y": null,
      "padding": null,
      "right": null,
      "top": null,
      "visibility": null,
      "width": null
     }
    },
    "5d09ef7e47f446a3a3a51458195a0fe3": {
     "model_module": "@jupyter-widgets/base",
     "model_module_version": "1.2.0",
     "model_name": "LayoutModel",
     "state": {
      "_model_module": "@jupyter-widgets/base",
      "_model_module_version": "1.2.0",
      "_model_name": "LayoutModel",
      "_view_count": null,
      "_view_module": "@jupyter-widgets/base",
      "_view_module_version": "1.2.0",
      "_view_name": "LayoutView",
      "align_content": null,
      "align_items": null,
      "align_self": null,
      "border": null,
      "bottom": null,
      "display": null,
      "flex": null,
      "flex_flow": null,
      "grid_area": null,
      "grid_auto_columns": null,
      "grid_auto_flow": null,
      "grid_auto_rows": null,
      "grid_column": null,
      "grid_gap": null,
      "grid_row": null,
      "grid_template_areas": null,
      "grid_template_columns": null,
      "grid_template_rows": null,
      "height": null,
      "justify_content": null,
      "justify_items": null,
      "left": null,
      "margin": null,
      "max_height": null,
      "max_width": null,
      "min_height": null,
      "min_width": null,
      "object_fit": null,
      "object_position": null,
      "order": null,
      "overflow": null,
      "overflow_x": null,
      "overflow_y": null,
      "padding": null,
      "right": null,
      "top": null,
      "visibility": null,
      "width": null
     }
    },
    "608d1345487046ceb64b0b31a4287ae0": {
     "model_module": "@jupyter-widgets/controls",
     "model_module_version": "1.5.0",
     "model_name": "HTMLModel",
     "state": {
      "_dom_classes": [],
      "_model_module": "@jupyter-widgets/controls",
      "_model_module_version": "1.5.0",
      "_model_name": "HTMLModel",
      "_view_count": null,
      "_view_module": "@jupyter-widgets/controls",
      "_view_module_version": "1.5.0",
      "_view_name": "HTMLView",
      "description": "",
      "description_tooltip": null,
      "layout": "IPY_MODEL_fce9aa1662c34941afadd6141aba9180",
      "placeholder": "​",
      "style": "IPY_MODEL_098016d32abc4f45be0a4f747cbc3f11",
      "value": "Batches: 100%"
     }
    },
    "66f8508878e94e4296e2ffb009afdb75": {
     "model_module": "@jupyter-widgets/base",
     "model_module_version": "1.2.0",
     "model_name": "LayoutModel",
     "state": {
      "_model_module": "@jupyter-widgets/base",
      "_model_module_version": "1.2.0",
      "_model_name": "LayoutModel",
      "_view_count": null,
      "_view_module": "@jupyter-widgets/base",
      "_view_module_version": "1.2.0",
      "_view_name": "LayoutView",
      "align_content": null,
      "align_items": null,
      "align_self": null,
      "border": null,
      "bottom": null,
      "display": null,
      "flex": null,
      "flex_flow": null,
      "grid_area": null,
      "grid_auto_columns": null,
      "grid_auto_flow": null,
      "grid_auto_rows": null,
      "grid_column": null,
      "grid_gap": null,
      "grid_row": null,
      "grid_template_areas": null,
      "grid_template_columns": null,
      "grid_template_rows": null,
      "height": null,
      "justify_content": null,
      "justify_items": null,
      "left": null,
      "margin": null,
      "max_height": null,
      "max_width": null,
      "min_height": null,
      "min_width": null,
      "object_fit": null,
      "object_position": null,
      "order": null,
      "overflow": null,
      "overflow_x": null,
      "overflow_y": null,
      "padding": null,
      "right": null,
      "top": null,
      "visibility": null,
      "width": null
     }
    },
    "6854fe2978954c7b9e30202a6ea34b57": {
     "model_module": "@jupyter-widgets/controls",
     "model_module_version": "1.5.0",
     "model_name": "DescriptionStyleModel",
     "state": {
      "_model_module": "@jupyter-widgets/controls",
      "_model_module_version": "1.5.0",
      "_model_name": "DescriptionStyleModel",
      "_view_count": null,
      "_view_module": "@jupyter-widgets/base",
      "_view_module_version": "1.2.0",
      "_view_name": "StyleView",
      "description_width": ""
     }
    },
    "687d7bf7373f4541852203637e18d2e3": {
     "model_module": "@jupyter-widgets/controls",
     "model_module_version": "1.5.0",
     "model_name": "DescriptionStyleModel",
     "state": {
      "_model_module": "@jupyter-widgets/controls",
      "_model_module_version": "1.5.0",
      "_model_name": "DescriptionStyleModel",
      "_view_count": null,
      "_view_module": "@jupyter-widgets/base",
      "_view_module_version": "1.2.0",
      "_view_name": "StyleView",
      "description_width": ""
     }
    },
    "6cb81ad9ee8141aa9d0fbefc276f244d": {
     "model_module": "@jupyter-widgets/controls",
     "model_module_version": "1.5.0",
     "model_name": "HTMLModel",
     "state": {
      "_dom_classes": [],
      "_model_module": "@jupyter-widgets/controls",
      "_model_module_version": "1.5.0",
      "_model_name": "HTMLModel",
      "_view_count": null,
      "_view_module": "@jupyter-widgets/controls",
      "_view_module_version": "1.5.0",
      "_view_name": "HTMLView",
      "description": "",
      "description_tooltip": null,
      "layout": "IPY_MODEL_80e18075a957476591fa1ba2585b7a73",
      "placeholder": "​",
      "style": "IPY_MODEL_e1d8ec56e5614d77a6999a42283be94b",
      "value": " 1/1 [00:00&lt;00:00, 27.76it/s]"
     }
    },
    "6f5389fdc3674a05ad79bb9456a5995f": {
     "model_module": "@jupyter-widgets/controls",
     "model_module_version": "1.5.0",
     "model_name": "HTMLModel",
     "state": {
      "_dom_classes": [],
      "_model_module": "@jupyter-widgets/controls",
      "_model_module_version": "1.5.0",
      "_model_name": "HTMLModel",
      "_view_count": null,
      "_view_module": "@jupyter-widgets/controls",
      "_view_module_version": "1.5.0",
      "_view_name": "HTMLView",
      "description": "",
      "description_tooltip": null,
      "layout": "IPY_MODEL_e281ca37b72d422285aa64193265aaa4",
      "placeholder": "​",
      "style": "IPY_MODEL_687d7bf7373f4541852203637e18d2e3",
      "value": "Batches: 100%"
     }
    },
    "6f96c8a415744597bcaa83141b3a457c": {
     "model_module": "@jupyter-widgets/base",
     "model_module_version": "1.2.0",
     "model_name": "LayoutModel",
     "state": {
      "_model_module": "@jupyter-widgets/base",
      "_model_module_version": "1.2.0",
      "_model_name": "LayoutModel",
      "_view_count": null,
      "_view_module": "@jupyter-widgets/base",
      "_view_module_version": "1.2.0",
      "_view_name": "LayoutView",
      "align_content": null,
      "align_items": null,
      "align_self": null,
      "border": null,
      "bottom": null,
      "display": null,
      "flex": null,
      "flex_flow": null,
      "grid_area": null,
      "grid_auto_columns": null,
      "grid_auto_flow": null,
      "grid_auto_rows": null,
      "grid_column": null,
      "grid_gap": null,
      "grid_row": null,
      "grid_template_areas": null,
      "grid_template_columns": null,
      "grid_template_rows": null,
      "height": null,
      "justify_content": null,
      "justify_items": null,
      "left": null,
      "margin": null,
      "max_height": null,
      "max_width": null,
      "min_height": null,
      "min_width": null,
      "object_fit": null,
      "object_position": null,
      "order": null,
      "overflow": null,
      "overflow_x": null,
      "overflow_y": null,
      "padding": null,
      "right": null,
      "top": null,
      "visibility": null,
      "width": null
     }
    },
    "70e45cb4f2f64c499acc785ec64743fe": {
     "model_module": "@jupyter-widgets/controls",
     "model_module_version": "1.5.0",
     "model_name": "HTMLModel",
     "state": {
      "_dom_classes": [],
      "_model_module": "@jupyter-widgets/controls",
      "_model_module_version": "1.5.0",
      "_model_name": "HTMLModel",
      "_view_count": null,
      "_view_module": "@jupyter-widgets/controls",
      "_view_module_version": "1.5.0",
      "_view_name": "HTMLView",
      "description": "",
      "description_tooltip": null,
      "layout": "IPY_MODEL_d9f6781147a24bc3aec97b87927bdfbb",
      "placeholder": "​",
      "style": "IPY_MODEL_d0c85ebbf1a54fdcaa33210aa3e247b8",
      "value": " 620/620 [00:30&lt;00:00, 100.95it/s]"
     }
    },
    "7a5c511f2fe84c66beef7fed87023669": {
     "model_module": "@jupyter-widgets/controls",
     "model_module_version": "1.5.0",
     "model_name": "FloatProgressModel",
     "state": {
      "_dom_classes": [],
      "_model_module": "@jupyter-widgets/controls",
      "_model_module_version": "1.5.0",
      "_model_name": "FloatProgressModel",
      "_view_count": null,
      "_view_module": "@jupyter-widgets/controls",
      "_view_module_version": "1.5.0",
      "_view_name": "ProgressView",
      "bar_style": "success",
      "description": "",
      "description_tooltip": null,
      "layout": "IPY_MODEL_5a7b319329164b27bf452869e2335aef",
      "max": 620,
      "min": 0,
      "orientation": "horizontal",
      "style": "IPY_MODEL_e5a88639e7e5430fbe44f73d2e5a4b23",
      "value": 620
     }
    },
    "7ab68b0af00248f5bbc15a39bbf38166": {
     "model_module": "@jupyter-widgets/base",
     "model_module_version": "1.2.0",
     "model_name": "LayoutModel",
     "state": {
      "_model_module": "@jupyter-widgets/base",
      "_model_module_version": "1.2.0",
      "_model_name": "LayoutModel",
      "_view_count": null,
      "_view_module": "@jupyter-widgets/base",
      "_view_module_version": "1.2.0",
      "_view_name": "LayoutView",
      "align_content": null,
      "align_items": null,
      "align_self": null,
      "border": null,
      "bottom": null,
      "display": null,
      "flex": null,
      "flex_flow": null,
      "grid_area": null,
      "grid_auto_columns": null,
      "grid_auto_flow": null,
      "grid_auto_rows": null,
      "grid_column": null,
      "grid_gap": null,
      "grid_row": null,
      "grid_template_areas": null,
      "grid_template_columns": null,
      "grid_template_rows": null,
      "height": null,
      "justify_content": null,
      "justify_items": null,
      "left": null,
      "margin": null,
      "max_height": null,
      "max_width": null,
      "min_height": null,
      "min_width": null,
      "object_fit": null,
      "object_position": null,
      "order": null,
      "overflow": null,
      "overflow_x": null,
      "overflow_y": null,
      "padding": null,
      "right": null,
      "top": null,
      "visibility": null,
      "width": null
     }
    },
    "7bd0527b8e174aec9911c5b32dc048fd": {
     "model_module": "@jupyter-widgets/controls",
     "model_module_version": "1.5.0",
     "model_name": "DescriptionStyleModel",
     "state": {
      "_model_module": "@jupyter-widgets/controls",
      "_model_module_version": "1.5.0",
      "_model_name": "DescriptionStyleModel",
      "_view_count": null,
      "_view_module": "@jupyter-widgets/base",
      "_view_module_version": "1.2.0",
      "_view_name": "StyleView",
      "description_width": ""
     }
    },
    "7c322a232739486a937883ac787f8750": {
     "model_module": "@jupyter-widgets/controls",
     "model_module_version": "1.5.0",
     "model_name": "HTMLModel",
     "state": {
      "_dom_classes": [],
      "_model_module": "@jupyter-widgets/controls",
      "_model_module_version": "1.5.0",
      "_model_name": "HTMLModel",
      "_view_count": null,
      "_view_module": "@jupyter-widgets/controls",
      "_view_module_version": "1.5.0",
      "_view_name": "HTMLView",
      "description": "",
      "description_tooltip": null,
      "layout": "IPY_MODEL_11e5c44fa73c4d5d88561036f2a0a070",
      "placeholder": "​",
      "style": "IPY_MODEL_9781773e5d4d4e0ab8e3ff3140bd0983",
      "value": " 36/36 [00:16&lt;00:00,  5.64it/s]"
     }
    },
    "8085fe243d814d5da2b4d6b665a6aa51": {
     "model_module": "@jupyter-widgets/controls",
     "model_module_version": "1.5.0",
     "model_name": "HTMLModel",
     "state": {
      "_dom_classes": [],
      "_model_module": "@jupyter-widgets/controls",
      "_model_module_version": "1.5.0",
      "_model_name": "HTMLModel",
      "_view_count": null,
      "_view_module": "@jupyter-widgets/controls",
      "_view_module_version": "1.5.0",
      "_view_name": "HTMLView",
      "description": "",
      "description_tooltip": null,
      "layout": "IPY_MODEL_4d26773cf0ec45fc9ac3185f8141cfe6",
      "placeholder": "​",
      "style": "IPY_MODEL_d7959d1933e5466095bed23bb268afd5",
      "value": "Iteration: 100%"
     }
    },
    "80e18075a957476591fa1ba2585b7a73": {
     "model_module": "@jupyter-widgets/base",
     "model_module_version": "1.2.0",
     "model_name": "LayoutModel",
     "state": {
      "_model_module": "@jupyter-widgets/base",
      "_model_module_version": "1.2.0",
      "_model_name": "LayoutModel",
      "_view_count": null,
      "_view_module": "@jupyter-widgets/base",
      "_view_module_version": "1.2.0",
      "_view_name": "LayoutView",
      "align_content": null,
      "align_items": null,
      "align_self": null,
      "border": null,
      "bottom": null,
      "display": null,
      "flex": null,
      "flex_flow": null,
      "grid_area": null,
      "grid_auto_columns": null,
      "grid_auto_flow": null,
      "grid_auto_rows": null,
      "grid_column": null,
      "grid_gap": null,
      "grid_row": null,
      "grid_template_areas": null,
      "grid_template_columns": null,
      "grid_template_rows": null,
      "height": null,
      "justify_content": null,
      "justify_items": null,
      "left": null,
      "margin": null,
      "max_height": null,
      "max_width": null,
      "min_height": null,
      "min_width": null,
      "object_fit": null,
      "object_position": null,
      "order": null,
      "overflow": null,
      "overflow_x": null,
      "overflow_y": null,
      "padding": null,
      "right": null,
      "top": null,
      "visibility": null,
      "width": null
     }
    },
    "8396e1788d5540a79a9d195e2753351a": {
     "model_module": "@jupyter-widgets/controls",
     "model_module_version": "1.5.0",
     "model_name": "DescriptionStyleModel",
     "state": {
      "_model_module": "@jupyter-widgets/controls",
      "_model_module_version": "1.5.0",
      "_model_name": "DescriptionStyleModel",
      "_view_count": null,
      "_view_module": "@jupyter-widgets/base",
      "_view_module_version": "1.2.0",
      "_view_name": "StyleView",
      "description_width": ""
     }
    },
    "85a67e7f5d2845329d63f0922bb5d9a6": {
     "model_module": "@jupyter-widgets/controls",
     "model_module_version": "1.5.0",
     "model_name": "ProgressStyleModel",
     "state": {
      "_model_module": "@jupyter-widgets/controls",
      "_model_module_version": "1.5.0",
      "_model_name": "ProgressStyleModel",
      "_view_count": null,
      "_view_module": "@jupyter-widgets/base",
      "_view_module_version": "1.2.0",
      "_view_name": "StyleView",
      "bar_color": null,
      "description_width": ""
     }
    },
    "8e41a0a7932b4f0b8a448847ff3f14ff": {
     "model_module": "@jupyter-widgets/controls",
     "model_module_version": "1.5.0",
     "model_name": "DescriptionStyleModel",
     "state": {
      "_model_module": "@jupyter-widgets/controls",
      "_model_module_version": "1.5.0",
      "_model_name": "DescriptionStyleModel",
      "_view_count": null,
      "_view_module": "@jupyter-widgets/base",
      "_view_module_version": "1.2.0",
      "_view_name": "StyleView",
      "description_width": ""
     }
    },
    "8e989ddf9d274876a3ba06056e7147a1": {
     "model_module": "@jupyter-widgets/base",
     "model_module_version": "1.2.0",
     "model_name": "LayoutModel",
     "state": {
      "_model_module": "@jupyter-widgets/base",
      "_model_module_version": "1.2.0",
      "_model_name": "LayoutModel",
      "_view_count": null,
      "_view_module": "@jupyter-widgets/base",
      "_view_module_version": "1.2.0",
      "_view_name": "LayoutView",
      "align_content": null,
      "align_items": null,
      "align_self": null,
      "border": null,
      "bottom": null,
      "display": null,
      "flex": null,
      "flex_flow": null,
      "grid_area": null,
      "grid_auto_columns": null,
      "grid_auto_flow": null,
      "grid_auto_rows": null,
      "grid_column": null,
      "grid_gap": null,
      "grid_row": null,
      "grid_template_areas": null,
      "grid_template_columns": null,
      "grid_template_rows": null,
      "height": null,
      "justify_content": null,
      "justify_items": null,
      "left": null,
      "margin": null,
      "max_height": null,
      "max_width": null,
      "min_height": null,
      "min_width": null,
      "object_fit": null,
      "object_position": null,
      "order": null,
      "overflow": null,
      "overflow_x": null,
      "overflow_y": null,
      "padding": null,
      "right": null,
      "top": null,
      "visibility": null,
      "width": null
     }
    },
    "953b16307b514bc995efc40ff8f4698b": {
     "model_module": "@jupyter-widgets/base",
     "model_module_version": "1.2.0",
     "model_name": "LayoutModel",
     "state": {
      "_model_module": "@jupyter-widgets/base",
      "_model_module_version": "1.2.0",
      "_model_name": "LayoutModel",
      "_view_count": null,
      "_view_module": "@jupyter-widgets/base",
      "_view_module_version": "1.2.0",
      "_view_name": "LayoutView",
      "align_content": null,
      "align_items": null,
      "align_self": null,
      "border": null,
      "bottom": null,
      "display": null,
      "flex": null,
      "flex_flow": null,
      "grid_area": null,
      "grid_auto_columns": null,
      "grid_auto_flow": null,
      "grid_auto_rows": null,
      "grid_column": null,
      "grid_gap": null,
      "grid_row": null,
      "grid_template_areas": null,
      "grid_template_columns": null,
      "grid_template_rows": null,
      "height": null,
      "justify_content": null,
      "justify_items": null,
      "left": null,
      "margin": null,
      "max_height": null,
      "max_width": null,
      "min_height": null,
      "min_width": null,
      "object_fit": null,
      "object_position": null,
      "order": null,
      "overflow": null,
      "overflow_x": null,
      "overflow_y": null,
      "padding": null,
      "right": null,
      "top": null,
      "visibility": null,
      "width": null
     }
    },
    "9781773e5d4d4e0ab8e3ff3140bd0983": {
     "model_module": "@jupyter-widgets/controls",
     "model_module_version": "1.5.0",
     "model_name": "DescriptionStyleModel",
     "state": {
      "_model_module": "@jupyter-widgets/controls",
      "_model_module_version": "1.5.0",
      "_model_name": "DescriptionStyleModel",
      "_view_count": null,
      "_view_module": "@jupyter-widgets/base",
      "_view_module_version": "1.2.0",
      "_view_name": "StyleView",
      "description_width": ""
     }
    },
    "999f219c7c9449f0a48feb59eddd23eb": {
     "model_module": "@jupyter-widgets/controls",
     "model_module_version": "1.5.0",
     "model_name": "DescriptionStyleModel",
     "state": {
      "_model_module": "@jupyter-widgets/controls",
      "_model_module_version": "1.5.0",
      "_model_name": "DescriptionStyleModel",
      "_view_count": null,
      "_view_module": "@jupyter-widgets/base",
      "_view_module_version": "1.2.0",
      "_view_name": "StyleView",
      "description_width": ""
     }
    },
    "9d726c5753564258bbe1c281fa8bfefa": {
     "model_module": "@jupyter-widgets/controls",
     "model_module_version": "1.5.0",
     "model_name": "HTMLModel",
     "state": {
      "_dom_classes": [],
      "_model_module": "@jupyter-widgets/controls",
      "_model_module_version": "1.5.0",
      "_model_name": "HTMLModel",
      "_view_count": null,
      "_view_module": "@jupyter-widgets/controls",
      "_view_module_version": "1.5.0",
      "_view_name": "HTMLView",
      "description": "",
      "description_tooltip": null,
      "layout": "IPY_MODEL_66f8508878e94e4296e2ffb009afdb75",
      "placeholder": "​",
      "style": "IPY_MODEL_999f219c7c9449f0a48feb59eddd23eb",
      "value": "Batches: 100%"
     }
    },
    "a6ac9d7aed4c493db567b015ab8502a5": {
     "model_module": "@jupyter-widgets/controls",
     "model_module_version": "1.5.0",
     "model_name": "ProgressStyleModel",
     "state": {
      "_model_module": "@jupyter-widgets/controls",
      "_model_module_version": "1.5.0",
      "_model_name": "ProgressStyleModel",
      "_view_count": null,
      "_view_module": "@jupyter-widgets/base",
      "_view_module_version": "1.2.0",
      "_view_name": "StyleView",
      "bar_color": null,
      "description_width": ""
     }
    },
    "ad079ced956841be88a3ab6f2fdcd88d": {
     "model_module": "@jupyter-widgets/controls",
     "model_module_version": "1.5.0",
     "model_name": "HTMLModel",
     "state": {
      "_dom_classes": [],
      "_model_module": "@jupyter-widgets/controls",
      "_model_module_version": "1.5.0",
      "_model_name": "HTMLModel",
      "_view_count": null,
      "_view_module": "@jupyter-widgets/controls",
      "_view_module_version": "1.5.0",
      "_view_name": "HTMLView",
      "description": "",
      "description_tooltip": null,
      "layout": "IPY_MODEL_6f96c8a415744597bcaa83141b3a457c",
      "placeholder": "​",
      "style": "IPY_MODEL_8e41a0a7932b4f0b8a448847ff3f14ff",
      "value": " 1739/1739 [10:05&lt;00:00,  2.86it/s]"
     }
    },
    "b070922627a04195a41899a169984b08": {
     "model_module": "@jupyter-widgets/base",
     "model_module_version": "1.2.0",
     "model_name": "LayoutModel",
     "state": {
      "_model_module": "@jupyter-widgets/base",
      "_model_module_version": "1.2.0",
      "_model_name": "LayoutModel",
      "_view_count": null,
      "_view_module": "@jupyter-widgets/base",
      "_view_module_version": "1.2.0",
      "_view_name": "LayoutView",
      "align_content": null,
      "align_items": null,
      "align_self": null,
      "border": null,
      "bottom": null,
      "display": null,
      "flex": null,
      "flex_flow": null,
      "grid_area": null,
      "grid_auto_columns": null,
      "grid_auto_flow": null,
      "grid_auto_rows": null,
      "grid_column": null,
      "grid_gap": null,
      "grid_row": null,
      "grid_template_areas": null,
      "grid_template_columns": null,
      "grid_template_rows": null,
      "height": null,
      "justify_content": null,
      "justify_items": null,
      "left": null,
      "margin": null,
      "max_height": null,
      "max_width": null,
      "min_height": null,
      "min_width": null,
      "object_fit": null,
      "object_position": null,
      "order": null,
      "overflow": null,
      "overflow_x": null,
      "overflow_y": null,
      "padding": null,
      "right": null,
      "top": null,
      "visibility": null,
      "width": null
     }
    },
    "b281e2a5a8204b52827f01316d637952": {
     "model_module": "@jupyter-widgets/controls",
     "model_module_version": "1.5.0",
     "model_name": "FloatProgressModel",
     "state": {
      "_dom_classes": [],
      "_model_module": "@jupyter-widgets/controls",
      "_model_module_version": "1.5.0",
      "_model_name": "FloatProgressModel",
      "_view_count": null,
      "_view_module": "@jupyter-widgets/controls",
      "_view_module_version": "1.5.0",
      "_view_name": "ProgressView",
      "bar_style": "success",
      "description": "",
      "description_tooltip": null,
      "layout": "IPY_MODEL_084ebc36eb9d4616acc1a0843673ac4f",
      "max": 1,
      "min": 0,
      "orientation": "horizontal",
      "style": "IPY_MODEL_252dfe4d46604a089c263bb0eae17a3a",
      "value": 1
     }
    },
    "b6ecc1cc5b2e4332b56fdc1614823d3e": {
     "model_module": "@jupyter-widgets/controls",
     "model_module_version": "1.5.0",
     "model_name": "ProgressStyleModel",
     "state": {
      "_model_module": "@jupyter-widgets/controls",
      "_model_module_version": "1.5.0",
      "_model_name": "ProgressStyleModel",
      "_view_count": null,
      "_view_module": "@jupyter-widgets/base",
      "_view_module_version": "1.2.0",
      "_view_name": "StyleView",
      "bar_color": null,
      "description_width": ""
     }
    },
    "b86aa89087cb425198afa2db30d86600": {
     "model_module": "@jupyter-widgets/base",
     "model_module_version": "1.2.0",
     "model_name": "LayoutModel",
     "state": {
      "_model_module": "@jupyter-widgets/base",
      "_model_module_version": "1.2.0",
      "_model_name": "LayoutModel",
      "_view_count": null,
      "_view_module": "@jupyter-widgets/base",
      "_view_module_version": "1.2.0",
      "_view_name": "LayoutView",
      "align_content": null,
      "align_items": null,
      "align_self": null,
      "border": null,
      "bottom": null,
      "display": null,
      "flex": null,
      "flex_flow": null,
      "grid_area": null,
      "grid_auto_columns": null,
      "grid_auto_flow": null,
      "grid_auto_rows": null,
      "grid_column": null,
      "grid_gap": null,
      "grid_row": null,
      "grid_template_areas": null,
      "grid_template_columns": null,
      "grid_template_rows": null,
      "height": null,
      "justify_content": null,
      "justify_items": null,
      "left": null,
      "margin": null,
      "max_height": null,
      "max_width": null,
      "min_height": null,
      "min_width": null,
      "object_fit": null,
      "object_position": null,
      "order": null,
      "overflow": null,
      "overflow_x": null,
      "overflow_y": null,
      "padding": null,
      "right": null,
      "top": null,
      "visibility": null,
      "width": null
     }
    },
    "b9fbabd33a2a4d0a94055cd086d83228": {
     "model_module": "@jupyter-widgets/controls",
     "model_module_version": "1.5.0",
     "model_name": "HTMLModel",
     "state": {
      "_dom_classes": [],
      "_model_module": "@jupyter-widgets/controls",
      "_model_module_version": "1.5.0",
      "_model_name": "HTMLModel",
      "_view_count": null,
      "_view_module": "@jupyter-widgets/controls",
      "_view_module_version": "1.5.0",
      "_view_name": "HTMLView",
      "description": "",
      "description_tooltip": null,
      "layout": "IPY_MODEL_168948926c2340abb8b52f8dd67a5e73",
      "placeholder": "​",
      "style": "IPY_MODEL_8396e1788d5540a79a9d195e2753351a",
      "value": "Epoch: 100%"
     }
    },
    "ba968ae891a2400fa0db9f331b85b66c": {
     "model_module": "@jupyter-widgets/controls",
     "model_module_version": "1.5.0",
     "model_name": "HTMLModel",
     "state": {
      "_dom_classes": [],
      "_model_module": "@jupyter-widgets/controls",
      "_model_module_version": "1.5.0",
      "_model_name": "HTMLModel",
      "_view_count": null,
      "_view_module": "@jupyter-widgets/controls",
      "_view_module_version": "1.5.0",
      "_view_name": "HTMLView",
      "description": "",
      "description_tooltip": null,
      "layout": "IPY_MODEL_5b3c84192618410ea1793239c4514c6e",
      "placeholder": "​",
      "style": "IPY_MODEL_7bd0527b8e174aec9911c5b32dc048fd",
      "value": " 1/1 [00:00&lt;00:00, 28.53it/s]"
     }
    },
    "bb260568c96a4397bba2b1058404eec2": {
     "model_module": "@jupyter-widgets/base",
     "model_module_version": "1.2.0",
     "model_name": "LayoutModel",
     "state": {
      "_model_module": "@jupyter-widgets/base",
      "_model_module_version": "1.2.0",
      "_model_name": "LayoutModel",
      "_view_count": null,
      "_view_module": "@jupyter-widgets/base",
      "_view_module_version": "1.2.0",
      "_view_name": "LayoutView",
      "align_content": null,
      "align_items": null,
      "align_self": null,
      "border": null,
      "bottom": null,
      "display": null,
      "flex": null,
      "flex_flow": null,
      "grid_area": null,
      "grid_auto_columns": null,
      "grid_auto_flow": null,
      "grid_auto_rows": null,
      "grid_column": null,
      "grid_gap": null,
      "grid_row": null,
      "grid_template_areas": null,
      "grid_template_columns": null,
      "grid_template_rows": null,
      "height": null,
      "justify_content": null,
      "justify_items": null,
      "left": null,
      "margin": null,
      "max_height": null,
      "max_width": null,
      "min_height": null,
      "min_width": null,
      "object_fit": null,
      "object_position": null,
      "order": null,
      "overflow": null,
      "overflow_x": null,
      "overflow_y": null,
      "padding": null,
      "right": null,
      "top": null,
      "visibility": null,
      "width": null
     }
    },
    "c485139a148e4207957e96b4275eeed2": {
     "model_module": "@jupyter-widgets/controls",
     "model_module_version": "1.5.0",
     "model_name": "ProgressStyleModel",
     "state": {
      "_model_module": "@jupyter-widgets/controls",
      "_model_module_version": "1.5.0",
      "_model_name": "ProgressStyleModel",
      "_view_count": null,
      "_view_module": "@jupyter-widgets/base",
      "_view_module_version": "1.2.0",
      "_view_name": "StyleView",
      "bar_color": null,
      "description_width": ""
     }
    },
    "c7800a5a8f1b4c3fa541df6b5ba6281f": {
     "model_module": "@jupyter-widgets/controls",
     "model_module_version": "1.5.0",
     "model_name": "HBoxModel",
     "state": {
      "_dom_classes": [],
      "_model_module": "@jupyter-widgets/controls",
      "_model_module_version": "1.5.0",
      "_model_name": "HBoxModel",
      "_view_count": null,
      "_view_module": "@jupyter-widgets/controls",
      "_view_module_version": "1.5.0",
      "_view_name": "HBoxView",
      "box_style": "",
      "children": [
       "IPY_MODEL_9d726c5753564258bbe1c281fa8bfefa",
       "IPY_MODEL_ea3f511248734bbab197277b68346826",
       "IPY_MODEL_3838d1bfccb5402d91ecf96f51f9c2d7"
      ],
      "layout": "IPY_MODEL_ecc8ed6e869d4b01b7905ca951d0068c"
     }
    },
    "cdd38d9a948a4a4c8408dcb06d7c584a": {
     "model_module": "@jupyter-widgets/controls",
     "model_module_version": "1.5.0",
     "model_name": "HTMLModel",
     "state": {
      "_dom_classes": [],
      "_model_module": "@jupyter-widgets/controls",
      "_model_module_version": "1.5.0",
      "_model_name": "HTMLModel",
      "_view_count": null,
      "_view_module": "@jupyter-widgets/controls",
      "_view_module_version": "1.5.0",
      "_view_name": "HTMLView",
      "description": "",
      "description_tooltip": null,
      "layout": "IPY_MODEL_2aa32422748943759daf5ef05077bda0",
      "placeholder": "​",
      "style": "IPY_MODEL_e7c672eb19574b32811bdcc3f6ac0b34",
      "value": " 1/1 [11:44&lt;00:00, 704.92s/it]"
     }
    },
    "d0c85ebbf1a54fdcaa33210aa3e247b8": {
     "model_module": "@jupyter-widgets/controls",
     "model_module_version": "1.5.0",
     "model_name": "DescriptionStyleModel",
     "state": {
      "_model_module": "@jupyter-widgets/controls",
      "_model_module_version": "1.5.0",
      "_model_name": "DescriptionStyleModel",
      "_view_count": null,
      "_view_module": "@jupyter-widgets/base",
      "_view_module_version": "1.2.0",
      "_view_name": "StyleView",
      "description_width": ""
     }
    },
    "d7959d1933e5466095bed23bb268afd5": {
     "model_module": "@jupyter-widgets/controls",
     "model_module_version": "1.5.0",
     "model_name": "DescriptionStyleModel",
     "state": {
      "_model_module": "@jupyter-widgets/controls",
      "_model_module_version": "1.5.0",
      "_model_name": "DescriptionStyleModel",
      "_view_count": null,
      "_view_module": "@jupyter-widgets/base",
      "_view_module_version": "1.2.0",
      "_view_name": "StyleView",
      "description_width": ""
     }
    },
    "d9f6781147a24bc3aec97b87927bdfbb": {
     "model_module": "@jupyter-widgets/base",
     "model_module_version": "1.2.0",
     "model_name": "LayoutModel",
     "state": {
      "_model_module": "@jupyter-widgets/base",
      "_model_module_version": "1.2.0",
      "_model_name": "LayoutModel",
      "_view_count": null,
      "_view_module": "@jupyter-widgets/base",
      "_view_module_version": "1.2.0",
      "_view_name": "LayoutView",
      "align_content": null,
      "align_items": null,
      "align_self": null,
      "border": null,
      "bottom": null,
      "display": null,
      "flex": null,
      "flex_flow": null,
      "grid_area": null,
      "grid_auto_columns": null,
      "grid_auto_flow": null,
      "grid_auto_rows": null,
      "grid_column": null,
      "grid_gap": null,
      "grid_row": null,
      "grid_template_areas": null,
      "grid_template_columns": null,
      "grid_template_rows": null,
      "height": null,
      "justify_content": null,
      "justify_items": null,
      "left": null,
      "margin": null,
      "max_height": null,
      "max_width": null,
      "min_height": null,
      "min_width": null,
      "object_fit": null,
      "object_position": null,
      "order": null,
      "overflow": null,
      "overflow_x": null,
      "overflow_y": null,
      "padding": null,
      "right": null,
      "top": null,
      "visibility": null,
      "width": null
     }
    },
    "dbca2d7da970438892d45cd387434f6f": {
     "model_module": "@jupyter-widgets/controls",
     "model_module_version": "1.5.0",
     "model_name": "HBoxModel",
     "state": {
      "_dom_classes": [],
      "_model_module": "@jupyter-widgets/controls",
      "_model_module_version": "1.5.0",
      "_model_name": "HBoxModel",
      "_view_count": null,
      "_view_module": "@jupyter-widgets/controls",
      "_view_module_version": "1.5.0",
      "_view_name": "HBoxView",
      "box_style": "",
      "children": [
       "IPY_MODEL_6f5389fdc3674a05ad79bb9456a5995f",
       "IPY_MODEL_7a5c511f2fe84c66beef7fed87023669",
       "IPY_MODEL_70e45cb4f2f64c499acc785ec64743fe"
      ],
      "layout": "IPY_MODEL_bb260568c96a4397bba2b1058404eec2"
     }
    },
    "dc26c84713fb45f5a6c5b870c96d9d9e": {
     "model_module": "@jupyter-widgets/base",
     "model_module_version": "1.2.0",
     "model_name": "LayoutModel",
     "state": {
      "_model_module": "@jupyter-widgets/base",
      "_model_module_version": "1.2.0",
      "_model_name": "LayoutModel",
      "_view_count": null,
      "_view_module": "@jupyter-widgets/base",
      "_view_module_version": "1.2.0",
      "_view_name": "LayoutView",
      "align_content": null,
      "align_items": null,
      "align_self": null,
      "border": null,
      "bottom": null,
      "display": null,
      "flex": null,
      "flex_flow": null,
      "grid_area": null,
      "grid_auto_columns": null,
      "grid_auto_flow": null,
      "grid_auto_rows": null,
      "grid_column": null,
      "grid_gap": null,
      "grid_row": null,
      "grid_template_areas": null,
      "grid_template_columns": null,
      "grid_template_rows": null,
      "height": null,
      "justify_content": null,
      "justify_items": null,
      "left": null,
      "margin": null,
      "max_height": null,
      "max_width": null,
      "min_height": null,
      "min_width": null,
      "object_fit": null,
      "object_position": null,
      "order": null,
      "overflow": null,
      "overflow_x": null,
      "overflow_y": null,
      "padding": null,
      "right": null,
      "top": null,
      "visibility": null,
      "width": null
     }
    },
    "e1d8ec56e5614d77a6999a42283be94b": {
     "model_module": "@jupyter-widgets/controls",
     "model_module_version": "1.5.0",
     "model_name": "DescriptionStyleModel",
     "state": {
      "_model_module": "@jupyter-widgets/controls",
      "_model_module_version": "1.5.0",
      "_model_name": "DescriptionStyleModel",
      "_view_count": null,
      "_view_module": "@jupyter-widgets/base",
      "_view_module_version": "1.2.0",
      "_view_name": "StyleView",
      "description_width": ""
     }
    },
    "e281ca37b72d422285aa64193265aaa4": {
     "model_module": "@jupyter-widgets/base",
     "model_module_version": "1.2.0",
     "model_name": "LayoutModel",
     "state": {
      "_model_module": "@jupyter-widgets/base",
      "_model_module_version": "1.2.0",
      "_model_name": "LayoutModel",
      "_view_count": null,
      "_view_module": "@jupyter-widgets/base",
      "_view_module_version": "1.2.0",
      "_view_name": "LayoutView",
      "align_content": null,
      "align_items": null,
      "align_self": null,
      "border": null,
      "bottom": null,
      "display": null,
      "flex": null,
      "flex_flow": null,
      "grid_area": null,
      "grid_auto_columns": null,
      "grid_auto_flow": null,
      "grid_auto_rows": null,
      "grid_column": null,
      "grid_gap": null,
      "grid_row": null,
      "grid_template_areas": null,
      "grid_template_columns": null,
      "grid_template_rows": null,
      "height": null,
      "justify_content": null,
      "justify_items": null,
      "left": null,
      "margin": null,
      "max_height": null,
      "max_width": null,
      "min_height": null,
      "min_width": null,
      "object_fit": null,
      "object_position": null,
      "order": null,
      "overflow": null,
      "overflow_x": null,
      "overflow_y": null,
      "padding": null,
      "right": null,
      "top": null,
      "visibility": null,
      "width": null
     }
    },
    "e31ae00bfabe4ed5b058d7dbe55a80f6": {
     "model_module": "@jupyter-widgets/controls",
     "model_module_version": "1.5.0",
     "model_name": "HBoxModel",
     "state": {
      "_dom_classes": [],
      "_model_module": "@jupyter-widgets/controls",
      "_model_module_version": "1.5.0",
      "_model_name": "HBoxModel",
      "_view_count": null,
      "_view_module": "@jupyter-widgets/controls",
      "_view_module_version": "1.5.0",
      "_view_name": "HBoxView",
      "box_style": "",
      "children": [
       "IPY_MODEL_b9fbabd33a2a4d0a94055cd086d83228",
       "IPY_MODEL_b281e2a5a8204b52827f01316d637952",
       "IPY_MODEL_cdd38d9a948a4a4c8408dcb06d7c584a"
      ],
      "layout": "IPY_MODEL_b86aa89087cb425198afa2db30d86600"
     }
    },
    "e5a88639e7e5430fbe44f73d2e5a4b23": {
     "model_module": "@jupyter-widgets/controls",
     "model_module_version": "1.5.0",
     "model_name": "ProgressStyleModel",
     "state": {
      "_model_module": "@jupyter-widgets/controls",
      "_model_module_version": "1.5.0",
      "_model_name": "ProgressStyleModel",
      "_view_count": null,
      "_view_module": "@jupyter-widgets/base",
      "_view_module_version": "1.2.0",
      "_view_name": "StyleView",
      "bar_color": null,
      "description_width": ""
     }
    },
    "e732511315484861b39d0efb86b9cfb5": {
     "model_module": "@jupyter-widgets/base",
     "model_module_version": "1.2.0",
     "model_name": "LayoutModel",
     "state": {
      "_model_module": "@jupyter-widgets/base",
      "_model_module_version": "1.2.0",
      "_model_name": "LayoutModel",
      "_view_count": null,
      "_view_module": "@jupyter-widgets/base",
      "_view_module_version": "1.2.0",
      "_view_name": "LayoutView",
      "align_content": null,
      "align_items": null,
      "align_self": null,
      "border": null,
      "bottom": null,
      "display": null,
      "flex": null,
      "flex_flow": null,
      "grid_area": null,
      "grid_auto_columns": null,
      "grid_auto_flow": null,
      "grid_auto_rows": null,
      "grid_column": null,
      "grid_gap": null,
      "grid_row": null,
      "grid_template_areas": null,
      "grid_template_columns": null,
      "grid_template_rows": null,
      "height": null,
      "justify_content": null,
      "justify_items": null,
      "left": null,
      "margin": null,
      "max_height": null,
      "max_width": null,
      "min_height": null,
      "min_width": null,
      "object_fit": null,
      "object_position": null,
      "order": null,
      "overflow": null,
      "overflow_x": null,
      "overflow_y": null,
      "padding": null,
      "right": null,
      "top": null,
      "visibility": null,
      "width": null
     }
    },
    "e7c672eb19574b32811bdcc3f6ac0b34": {
     "model_module": "@jupyter-widgets/controls",
     "model_module_version": "1.5.0",
     "model_name": "DescriptionStyleModel",
     "state": {
      "_model_module": "@jupyter-widgets/controls",
      "_model_module_version": "1.5.0",
      "_model_name": "DescriptionStyleModel",
      "_view_count": null,
      "_view_module": "@jupyter-widgets/base",
      "_view_module_version": "1.2.0",
      "_view_name": "StyleView",
      "description_width": ""
     }
    },
    "ea3f511248734bbab197277b68346826": {
     "model_module": "@jupyter-widgets/controls",
     "model_module_version": "1.5.0",
     "model_name": "FloatProgressModel",
     "state": {
      "_dom_classes": [],
      "_model_module": "@jupyter-widgets/controls",
      "_model_module_version": "1.5.0",
      "_model_name": "FloatProgressModel",
      "_view_count": null,
      "_view_module": "@jupyter-widgets/controls",
      "_view_module_version": "1.5.0",
      "_view_name": "ProgressView",
      "bar_style": "success",
      "description": "",
      "description_tooltip": null,
      "layout": "IPY_MODEL_7ab68b0af00248f5bbc15a39bbf38166",
      "max": 1,
      "min": 0,
      "orientation": "horizontal",
      "style": "IPY_MODEL_b6ecc1cc5b2e4332b56fdc1614823d3e",
      "value": 1
     }
    },
    "ecc8ed6e869d4b01b7905ca951d0068c": {
     "model_module": "@jupyter-widgets/base",
     "model_module_version": "1.2.0",
     "model_name": "LayoutModel",
     "state": {
      "_model_module": "@jupyter-widgets/base",
      "_model_module_version": "1.2.0",
      "_model_name": "LayoutModel",
      "_view_count": null,
      "_view_module": "@jupyter-widgets/base",
      "_view_module_version": "1.2.0",
      "_view_name": "LayoutView",
      "align_content": null,
      "align_items": null,
      "align_self": null,
      "border": null,
      "bottom": null,
      "display": null,
      "flex": null,
      "flex_flow": null,
      "grid_area": null,
      "grid_auto_columns": null,
      "grid_auto_flow": null,
      "grid_auto_rows": null,
      "grid_column": null,
      "grid_gap": null,
      "grid_row": null,
      "grid_template_areas": null,
      "grid_template_columns": null,
      "grid_template_rows": null,
      "height": null,
      "justify_content": null,
      "justify_items": null,
      "left": null,
      "margin": null,
      "max_height": null,
      "max_width": null,
      "min_height": null,
      "min_width": null,
      "object_fit": null,
      "object_position": null,
      "order": null,
      "overflow": null,
      "overflow_x": null,
      "overflow_y": null,
      "padding": null,
      "right": null,
      "top": null,
      "visibility": null,
      "width": null
     }
    },
    "f36d8f08f6284b848622fd560196cc78": {
     "model_module": "@jupyter-widgets/controls",
     "model_module_version": "1.5.0",
     "model_name": "HBoxModel",
     "state": {
      "_dom_classes": [],
      "_model_module": "@jupyter-widgets/controls",
      "_model_module_version": "1.5.0",
      "_model_name": "HBoxModel",
      "_view_count": null,
      "_view_module": "@jupyter-widgets/controls",
      "_view_module_version": "1.5.0",
      "_view_name": "HBoxView",
      "box_style": "",
      "children": [
       "IPY_MODEL_608d1345487046ceb64b0b31a4287ae0",
       "IPY_MODEL_43c8db4be4984f6da1540de6bc89b616",
       "IPY_MODEL_6cb81ad9ee8141aa9d0fbefc276f244d"
      ],
      "layout": "IPY_MODEL_8e989ddf9d274876a3ba06056e7147a1"
     }
    },
    "f78b642ffb784f9097e0cbf97c44b9bd": {
     "model_module": "@jupyter-widgets/controls",
     "model_module_version": "1.5.0",
     "model_name": "FloatProgressModel",
     "state": {
      "_dom_classes": [],
      "_model_module": "@jupyter-widgets/controls",
      "_model_module_version": "1.5.0",
      "_model_name": "FloatProgressModel",
      "_view_count": null,
      "_view_module": "@jupyter-widgets/controls",
      "_view_module_version": "1.5.0",
      "_view_name": "ProgressView",
      "bar_style": "success",
      "description": "",
      "description_tooltip": null,
      "layout": "IPY_MODEL_4f4986d008434fc9912c496636b40b38",
      "max": 36,
      "min": 0,
      "orientation": "horizontal",
      "style": "IPY_MODEL_348701c9256e4eb48b8ffb0d9c0d6c83",
      "value": 36
     }
    },
    "fa6089718c574ee19bd3c378e356ea6b": {
     "model_module": "@jupyter-widgets/controls",
     "model_module_version": "1.5.0",
     "model_name": "HTMLModel",
     "state": {
      "_dom_classes": [],
      "_model_module": "@jupyter-widgets/controls",
      "_model_module_version": "1.5.0",
      "_model_name": "HTMLModel",
      "_view_count": null,
      "_view_module": "@jupyter-widgets/controls",
      "_view_module_version": "1.5.0",
      "_view_name": "HTMLView",
      "description": "",
      "description_tooltip": null,
      "layout": "IPY_MODEL_2c83393c2b7745889765d8efb4890763",
      "placeholder": "​",
      "style": "IPY_MODEL_6854fe2978954c7b9e30202a6ea34b57",
      "value": "Batches: 100%"
     }
    },
    "fce9aa1662c34941afadd6141aba9180": {
     "model_module": "@jupyter-widgets/base",
     "model_module_version": "1.2.0",
     "model_name": "LayoutModel",
     "state": {
      "_model_module": "@jupyter-widgets/base",
      "_model_module_version": "1.2.0",
      "_model_name": "LayoutModel",
      "_view_count": null,
      "_view_module": "@jupyter-widgets/base",
      "_view_module_version": "1.2.0",
      "_view_name": "LayoutView",
      "align_content": null,
      "align_items": null,
      "align_self": null,
      "border": null,
      "bottom": null,
      "display": null,
      "flex": null,
      "flex_flow": null,
      "grid_area": null,
      "grid_auto_columns": null,
      "grid_auto_flow": null,
      "grid_auto_rows": null,
      "grid_column": null,
      "grid_gap": null,
      "grid_row": null,
      "grid_template_areas": null,
      "grid_template_columns": null,
      "grid_template_rows": null,
      "height": null,
      "justify_content": null,
      "justify_items": null,
      "left": null,
      "margin": null,
      "max_height": null,
      "max_width": null,
      "min_height": null,
      "min_width": null,
      "object_fit": null,
      "object_position": null,
      "order": null,
      "overflow": null,
      "overflow_x": null,
      "overflow_y": null,
      "padding": null,
      "right": null,
      "top": null,
      "visibility": null,
      "width": null
     }
    }
   }
  }
 },
 "nbformat": 4,
 "nbformat_minor": 5
}
